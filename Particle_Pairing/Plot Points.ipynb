{
 "cells": [
  {
   "cell_type": "code",
   "execution_count": 89,
   "metadata": {},
   "outputs": [
    {
     "name": "stdout",
     "output_type": "stream",
     "text": [
      "(0, 0.4540890406258284, 0.45294866668155565)\n",
      "(1, 0.744208395562533, 0.7608805555110763)\n",
      "(2, 0.07421966007249738, 0.08058780307396288)\n",
      "(3, 0.29432460948534067, 0.3066839449130208)\n"
     ]
    },
    {
     "data": {
      "image/png": "[encoded data removed]",
      "text/plain": [
       "<matplotlib.figure.Figure at 0x109e81110>"
      ]
     },
     "metadata": {},
     "output_type": "display_data"
    }
   ],
   "source": [
    "import matplotlib as mpl\n",
    "import matplotlib.pyplot as plt\n",
    "import numpy as np\n",
    "import pandas as pd\n",
    "#import cv2\n",
    "from pandas import DataFrame, Series  # for convenience\n",
    "from scipy.misc import imsave\n",
    "from scipy.misc import imread\n",
    "#import pims\n",
    "#import trackpy as tp\n",
    "#from pims import Frame\n",
    "import math\n",
    "#The coordinate of matrix should be Top Left.\n",
    "TL = [[1.1040E-07,2.2954E-05,-4.1584E-03],[1.7160E-05,-1.0348E-06,6.8654E-02],[-3.4505E-03,-7.3661E-02,9.9490E-01]]\n",
    "BL = [[-1.0175E-07,2.1155E-05,-4.2910E-03],[1.5815E-05,9.5369E-07,6.2907E-02],[-2.8931E-03,-6.8254E-02,9.9567E-01]]\n",
    "BR = [[5.7149E-08,1.1882E-05,-2.4321E-03],[8.8831E-06,-5.3566E-07,-3.8744E-02],[-1.6469E-03,3.3774E-02,9.9867E-01]]\n",
    "TR = [[-5.7704E-08,1.1998E-05,-2.1514E-03],[8.9694E-06,5.4087E-07,-3.9328E-02],[-1.7813E-03,3.3894E-02,9.9865E-01]]\n",
    "normal = np.max(TL)\n",
    "MatrixL = np.array(TL)/normal\n",
    "MatrixR = MatrixL.transpose()\n",
    "PL = []\n",
    "PR = []\n",
    "LINEL = []\n",
    "LINER = []\n",
    "Pl0 = [181.544,384-211.678] # point in the left\n",
    "Pr0 = [59.61,384-211.61] # point in the right\n",
    "Pl1 = [223.43,384-240] \n",
    "Pr1 = [99.95,384-241.25] \n",
    "Pl2 = [318.36,384-180.55] \n",
    "Pr2 = [223.26,384-178.93] \n",
    "Pl3 = [247.01,384-228.00] \n",
    "Pr3 = [147.036,384-228.629]\n",
    "Pl4 = [384-268.1624283,384-196.9579168]\n",
    "Pr4 = [384-380.9819863,384-197.3868557]\n",
    "Pl5 = [384-122.4970724,384-255.5938338]\n",
    "Pr5 = [384-254.4025837,384-258.4559182]\n",
    "Pl6 = [384-101.9839782,384-328.4487622]\n",
    "Pr6 = [384-157.0699359,384-328.4861723]\n",
    "Pl7 = [384-117.1437091,384-372.7670914]\n",
    "Pr7 = [384-154.1756298,384-372.2922456]\n",
    "Pl8 = [384-69.04573449,384-327.5660105]\n",
    "Pr8 = [384-200.9878585,384-327.1738984]\n",
    "Pl9 = [384-159.2819549,384-306.8727401]\n",
    "Pr9 = [384-277.7101701,384-313.5317582]\n",
    "PL.append(Pl0)\n",
    "PL.append(Pl1)\n",
    "PL.append(Pl2)\n",
    "PL.append(Pl3)\n",
    "PL.append(Pl4)\n",
    "PL.append(Pl5)\n",
    "PL.append(Pl6)\n",
    "PL.append(Pl7)\n",
    "PL.append(Pl8)\n",
    "PL.append(Pl9)\n",
    "PR.append(Pr0)\n",
    "PR.append(Pr1)\n",
    "PR.append(Pr2)\n",
    "PR.append(Pr3)\n",
    "PR.append(Pr4)\n",
    "PR.append(Pr5)\n",
    "PR.append(Pr6)\n",
    "PR.append(Pr7)\n",
    "PR.append(Pr8)\n",
    "PR.append(Pr9)\n",
    "imgL = imread('v0.png')\n",
    "imgR = imread('u0.png')\n",
    "plt.figure(figsize=(12,12))\n",
    "#plt.imshow(imgL+imgR)\n",
    "x = np.arange(0,384,1)\n",
    "for ip in range(0,4):\n",
    "    ipL = PL[ip]\n",
    "    ipR = PR[ip]\n",
    "    off = np.ones((1,1))\n",
    "    ipL = np.append(ipL, off)\n",
    "    ipR = np.append(ipR, off)\n",
    "    LineL = np.dot(ipR,MatrixR) #points in the right frame and the corresponding epipolar lines in the left frame\n",
    "    LineR = np.dot(ipL,MatrixL) #points in the left frame and the corresponding epipolar lines in the right frame\n",
    "    LINEL.append(LineL)\n",
    "    LINER.append(LineR)\n",
    "    yL = (-LineL[2]-LineL[0]*x)/LineL[1]\n",
    "    yR = (-LineR[2]-LineR[0]*x)/LineR[1]\n",
    "\n",
    "    dlr = math.fabs(np.dot(ipL,LineL))/math.sqrt(LineL[0]*LineL[0]+LineL[1]*LineL[1])\n",
    "    drl = math.fabs(np.dot(ipR,LineR))/math.sqrt(LineR[0]*LineR[0]+LineR[1]*LineR[1])  \n",
    "    plt.plot(x,yL,color='g')\n",
    "    plt.plot(x,yR,color='r')\n",
    "    plt.plot(PR[ip][0],PR[ip][1],\"o\",color='r')    \n",
    "    plt.plot(PL[ip][0],PL[ip][1],\"o\",color='g')  \n",
    "    print(ip,dlr,drl)\n",
    "plt.show()"
   ]
  },
  {
   "cell_type": "code",
   "execution_count": 86,
   "metadata": {},
   "outputs": [],
   "source": [
    "#Calculate the distance between the point ic and all other epipolar lines corresponding to the points in the other frame.\n",
    "#The minimum should be the correct particle pair. \n",
    "off = np.ones((1,1))\n",
    "for ip1 in range(len(PL)):\n",
    "    ic = ip1\n",
    "    DLR = []\n",
    "    DRL = []\n",
    "    MinInd = 0\n",
    "    Min = 10000\n",
    "    for ip in range(len(PL)):\n",
    "        ipL0 = PL[ic]\n",
    "        ipR0 = PR[ic]\n",
    "        ipL0 = np.append(ipL0, off)\n",
    "        ipR0 = np.append(ipR0, off)\n",
    "        ipL = PL[ip]\n",
    "        ipR = PR[ip]\n",
    "        ipL = np.append(ipL, off)\n",
    "        ipR = np.append(ipR, off)\n",
    "        LineL = np.dot(ipR,MatrixR) #points in the right frame and the corresponding epipolar lines in the left frame\n",
    "        LineR = np.dot(ipL,MatrixL) #points in the left frame and the corresponding epipolar lines in the right frame\n",
    "        yL = (-LineL[2]-LineL[0]*x)/LineL[1]\n",
    "        yR = (-LineR[2]-LineR[0]*x)/LineR[1]\n",
    "        dlr = math.fabs(np.dot(ipL0,LineL))/math.sqrt(LineL[0]*LineL[0]+LineL[1]*LineL[1])\n",
    "        drl = math.fabs(np.dot(ipR0,LineR))/math.sqrt(LineR[0]*LineR[0]+LineR[1]*LineR[1])\n",
    "        FF = dlr+drl\n",
    "        #print(ip1,ip,dlr,drl,FF)\n",
    "        if(FF<Min):\n",
    "            MinInd = ip\n",
    "            Min = FF\n",
    "        DLR.append(dlr)\n",
    "        DRL.append(drl) "
   ]
  },
  {
   "cell_type": "code",
   "execution_count": 75,
   "metadata": {},
   "outputs": [
    {
     "ename": "IndexError",
     "evalue": "list index out of range",
     "output_type": "error",
     "traceback": [
      "\u001b[0;31m---------------------------------------------------------------------------\u001b[0m",
      "\u001b[0;31mIndexError\u001b[0m                                Traceback (most recent call last)",
      "\u001b[0;32m<ipython-input-75-c9594f0ba914>\u001b[0m in \u001b[0;36m<module>\u001b[0;34m()\u001b[0m\n\u001b[1;32m      2\u001b[0m \u001b[0mplt\u001b[0m\u001b[0;34m.\u001b[0m\u001b[0mfigure\u001b[0m\u001b[0;34m(\u001b[0m\u001b[0;34m)\u001b[0m\u001b[0;34m\u001b[0m\u001b[0m\n\u001b[1;32m      3\u001b[0m \u001b[0mplt\u001b[0m\u001b[0;34m.\u001b[0m\u001b[0mimshow\u001b[0m\u001b[0;34m(\u001b[0m\u001b[0mimgL\u001b[0m\u001b[0;34m)\u001b[0m\u001b[0;34m\u001b[0m\u001b[0m\n\u001b[0;32m----> 4\u001b[0;31m \u001b[0myL6\u001b[0m \u001b[0;34m=\u001b[0m \u001b[0;34m(\u001b[0m\u001b[0;34m-\u001b[0m\u001b[0mLINEL\u001b[0m\u001b[0;34m[\u001b[0m\u001b[0;36m6\u001b[0m\u001b[0;34m]\u001b[0m\u001b[0;34m[\u001b[0m\u001b[0;36m2\u001b[0m\u001b[0;34m]\u001b[0m\u001b[0;34m-\u001b[0m\u001b[0mLINEL\u001b[0m\u001b[0;34m[\u001b[0m\u001b[0;36m6\u001b[0m\u001b[0;34m]\u001b[0m\u001b[0;34m[\u001b[0m\u001b[0;36m0\u001b[0m\u001b[0;34m]\u001b[0m\u001b[0;34m*\u001b[0m\u001b[0mx\u001b[0m\u001b[0;34m)\u001b[0m\u001b[0;34m/\u001b[0m\u001b[0mLINEL\u001b[0m\u001b[0;34m[\u001b[0m\u001b[0;36m6\u001b[0m\u001b[0;34m]\u001b[0m\u001b[0;34m[\u001b[0m\u001b[0;36m1\u001b[0m\u001b[0;34m]\u001b[0m\u001b[0;34m\u001b[0m\u001b[0m\n\u001b[0m\u001b[1;32m      5\u001b[0m \u001b[0myR6\u001b[0m \u001b[0;34m=\u001b[0m \u001b[0;34m(\u001b[0m\u001b[0;34m-\u001b[0m\u001b[0mLINER\u001b[0m\u001b[0;34m[\u001b[0m\u001b[0;36m6\u001b[0m\u001b[0;34m]\u001b[0m\u001b[0;34m[\u001b[0m\u001b[0;36m2\u001b[0m\u001b[0;34m]\u001b[0m\u001b[0;34m-\u001b[0m\u001b[0mLINER\u001b[0m\u001b[0;34m[\u001b[0m\u001b[0;36m6\u001b[0m\u001b[0;34m]\u001b[0m\u001b[0;34m[\u001b[0m\u001b[0;36m0\u001b[0m\u001b[0;34m]\u001b[0m\u001b[0;34m*\u001b[0m\u001b[0mx\u001b[0m\u001b[0;34m)\u001b[0m\u001b[0;34m/\u001b[0m\u001b[0mLINER\u001b[0m\u001b[0;34m[\u001b[0m\u001b[0;36m6\u001b[0m\u001b[0;34m]\u001b[0m\u001b[0;34m[\u001b[0m\u001b[0;36m1\u001b[0m\u001b[0;34m]\u001b[0m\u001b[0;34m\u001b[0m\u001b[0m\n\u001b[1;32m      6\u001b[0m \u001b[0myL8\u001b[0m \u001b[0;34m=\u001b[0m \u001b[0;34m(\u001b[0m\u001b[0;34m-\u001b[0m\u001b[0mLINEL\u001b[0m\u001b[0;34m[\u001b[0m\u001b[0;36m8\u001b[0m\u001b[0;34m]\u001b[0m\u001b[0;34m[\u001b[0m\u001b[0;36m2\u001b[0m\u001b[0;34m]\u001b[0m\u001b[0;34m-\u001b[0m\u001b[0mLINEL\u001b[0m\u001b[0;34m[\u001b[0m\u001b[0;36m8\u001b[0m\u001b[0;34m]\u001b[0m\u001b[0;34m[\u001b[0m\u001b[0;36m0\u001b[0m\u001b[0;34m]\u001b[0m\u001b[0;34m*\u001b[0m\u001b[0mx\u001b[0m\u001b[0;34m)\u001b[0m\u001b[0;34m/\u001b[0m\u001b[0mLINEL\u001b[0m\u001b[0;34m[\u001b[0m\u001b[0;36m8\u001b[0m\u001b[0;34m]\u001b[0m\u001b[0;34m[\u001b[0m\u001b[0;36m1\u001b[0m\u001b[0;34m]\u001b[0m\u001b[0;34m\u001b[0m\u001b[0m\n",
      "\u001b[0;31mIndexError\u001b[0m: list index out of range"
     ]
    }
   ],
   "source": [
    "#Compare point 6 and point 8; Since they are very close, itt is possible to have wrong particle pairing.\n",
    "plt.figure()\n",
    "plt.imshow(imgL)\n",
    "yL6 = (-LINEL[6][2]-LINEL[6][0]*x)/LINEL[6][1]\n",
    "yR6 = (-LINER[6][2]-LINER[6][0]*x)/LINER[6][1]\n",
    "yL8 = (-LINEL[8][2]-LINEL[8][0]*x)/LINEL[8][1]\n",
    "yR8 = (-LINER[8][2]-LINER[8][0]*x)/LINER[8][1]\n",
    "plt.plot(PL[6][0],PL[6][1],\"o\",color='r')    \n",
    "#plt.plot(PR[6][0],PR[6][1],\"o\",color='g')  \n",
    "plt.plot(x,yL6,color='r')\n",
    "#plt.plot(x,yR6,color='g')\n",
    "plt.plot(PL[8][0],PL[8][1],\"+\",color='b')   \n",
    "#plt.plot(PR[8][0],PR[8][1],\"+\",color='y')  \n",
    "plt.plot(x,yL8,color='b')\n",
    "#plt.plot(x,yR8,color='y')\n",
    "plt.show()"
   ]
  },
  {
   "cell_type": "code",
   "execution_count": null,
   "metadata": {
    "collapsed": true
   },
   "outputs": [],
   "source": []
  },
  {
   "cell_type": "code",
   "execution_count": null,
   "metadata": {
    "collapsed": true
   },
   "outputs": [],
   "source": []
  }
 ],
 "metadata": {
  "kernelspec": {
   "display_name": "Python 2",
   "language": "python",
   "name": "python2"
  },
  "language_info": {
   "codemirror_mode": {
    "name": "ipython",
    "version": 2
   },
   "file_extension": ".py",
   "mimetype": "text/x-python",
   "name": "python",
   "nbconvert_exporter": "python",
   "pygments_lexer": "ipython2",
   "version": "2.7.13"
  }
 },
 "nbformat": 4,
 "nbformat_minor": 2
}
