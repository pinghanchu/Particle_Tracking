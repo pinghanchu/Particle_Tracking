{
 "cells": [
  {
   "cell_type": "code",
   "execution_count": 1,
   "metadata": {
    "collapsed": true
   },
   "outputs": [],
   "source": [
    "import matplotlib as mpl\n",
    "import matplotlib.pyplot as plt\n",
    "import numpy as np\n",
    "import pandas as pd\n",
    "from pandas import DataFrame, Series  # for convenience\n",
    "import pims\n",
    "import trackpy as tp\n",
    "import trackpy.predict\n",
    "from scipy.misc import imsave\n",
    "from scipy.misc import imread\n",
    "import math\n",
    "################################################\n",
    "# Read frames which have been data-cleaned (wire_particle_tracking_datacleaning). \n",
    "################################################\n",
    "picL = 18333\n",
    "picR = 18158\n",
    "FrameL = pims.ImageSequence('/Users/pinghanchu/Documents/Git/Data/Clean_Data_Shot119_Cam_{}/testsample/frame_*.tif'.format(picL))\n",
    "FrameR = pims.ImageSequence('/Users/pinghanchu/Documents/Git/Data/Clean_Data_Shot119_Cam_{}/testsample/frame_*.tif'.format(picR))\n",
    "#FrameL = pims.ImageSequence('/Users/pinghanchu/Documents/Git/Data/Clean_Data_Shot119_Cam_{}/frame_white_*.tif'.format(picL))\n",
    "#FrameR = pims.ImageSequence('/Users/pinghanchu/Documents/Git/Data/Clean_Data_Shot119_Cam_{}/frame_white_*.tif'.format(picR))\n",
    "v0L = imread('./frame_18333_sum.tif')\n",
    "v0R = imread('./frame_18158_sum.tif')"
   ]
  },
  {
   "cell_type": "code",
   "execution_count": 2,
   "metadata": {
    "collapsed": true
   },
   "outputs": [],
   "source": [
    "###################################\n",
    "#Locate Features; single frame test\n",
    "###################################\n",
    "#init_index = 100\n",
    "#f = tp.locate(FrameL[init_index], 3, minmass=5) \n",
    "#Show points located. It will be better to have more points rather than missing points.\n",
    "#plt.figure(figsize=[12,12])  # make a new figure\n",
    "#tp.annotate(f, FrameL[init_index]);"
   ]
  },
  {
   "cell_type": "code",
   "execution_count": 3,
   "metadata": {
    "collapsed": true
   },
   "outputs": [],
   "source": [
    "#Show 'mass' distribution\n",
    "#fig, ax = plt.subplots()\n",
    "#ax.hist(f['mass'], bins=20)\n",
    "# Optionally, label the axes.\n",
    "#ax.set(xlabel='mass', ylabel='count');\n",
    "#plt.show()"
   ]
  },
  {
   "cell_type": "code",
   "execution_count": 4,
   "metadata": {},
   "outputs": [
    {
     "name": "stdout",
     "output_type": "stream",
     "text": [
      "Frame 2047: 82 features\n"
     ]
    },
    {
     "ename": "KeyboardInterrupt",
     "evalue": "",
     "output_type": "error",
     "traceback": [
      "\u001b[0;31m---------------------------------------------------------------------------\u001b[0m",
      "\u001b[0;31mKeyboardInterrupt\u001b[0m                         Traceback (most recent call last)",
      "\u001b[0;32m<ipython-input-4-a0f6e42b7fc4>\u001b[0m in \u001b[0;36m<module>\u001b[0;34m()\u001b[0m\n\u001b[1;32m      5\u001b[0m \u001b[0mpred\u001b[0m \u001b[0;34m=\u001b[0m \u001b[0mtrackpy\u001b[0m\u001b[0;34m.\u001b[0m\u001b[0mpredict\u001b[0m\u001b[0;34m.\u001b[0m\u001b[0mNearestVelocityPredict\u001b[0m\u001b[0;34m(\u001b[0m\u001b[0;34m)\u001b[0m\u001b[0;34m\u001b[0m\u001b[0m\n\u001b[1;32m      6\u001b[0m \u001b[0;31m#pred = trackpy.predict.ChannelPredict(0.5, 'x', minsamples=3)\u001b[0m\u001b[0;34m\u001b[0m\u001b[0;34m\u001b[0m\u001b[0m\n\u001b[0;32m----> 7\u001b[0;31m \u001b[0mfR\u001b[0m \u001b[0;34m=\u001b[0m \u001b[0mtp\u001b[0m\u001b[0;34m.\u001b[0m\u001b[0mbatch\u001b[0m\u001b[0;34m(\u001b[0m\u001b[0mFrameR\u001b[0m\u001b[0;34m,\u001b[0m \u001b[0;36m3\u001b[0m\u001b[0;34m,\u001b[0m \u001b[0mminmass\u001b[0m\u001b[0;34m=\u001b[0m\u001b[0;36m5\u001b[0m\u001b[0;34m)\u001b[0m\u001b[0;34m;\u001b[0m\u001b[0;34m\u001b[0m\u001b[0m\n\u001b[0m\u001b[1;32m      8\u001b[0m \u001b[0mtR\u001b[0m \u001b[0;34m=\u001b[0m \u001b[0mpred\u001b[0m\u001b[0;34m.\u001b[0m\u001b[0mlink_df\u001b[0m\u001b[0;34m(\u001b[0m\u001b[0mfR\u001b[0m\u001b[0;34m,\u001b[0m \u001b[0;36m3\u001b[0m\u001b[0;34m,\u001b[0m \u001b[0mmemory\u001b[0m\u001b[0;34m=\u001b[0m\u001b[0;36m11\u001b[0m\u001b[0;34m,\u001b[0m  \u001b[0mdiagnostics\u001b[0m\u001b[0;34m=\u001b[0m\u001b[0mTrue\u001b[0m\u001b[0;34m)\u001b[0m\u001b[0;34m\u001b[0m\u001b[0m\n\u001b[1;32m      9\u001b[0m \u001b[0mtR\u001b[0m\u001b[0;34m.\u001b[0m\u001b[0mto_csv\u001b[0m\u001b[0;34m(\u001b[0m\u001b[0;34m'trackR_frameless.csv'\u001b[0m\u001b[0;34m)\u001b[0m\u001b[0;34m\u001b[0m\u001b[0m\n",
      "\u001b[0;32m/Users/pinghanchu/anaconda/lib/python2.7/site-packages/trackpy/feature.pyc\u001b[0m in \u001b[0;36mbatch\u001b[0;34m(frames, diameter, minmass, maxsize, separation, noise_size, smoothing_size, threshold, invert, percentile, topn, preprocess, max_iterations, filter_before, filter_after, characterize, engine, output, meta)\u001b[0m\n\u001b[1;32m    807\u001b[0m                           \u001b[0mpercentile\u001b[0m\u001b[0;34m,\u001b[0m \u001b[0mtopn\u001b[0m\u001b[0;34m,\u001b[0m \u001b[0mpreprocess\u001b[0m\u001b[0;34m,\u001b[0m \u001b[0mmax_iterations\u001b[0m\u001b[0;34m,\u001b[0m\u001b[0;34m\u001b[0m\u001b[0m\n\u001b[1;32m    808\u001b[0m                           \u001b[0mfilter_before\u001b[0m\u001b[0;34m,\u001b[0m \u001b[0mfilter_after\u001b[0m\u001b[0;34m,\u001b[0m \u001b[0mcharacterize\u001b[0m\u001b[0;34m,\u001b[0m\u001b[0;34m\u001b[0m\u001b[0m\n\u001b[0;32m--> 809\u001b[0;31m                           engine)\n\u001b[0m\u001b[1;32m    810\u001b[0m         \u001b[0;32mif\u001b[0m \u001b[0mhasattr\u001b[0m\u001b[0;34m(\u001b[0m\u001b[0mimage\u001b[0m\u001b[0;34m,\u001b[0m \u001b[0;34m'frame_no'\u001b[0m\u001b[0;34m)\u001b[0m \u001b[0;32mand\u001b[0m \u001b[0mimage\u001b[0m\u001b[0;34m.\u001b[0m\u001b[0mframe_no\u001b[0m \u001b[0;32mis\u001b[0m \u001b[0;32mnot\u001b[0m \u001b[0mNone\u001b[0m\u001b[0;34m:\u001b[0m\u001b[0;34m\u001b[0m\u001b[0m\n\u001b[1;32m    811\u001b[0m             \u001b[0mframe_no\u001b[0m \u001b[0;34m=\u001b[0m \u001b[0mimage\u001b[0m\u001b[0;34m.\u001b[0m\u001b[0mframe_no\u001b[0m\u001b[0;34m\u001b[0m\u001b[0m\n",
      "\u001b[0;32m/Users/pinghanchu/anaconda/lib/python2.7/site-packages/trackpy/feature.pyc\u001b[0m in \u001b[0;36mlocate\u001b[0;34m(raw_image, diameter, minmass, maxsize, separation, noise_size, smoothing_size, threshold, invert, percentile, topn, preprocess, max_iterations, filter_before, filter_after, characterize, engine)\u001b[0m\n\u001b[1;32m    545\u001b[0m                 \u001b[0;31m# Have you ever encountered an image of unnormalized floats?\u001b[0m\u001b[0;34m\u001b[0m\u001b[0;34m\u001b[0m\u001b[0m\n\u001b[1;32m    546\u001b[0m                 \u001b[0mraw_image\u001b[0m \u001b[0;34m=\u001b[0m \u001b[0;36m1\u001b[0m \u001b[0;34m-\u001b[0m \u001b[0mraw_image\u001b[0m\u001b[0;34m\u001b[0m\u001b[0m\n\u001b[0;32m--> 547\u001b[0;31m         \u001b[0mimage\u001b[0m \u001b[0;34m=\u001b[0m \u001b[0mbandpass\u001b[0m\u001b[0;34m(\u001b[0m\u001b[0mraw_image\u001b[0m\u001b[0;34m,\u001b[0m \u001b[0mnoise_size\u001b[0m\u001b[0;34m,\u001b[0m \u001b[0msmoothing_size\u001b[0m\u001b[0;34m,\u001b[0m \u001b[0mthreshold\u001b[0m\u001b[0;34m)\u001b[0m\u001b[0;34m\u001b[0m\u001b[0m\n\u001b[0m\u001b[1;32m    548\u001b[0m \u001b[0;34m\u001b[0m\u001b[0m\n\u001b[1;32m    549\u001b[0m         \u001b[0;31m# Coerce the image into integer type. Rescale to fill dynamic range.\u001b[0m\u001b[0;34m\u001b[0m\u001b[0;34m\u001b[0m\u001b[0m\n",
      "\u001b[0;32m/Users/pinghanchu/anaconda/lib/python2.7/site-packages/trackpy/preprocessing.pyc\u001b[0m in \u001b[0;36mbandpass\u001b[0;34m(image, lshort, llong, threshold, truncate)\u001b[0m\n\u001b[1;32m     58\u001b[0m         \u001b[0;32mif\u001b[0m \u001b[0msmoothing\u001b[0m \u001b[0;34m>\u001b[0m \u001b[0;36m1\u001b[0m\u001b[0;34m:\u001b[0m\u001b[0;34m\u001b[0m\u001b[0m\n\u001b[1;32m     59\u001b[0m             uniform_filter1d(boxcar, 2*smoothing+1, axis, output=boxcar,\n\u001b[0;32m---> 60\u001b[0;31m                              mode='nearest', cval=0)\n\u001b[0m\u001b[1;32m     61\u001b[0m         \u001b[0;32mif\u001b[0m \u001b[0msigma\u001b[0m \u001b[0;34m>\u001b[0m \u001b[0;36m0\u001b[0m\u001b[0;34m:\u001b[0m\u001b[0;34m\u001b[0m\u001b[0m\n\u001b[1;32m     62\u001b[0m             correlate1d(result, gaussian_kernel(sigma, truncate), axis,\n",
      "\u001b[0;32m/Users/pinghanchu/anaconda/lib/python2.7/site-packages/scipy/ndimage/filters.pyc\u001b[0m in \u001b[0;36muniform_filter1d\u001b[0;34m(input, size, axis, output, mode, cval, origin)\u001b[0m\n\u001b[1;32m    848\u001b[0m     \u001b[0mmode\u001b[0m \u001b[0;34m=\u001b[0m \u001b[0m_ni_support\u001b[0m\u001b[0;34m.\u001b[0m\u001b[0m_extend_mode_to_code\u001b[0m\u001b[0;34m(\u001b[0m\u001b[0mmode\u001b[0m\u001b[0;34m)\u001b[0m\u001b[0;34m\u001b[0m\u001b[0m\n\u001b[1;32m    849\u001b[0m     _nd_image.uniform_filter1d(input, size, axis, output, mode, cval,\n\u001b[0;32m--> 850\u001b[0;31m                                origin)\n\u001b[0m\u001b[1;32m    851\u001b[0m     \u001b[0;32mreturn\u001b[0m \u001b[0mreturn_value\u001b[0m\u001b[0;34m\u001b[0m\u001b[0m\n\u001b[1;32m    852\u001b[0m \u001b[0;34m\u001b[0m\u001b[0m\n",
      "\u001b[0;31mKeyboardInterrupt\u001b[0m: "
     ]
    }
   ],
   "source": [
    "######################################################################\n",
    "#Locate Features; apply the same parameter to all frames\n",
    "######################################################################\n",
    "# Right frame\n",
    "pred = trackpy.predict.NearestVelocityPredict()\n",
    "#pred = trackpy.predict.ChannelPredict(0.5, 'x', minsamples=3)\n",
    "fR = tp.batch(FrameR, 3, minmass=5);\n",
    "tR = pred.link_df(fR, 3, memory=11,  diagnostics=True)\n",
    "tR.to_csv('trackR_frameless.csv')\n",
    "#tR.head()"
   ]
  },
  {
   "cell_type": "code",
   "execution_count": null,
   "metadata": {},
   "outputs": [],
   "source": [
    "#tR = pd.read_csv('../../Data/frameless/trackR_frameless.csv')\n",
    "tR.head()"
   ]
  },
  {
   "cell_type": "code",
   "execution_count": null,
   "metadata": {},
   "outputs": [],
   "source": [
    "plt.figure(figsize=[12,12])\n",
    "tp.plot_traj(tR);"
   ]
  },
  {
   "cell_type": "code",
   "execution_count": null,
   "metadata": {},
   "outputs": [],
   "source": [
    "plt.figure(figsize=[12,12])\n",
    "plt.imshow(v0R)\n",
    "#plt.scatter(tL['x'],tL['y'],s=0.3,c='g')\n",
    "plt.scatter(tR['x'],tR['y'],s=0.3,c=tR['mass'])\n",
    "plt.show()"
   ]
  },
  {
   "cell_type": "code",
   "execution_count": null,
   "metadata": {},
   "outputs": [],
   "source": [
    "tR1 = tp.filter_stubs(tR,500)\n",
    "plt.figure(figsize=[12,12])\n",
    "tp.plot_traj(tR1);"
   ]
  },
  {
   "cell_type": "code",
   "execution_count": null,
   "metadata": {},
   "outputs": [],
   "source": [
    "plt.figure(figsize=[12,12])\n",
    "plt.imshow(v0R)\n",
    "plt.scatter(tR1['x'],tR1['y'],s=0.3,c=tR1['mass'])\n",
    "#plt.scatter(tR1['x'],tL1['y'],s=0.3,c='r')\n",
    "plt.show()"
   ]
  },
  {
   "cell_type": "code",
   "execution_count": null,
   "metadata": {},
   "outputs": [],
   "source": [
    "tR2 = tR1\n",
    "range_limit = 10\n",
    "Range = {}\n",
    "for ii in tR2['particle'].unique():\n",
    "    Track = tR2[tR2['particle']==ii]\n",
    "    xmax = np.max(Track['x'])\n",
    "    xmin = np.min(Track['x'])\n",
    "    ymax = np.max(Track['y'])\n",
    "    ymin = np.min(Track['y'])\n",
    "    ra = math.sqrt((xmax-xmin)*(xmax-xmin)+(ymax-ymin)*(ymax-ymin))\n",
    "    Range[ii] = ra\n",
    "#Range"
   ]
  },
  {
   "cell_type": "code",
   "execution_count": null,
   "metadata": {},
   "outputs": [],
   "source": [
    "RANGE = []\n",
    "for ii in range(len(tR2)):\n",
    "    RANGE.append(Range[tR2['particle'].iloc[ii]])\n",
    "    #print(ii,Range[tR2['particle'].iloc[ii]])"
   ]
  },
  {
   "cell_type": "code",
   "execution_count": null,
   "metadata": {
    "collapsed": true
   },
   "outputs": [],
   "source": [
    "tR2['range'] = RANGE"
   ]
  },
  {
   "cell_type": "code",
   "execution_count": null,
   "metadata": {},
   "outputs": [],
   "source": [
    "tR2.head()"
   ]
  },
  {
   "cell_type": "code",
   "execution_count": null,
   "metadata": {
    "collapsed": true
   },
   "outputs": [],
   "source": [
    "tR3 = tR2[tR2['range']>20]"
   ]
  },
  {
   "cell_type": "code",
   "execution_count": null,
   "metadata": {},
   "outputs": [],
   "source": [
    "plt.figure(figsize=[12,12])\n",
    "plt.imshow(v0R)\n",
    "plt.scatter(tR3['x'],tR3['y'],s=0.3,c=tR3['mass'])\n",
    "#plt.scatter(tR3['x'],tR3['y'],s=0.3,c='r')\n",
    "plt.show()"
   ]
  },
  {
   "cell_type": "code",
   "execution_count": null,
   "metadata": {},
   "outputs": [],
   "source": [
    "for ii in tR3['particle'].unique():\n",
    "#for ii in range(3,4):  \n",
    "    #print(ii)\n",
    "    Track = tR3[tR3['particle']==ii]\n",
    "    xmax = np.max(Track['x'])\n",
    "    xmin = np.min(Track['x'])\n",
    "    ymax = np.max(Track['y'])\n",
    "    ymin = np.min(Track['y'])\n",
    "    plt.figure(figsize=[12,12])\n",
    "    plt.imshow(v0R)\n",
    "    plt.scatter(Track['x'],Track['y'],s=0.7,c=Track['mass'])\n",
    "    plt.ylim(ymin-10,ymax+10)\n",
    "    plt.xlim(xmin-10,xmax+10)\n",
    "    plt.savefig(\"./trackR_framebk_{}.tif\".format(int(ii)))"
   ]
  },
  {
   "cell_type": "code",
   "execution_count": null,
   "metadata": {},
   "outputs": [],
   "source": [
    "plt.figure(figsize=[12,12])\n",
    "tp.plot_traj(tR3);"
   ]
  },
  {
   "cell_type": "code",
   "execution_count": null,
   "metadata": {
    "collapsed": true
   },
   "outputs": [],
   "source": [
    "tR3.to_csv(\"trackR3_frameless.csv\")"
   ]
  },
  {
   "cell_type": "code",
   "execution_count": null,
   "metadata": {
    "collapsed": true
   },
   "outputs": [],
   "source": []
  }
 ],
 "metadata": {
  "kernelspec": {
   "display_name": "Python 2",
   "language": "python",
   "name": "python2"
  },
  "language_info": {
   "codemirror_mode": {
    "name": "ipython",
    "version": 2
   },
   "file_extension": ".py",
   "mimetype": "text/x-python",
   "name": "python",
   "nbconvert_exporter": "python",
   "pygments_lexer": "ipython2",
   "version": "2.7.13"
  }
 },
 "nbformat": 4,
 "nbformat_minor": 2
}
