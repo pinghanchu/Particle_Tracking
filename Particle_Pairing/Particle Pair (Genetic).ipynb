{
 "cells": [
  {
   "cell_type": "code",
   "execution_count": null,
   "metadata": {
    "collapsed": true
   },
   "outputs": [],
   "source": [
    "import matplotlib as mpl\n",
    "import matplotlib.pyplot as plt\n",
    "import numpy as np\n",
    "import pandas as pd\n",
    "import cv2\n",
    "from pandas import DataFrame, Series  # for convenience\n",
    "from scipy.misc import imsave\n",
    "import pims\n",
    "import trackpy as tp\n",
    "from pims import Frame\n",
    "import math\n",
    "\n",
    "################################################\n",
    "# Read csv data of tracking\n",
    "################################################\n",
    "BR = [[5.7149E-08,1.1882E-05,-2.4321E-03],[8.8831E-06,-5.3566E-07,-3.8744E-02],[-1.6469E-03,3.3774E-02,9.9867E-01]]\n",
    "normal = np.max(BR)\n",
    "MatrixL = np.array(BR)/normal\n",
    "MatrixR = MatrixL.transpose()"
   ]
  },
  {
   "cell_type": "code",
   "execution_count": null,
   "metadata": {
    "collapsed": true
   },
   "outputs": [],
   "source": [
    "dfL = pd.read_csv('frameL_point_0.csv')\n",
    "dfR = pd.read_csv('frameR_point_0.csv')\n",
    "print(len(dfL),len(dfR))"
   ]
  }
 ],
 "metadata": {
  "kernelspec": {
   "display_name": "Python 2",
   "language": "python",
   "name": "python2"
  },
  "language_info": {
   "codemirror_mode": {
    "name": "ipython",
    "version": 2
   },
   "file_extension": ".py",
   "mimetype": "text/x-python",
   "name": "python",
   "nbconvert_exporter": "python",
   "pygments_lexer": "ipython2",
   "version": "2.7.13"
  }
 },
 "nbformat": 4,
 "nbformat_minor": 2
}
