{
 "cells": [
  {
   "cell_type": "code",
   "execution_count": 50,
   "metadata": {},
   "outputs": [
    {
     "name": "stdout",
     "output_type": "stream",
     "text": [
      "242.26076383\n",
      "(-0.30889251508843812, 0.0076589750358922867, 3.5967997861749505e-05, 0.28447835755025758, 0.0086786230943522499, 4.9982506875295023e-05)\n"
     ]
    },
    {
     "data": {
      "image/png": "[encoded data removed]",
      "text/plain": [
       "<matplotlib.figure.Figure at 0x11cf736d0>"
      ]
     },
     "metadata": {},
     "output_type": "display_data"
    }
   ],
   "source": [
    "import numpy as np\n",
    "import math\n",
    "import matplotlib.pyplot as plt\n",
    "TL = [[1.1040E-07,2.2954E-05,-4.1584E-03],[1.7160E-05,-1.0348E-06,6.8654E-02],[-3.4505E-03,-7.3661E-02,9.9490E-01]]\n",
    "#BL = [[-1.0175E-07,2.1155E-05,-4.2910E-03],[1.5815E-05,9.5369E-07,6.2907E-02],[-2.8931E-03,-6.8254E-02,9.9567E-01]]\n",
    "#BR = [[5.7149E-08,1.1882E-05,-2.4321E-03],[8.8831E-06,-5.3566E-07,-3.8744E-02],[-1.6469E-03,3.3774E-02,9.9867E-01]]\n",
    "#TR = [[-5.7704E-08,1.1998E-05,-2.1514E-03],[8.9694E-06,5.4087E-07,-3.9328E-02],[-1.7813E-03,3.3894E-02,9.9865E-01]]\n",
    "#Cen = [[1.0892E-06,-2.2646E-04,2.6635E-03],[-1.6930E-04,-1.0209E-05,-7.0788E-01],[-1.3269E-03,6.8521E-01,1.7139E-01]]\n",
    "#Python uses Top Left corrdinate.\n",
    "MatrixL0 = np.array(TL)\n",
    "#MatrixL = np.array([[5.7225E-08,1.1898E-05,-2.4353E-03],[8.8949E-06,-5.3637E-07,-3.8796E-02],[-1.6491E-03,3.3819E-02,1.0000E+0]])\n",
    "MatrixR0 = MatrixL0.transpose()\n",
    "offset = np.zeros((3,1))\n",
    "MatrixL = np.append(MatrixL0, offset, axis=1)\n",
    "MatrixR = np.append(MatrixR0, offset, axis=1)\n",
    "Pl0 = [181.544,211.678] # point in the left\n",
    "Pr0 = [59.61,211.61] # point in the right\n",
    "def distance_sum(MatrixL, MatrixR, Pl, Pr):\n",
    "    X1 = Pl[0]\n",
    "    Y1 = Pl[1]\n",
    "    X2 = Pr[0]\n",
    "    Y2 = Pr[1]\n",
    "    a11 = MatrixL[0][0]\n",
    "    a12 = MatrixL[0][1]\n",
    "    a13 = MatrixL[0][2]\n",
    "    a14 = MatrixL[0][3]\n",
    "    a21 = MatrixL[1][0]\n",
    "    a22 = MatrixL[1][1]\n",
    "    a23 = MatrixL[1][2]\n",
    "    a24 = MatrixL[1][3]\n",
    "    a31 = MatrixL[2][0]\n",
    "    a32 = MatrixL[2][1]\n",
    "    a33 = MatrixL[2][2]\n",
    "    a34 = MatrixL[2][3]\n",
    "    b11 = MatrixR[0][0]\n",
    "    b12 = MatrixR[0][1]\n",
    "    b13 = MatrixR[0][2]\n",
    "    b14 = MatrixR[0][3]\n",
    "    b21 = MatrixR[1][0]\n",
    "    b22 = MatrixR[1][1]\n",
    "    b23 = MatrixR[1][2]\n",
    "    b24 = MatrixR[1][3]\n",
    "    b31 = MatrixR[2][0]\n",
    "    b32 = MatrixR[2][1]\n",
    "    b33 = MatrixR[2][2]\n",
    "    b34 = MatrixR[2][3]\n",
    "    W1 = a11-a31*X1\n",
    "    W2 = a12-a32*X1\n",
    "    W3 = a13-a33*X1\n",
    "    W4 = X1-a14\n",
    "    W5 = a21-a31*Y1\n",
    "    W6 = a22-a32*Y1\n",
    "    W7 = a23-a33*Y1\n",
    "    W8 = Y1-a24\n",
    "    W9 = b11-b31*X2\n",
    "    W10 = b12-b32*X2\n",
    "    W11 = b13-b33*X2\n",
    "    W12 = X2-b14\n",
    "    W13 = b21-b31*Y2\n",
    "    W14 = b22-b32*Y2\n",
    "    W15 = b23-b33*Y2\n",
    "    W16 = Y2-b24\n",
    "    W17 = (W1*W7-W3*W5)/(W2*W5-W1*W6)\n",
    "    W18 = (W4*W5-W1*W8)/(W2*W5-W1*W6)\n",
    "    W19 = (W2*W7-W3*W6)/(W1*W6-W2*W5)\n",
    "    W20 = (W4*W6-W2*W8)/(W1*W6-W2*W5)\n",
    "    W21 = (W9*W15-W11*W13)/(W10*W13-W9*W14)\n",
    "    W22 = (W12*W13-W9*W16)/(W10*W13-W9*W14)\n",
    "    W23 = (W10*W15-W11*W14)/(W9*W14-W10*W13)\n",
    "    W24 = (W12*W14-W10*W16)/(W9*W14-W10*W13)\n",
    "    PL = (1+b31*W20+b32*W18)\n",
    "    QL = (b14+b11*W20+b12*W18)\n",
    "    RL = (b33+b31*W19+b32*W17)\n",
    "    SL = (b23+b21*W19+b22*W17)\n",
    "    TL = (b24+b21*W20+b22*W18)\n",
    "    UL = (b13+b11*W19+b12*W17)\n",
    "    PR = (1+a31*W24+a32*W22)\n",
    "    QR = (a14+a11*W24+a12*W22)\n",
    "    RR = (a33+a31*W23+a32*W21)\n",
    "    SR = (a23+a21*W23+a22*W21)\n",
    "    TR = (a24+a21*W24+a22*W22)\n",
    "    UR = (a13+a11*W23+a12*W21)\n",
    "    \n",
    "    Pi = PL*SL-TL*RL # The epipolar line in the right frame, corresponding to the Pl0 in the left frame\n",
    "    Qi = -PL*UL+QL*RL # Pi*X2+Qi*Y2+Ri = 0 (if Pr0 is on the line)\n",
    "    Ri = TL*UL-QL*SL\n",
    "    \n",
    "    Pk = PR*SR-TR*RR # The epipolar line in the left frame, corresponding to the Pr0 in the right frame\n",
    "    Qk = -PR*UR+QR*RR # Pk*X1+Qk*Y1+Rk = 0 (if Pl0 is on the line)\n",
    "    Rk = TR*UR-QR*SR \n",
    "    dik = math.fabs(Pi*X2+Qi*Y2+Ri)/math.sqrt(Pi*Pi+Qi*Qi)\n",
    "    dki = math.fabs(Pk*X1+Qk*Y1+Rk)/math.sqrt(Pk*Pk+Qk*Qk)\n",
    "    FF = dik + dki\n",
    "    print(FF)\n",
    "    #return FF\n",
    "    return Pi,Qi,Ri,Pk,Qk,Rk\n",
    "Pi,Qi,Ri,Pk,Qk,Rk = distance_sum(MatrixL, MatrixR, Pl0,Pr0)\n",
    "print(Pi,Qi,Ri,Pk,Qk,Rk)\n",
    "x = np.linspace(0,384,385) #  linearly spaced numbers\n",
    "yl = (-Rk-Pk*x)/Qk # line in the left frame\n",
    "yr = (-Ri-Pi*x)/Qi # line in the right frame\n",
    "plt.figure()\n",
    "plt.plot(x,yl)\n",
    "plt.plot(Pl0[0],Pl0[1],\"+\")\n",
    "plt.plot(x,yr)\n",
    "plt.plot(Pr0[0],Pr0[1],\"o\")\n",
    "plt.show()"
   ]
  },
  {
   "cell_type": "code",
   "execution_count": 37,
   "metadata": {},
   "outputs": [
    {
     "name": "stdout",
     "output_type": "stream",
     "text": [
      "(247.18390323617911, 1.2295540049642462, -0.056809887702922002, -230.7419600456945, -27.718739297576601, 0.10484154865619906)\n"
     ]
    }
   ],
   "source": [
    "def get_xyz(MatrixL, MatrixR, Pl, Pr):\n",
    "    X1 = Pl[0]\n",
    "    Y1 = Pl[1]\n",
    "    X2 = Pr[0]\n",
    "    Y2 = Pr[1]\n",
    "    a11 = MatrixL[0][0]\n",
    "    a12 = MatrixL[0][1]\n",
    "    a13 = MatrixL[0][2]\n",
    "    a14 = MatrixL[0][3]\n",
    "    a21 = MatrixL[1][0]\n",
    "    a22 = MatrixL[1][1]\n",
    "    a23 = MatrixL[1][2]\n",
    "    a24 = MatrixL[1][3]\n",
    "    a31 = MatrixL[2][0]\n",
    "    a32 = MatrixL[2][1]\n",
    "    a33 = MatrixL[2][2]\n",
    "    a34 = MatrixL[2][3]\n",
    "    b11 = MatrixR[0][0]\n",
    "    b12 = MatrixR[0][1]\n",
    "    b13 = MatrixR[0][2]\n",
    "    b14 = MatrixR[0][3]\n",
    "    b21 = MatrixR[1][0]\n",
    "    b22 = MatrixR[1][1]\n",
    "    b23 = MatrixR[1][2]\n",
    "    b24 = MatrixR[1][3]\n",
    "    b31 = MatrixR[2][0]\n",
    "    b32 = MatrixR[2][1]\n",
    "    b33 = MatrixR[2][2]\n",
    "    b34 = MatrixR[2][3]\n",
    "    W1 = a11-a31*X1\n",
    "    W2 = a12-a32*X1\n",
    "    W3 = a13-a33*X1\n",
    "    W4 = X1-a14\n",
    "    W5 = a21-a31*Y1\n",
    "    W6 = a22-a32*Y1\n",
    "    W7 = a23-a33*Y1\n",
    "    W8 = Y1-a24\n",
    "    W9 = b11-b31*X2\n",
    "    W10 = b12-b32*X2\n",
    "    W11 = b13-b33*X2\n",
    "    W12 = X2-b14\n",
    "    W13 = b21-b31*Y2\n",
    "    W14 = b22-b32*Y2\n",
    "    W15 = b23-b33*Y2\n",
    "    W16 = Y2-b24\n",
    "    W17 = (W1*W7-W3*W5)/(W2*W5-W1*W6)\n",
    "    W18 = (W4*W5-W1*W8)/(W2*W5-W1*W6)\n",
    "    W19 = (W2*W7-W3*W6)/(W1*W6-W2*W5)\n",
    "    W20 = (W4*W6-W2*W8)/(W1*W6-W2*W5)\n",
    "    W21 = (W9*W15-W11*W13)/(W10*W13-W9*W14)\n",
    "    W22 = (W12*W13-W9*W16)/(W10*W13-W9*W14)\n",
    "    W23 = (W10*W15-W11*W14)/(W9*W14-W10*W13)\n",
    "    W24 = (W12*W14-W10*W16)/(W9*W14-W10*W13)\n",
    "    z = (W12-W9*W20-W10*W18)/(W9*W19+W10*W17+W11)\n",
    "    y = W17*z + W18\n",
    "    x = W19*z + W20\n",
    "    z1 = (W4-W1*W24-W2*W22)/(W1*W23+W2*W21+W3)\n",
    "    y1 = W21*z+W22\n",
    "    x1 = W23*z+W24\n",
    "    return x,y,z,x1,y1,z1\n",
    "x,y,z,x1,y1,z1 = get_xyz(MatrixL, MatrixR, Pl0,Pr0)\n",
    "print(x,y,z,x1,y1,z1)"
   ]
  },
  {
   "cell_type": "markdown",
   "metadata": {},
   "source": []
  },
  {
   "cell_type": "code",
   "execution_count": null,
   "metadata": {
    "collapsed": true
   },
   "outputs": [],
   "source": []
  },
  {
   "cell_type": "code",
   "execution_count": null,
   "metadata": {
    "collapsed": true
   },
   "outputs": [],
   "source": []
  },
  {
   "cell_type": "code",
   "execution_count": null,
   "metadata": {
    "collapsed": true
   },
   "outputs": [],
   "source": []
  },
  {
   "cell_type": "code",
   "execution_count": null,
   "metadata": {
    "collapsed": true
   },
   "outputs": [],
   "source": []
  },
  {
   "cell_type": "code",
   "execution_count": null,
   "metadata": {
    "collapsed": true
   },
   "outputs": [],
   "source": []
  }
 ],
 "metadata": {
  "kernelspec": {
   "display_name": "Python 2",
   "language": "python",
   "name": "python2"
  },
  "language_info": {
   "codemirror_mode": {
    "name": "ipython",
    "version": 2
   },
   "file_extension": ".py",
   "mimetype": "text/x-python",
   "name": "python",
   "nbconvert_exporter": "python",
   "pygments_lexer": "ipython2",
   "version": "2.7.14"
  }
 },
 "nbformat": 4,
 "nbformat_minor": 2
}
