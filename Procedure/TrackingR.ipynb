{
 "cells": [
  {
   "cell_type": "code",
   "execution_count": 1,
   "metadata": {
    "collapsed": true
   },
   "outputs": [],
   "source": [
    "import matplotlib as mpl\n",
    "import matplotlib.pyplot as plt\n",
    "import numpy as np\n",
    "import pandas as pd\n",
    "from pandas import DataFrame, Series  # for convenience\n",
    "import pims\n",
    "import trackpy as tp\n",
    "import trackpy.predict\n",
    "from scipy.misc import imsave\n",
    "from scipy.misc import imread\n",
    "import math\n",
    "################################################\n",
    "# Read frames which have been data-cleaned (wire_particle_tracking_datacleaning). \n",
    "################################################\n",
    "shot = 229\n",
    "picL = 18333\n",
    "picR = 18158\n",
    "FrameL = pims.ImageSequence('./Data/Shot{}/Clean_Data_Shot{}_Cam_{}/invframe/frame_*.tif'.format(shot,shot,picL))\n",
    "FrameR = pims.ImageSequence('./Data/Shot{}/Clean_Data_Shot{}_Cam_{}/invframe/frame_*.tif'.format(shot,shot,picR))\n",
    "#FrameL = pims.ImageSequence('/Users/pinghanchu/Documents/Git/Data/Clean_Data_Shot119_Cam_{}/frame_white_*.tif'.format(picL))\n",
    "#FrameR = pims.ImageSequence('/Users/pinghanchu/Documents/Git/Data/Clean_Data_Shot119_Cam_{}/frame_white_*.tif'.format(picR))\n",
    "v0L = imread('./Data/Shot{}/Clean_Data_Shot{}_Cam_{}/FrameL_sum.tif'.format(shot,shot,picL))\n",
    "v0R = imread('./Data/Shot{}/Clean_Data_Shot{}_Cam_{}/FrameR_sum.tif'.format(shot,shot,picR))\n",
    "bk0L = imread('./Data/Shot{}/Clean_Data_Shot{}_Cam_{}/FrameL0.tif'.format(shot,shot,picL))\n",
    "bk0R = imread('./Data/Shot{}/Clean_Data_Shot{}_Cam_{}/FrameR0.tif'.format(shot,shot,picR))"
   ]
  },
  {
   "cell_type": "code",
   "execution_count": 2,
   "metadata": {
    "collapsed": true
   },
   "outputs": [],
   "source": [
    "###################################\n",
    "#Locate Features; single frame test\n",
    "###################################\n",
    "#init_index = 100\n",
    "#f = tp.locate(FrameL[init_index], 3, minmass=5) \n",
    "#Show points located. It will be better to have more points rather than missing points.\n",
    "#plt.figure(figsize=[12,12])  # make a new figure\n",
    "#tp.annotate(f, FrameL[init_index]);"
   ]
  },
  {
   "cell_type": "code",
   "execution_count": 3,
   "metadata": {
    "collapsed": true
   },
   "outputs": [],
   "source": [
    "#Show 'mass' distribution\n",
    "#fig, ax = plt.subplots()\n",
    "#ax.hist(f['mass'], bins=20)\n",
    "# Optionally, label the axes.\n",
    "#ax.set(xlabel='mass', ylabel='count');\n",
    "#plt.show()"
   ]
  },
  {
   "cell_type": "code",
   "execution_count": 4,
   "metadata": {},
   "outputs": [
    {
     "name": "stdout",
     "output_type": "stream",
     "text": [
      "Frame 6798: 10 trajectories present\n"
     ]
    }
   ],
   "source": [
    "######################################################################\n",
    "#Locate Features; apply the same parameter to all frames\n",
    "######################################################################\n",
    "# Left frame\n",
    "pred = trackpy.predict.NearestVelocityPredict()\n",
    "#pred = trackpy.predict.ChannelPredict(0.5, 'x', minsamples=3)\n",
    "fR = tp.batch(FrameR, 3, minmass=5);\n",
    "tR = pred.link_df(fR, 3, memory=11,  diagnostics=True)\n",
    "tR.to_csv('./Data/Shot{}/trackR_frame_inv.csv'.format(shot))"
   ]
  },
  {
   "cell_type": "code",
   "execution_count": null,
   "metadata": {},
   "outputs": [
    {
     "data": {
      "text/html": [
       "<div>\n",
       "<style>\n",
       "    .dataframe thead tr:only-child th {\n",
       "        text-align: right;\n",
       "    }\n",
       "\n",
       "    .dataframe thead th {\n",
       "        text-align: left;\n",
       "    }\n",
       "\n",
       "    .dataframe tbody tr th {\n",
       "        vertical-align: top;\n",
       "    }\n",
       "</style>\n",
       "<table border=\"1\" class=\"dataframe\">\n",
       "  <thead>\n",
       "    <tr style=\"text-align: right;\">\n",
       "      <th></th>\n",
       "      <th>diag_remembered</th>\n",
       "      <th>diag_search_range</th>\n",
       "      <th>diag_subnet</th>\n",
       "      <th>diag_subnet_iterations</th>\n",
       "      <th>diag_subnet_size</th>\n",
       "      <th>ecc</th>\n",
       "      <th>ep</th>\n",
       "      <th>frame</th>\n",
       "      <th>mass</th>\n",
       "      <th>particle</th>\n",
       "      <th>raw_mass</th>\n",
       "      <th>signal</th>\n",
       "      <th>size</th>\n",
       "      <th>x</th>\n",
       "      <th>y</th>\n",
       "    </tr>\n",
       "  </thead>\n",
       "  <tbody>\n",
       "    <tr>\n",
       "      <th>0</th>\n",
       "      <td>NaN</td>\n",
       "      <td>NaN</td>\n",
       "      <td>NaN</td>\n",
       "      <td>NaN</td>\n",
       "      <td>NaN</td>\n",
       "      <td>0.435714</td>\n",
       "      <td>0.0</td>\n",
       "      <td>0</td>\n",
       "      <td>43.243804</td>\n",
       "      <td>0.0</td>\n",
       "      <td>90.0</td>\n",
       "      <td>13.123742</td>\n",
       "      <td>0.834576</td>\n",
       "      <td>210.0</td>\n",
       "      <td>14.000000</td>\n",
       "    </tr>\n",
       "    <tr>\n",
       "      <th>1</th>\n",
       "      <td>NaN</td>\n",
       "      <td>NaN</td>\n",
       "      <td>NaN</td>\n",
       "      <td>NaN</td>\n",
       "      <td>NaN</td>\n",
       "      <td>0.457143</td>\n",
       "      <td>0.0</td>\n",
       "      <td>0</td>\n",
       "      <td>43.889234</td>\n",
       "      <td>1.0</td>\n",
       "      <td>100.0</td>\n",
       "      <td>13.769171</td>\n",
       "      <td>0.828417</td>\n",
       "      <td>84.0</td>\n",
       "      <td>122.000000</td>\n",
       "    </tr>\n",
       "    <tr>\n",
       "      <th>2</th>\n",
       "      <td>NaN</td>\n",
       "      <td>NaN</td>\n",
       "      <td>NaN</td>\n",
       "      <td>NaN</td>\n",
       "      <td>NaN</td>\n",
       "      <td>0.251634</td>\n",
       "      <td>0.0</td>\n",
       "      <td>0</td>\n",
       "      <td>92.296477</td>\n",
       "      <td>2.0</td>\n",
       "      <td>258.0</td>\n",
       "      <td>26.462626</td>\n",
       "      <td>0.844563</td>\n",
       "      <td>74.0</td>\n",
       "      <td>129.976690</td>\n",
       "    </tr>\n",
       "    <tr>\n",
       "      <th>3</th>\n",
       "      <td>NaN</td>\n",
       "      <td>NaN</td>\n",
       "      <td>NaN</td>\n",
       "      <td>NaN</td>\n",
       "      <td>NaN</td>\n",
       "      <td>0.506667</td>\n",
       "      <td>0.0</td>\n",
       "      <td>0</td>\n",
       "      <td>24.096050</td>\n",
       "      <td>3.0</td>\n",
       "      <td>63.0</td>\n",
       "      <td>7.960302</td>\n",
       "      <td>0.818317</td>\n",
       "      <td>69.0</td>\n",
       "      <td>131.919643</td>\n",
       "    </tr>\n",
       "    <tr>\n",
       "      <th>4</th>\n",
       "      <td>NaN</td>\n",
       "      <td>NaN</td>\n",
       "      <td>NaN</td>\n",
       "      <td>NaN</td>\n",
       "      <td>NaN</td>\n",
       "      <td>0.325153</td>\n",
       "      <td>0.0</td>\n",
       "      <td>0</td>\n",
       "      <td>49.698103</td>\n",
       "      <td>4.0</td>\n",
       "      <td>136.0</td>\n",
       "      <td>14.629745</td>\n",
       "      <td>0.840016</td>\n",
       "      <td>70.0</td>\n",
       "      <td>135.822511</td>\n",
       "    </tr>\n",
       "  </tbody>\n",
       "</table>\n",
       "</div>"
      ],
      "text/plain": [
       "  diag_remembered diag_search_range diag_subnet diag_subnet_iterations  \\\n",
       "0             NaN               NaN         NaN                    NaN   \n",
       "1             NaN               NaN         NaN                    NaN   \n",
       "2             NaN               NaN         NaN                    NaN   \n",
       "3             NaN               NaN         NaN                    NaN   \n",
       "4             NaN               NaN         NaN                    NaN   \n",
       "\n",
       "  diag_subnet_size       ecc   ep  frame       mass  particle  raw_mass  \\\n",
       "0              NaN  0.435714  0.0      0  43.243804       0.0      90.0   \n",
       "1              NaN  0.457143  0.0      0  43.889234       1.0     100.0   \n",
       "2              NaN  0.251634  0.0      0  92.296477       2.0     258.0   \n",
       "3              NaN  0.506667  0.0      0  24.096050       3.0      63.0   \n",
       "4              NaN  0.325153  0.0      0  49.698103       4.0     136.0   \n",
       "\n",
       "      signal      size      x           y  \n",
       "0  13.123742  0.834576  210.0   14.000000  \n",
       "1  13.769171  0.828417   84.0  122.000000  \n",
       "2  26.462626  0.844563   74.0  129.976690  \n",
       "3   7.960302  0.818317   69.0  131.919643  \n",
       "4  14.629745  0.840016   70.0  135.822511  "
      ]
     },
     "execution_count": 5,
     "metadata": {},
     "output_type": "execute_result"
    }
   ],
   "source": [
    "#tR = pd.read_csv('./Data/Shot{}/trackR_frame_inv.csv'.formate(shot))\n",
    "tR.head()"
   ]
  },
  {
   "cell_type": "code",
   "execution_count": null,
   "metadata": {},
   "outputs": [],
   "source": [
    "plt.figure(figsize=[12,12])\n",
    "tp.plot_traj(tR);"
   ]
  },
  {
   "cell_type": "code",
   "execution_count": null,
   "metadata": {},
   "outputs": [],
   "source": [
    "plt.figure(figsize=[12,12])\n",
    "plt.imshow(v0R+bk0R)\n",
    "#plt.scatter(tR['x'],tR['y'],s=0.3,c='g')\n",
    "plt.scatter(tR['x'],tR['y'],s=0.3,c=tR['mass'])\n",
    "plt.show()"
   ]
  },
  {
   "cell_type": "code",
   "execution_count": null,
   "metadata": {},
   "outputs": [],
   "source": [
    "# Remove tracks too few points (less than 500)\n",
    "tR1 = tp.filter_stubs(tR,200)\n",
    "plt.figure(figsize=[12,12])\n",
    "tp.plot_traj(tR1);"
   ]
  },
  {
   "cell_type": "code",
   "execution_count": null,
   "metadata": {},
   "outputs": [],
   "source": [
    "plt.figure(figsize=[12,12])\n",
    "plt.imshow(v0R)\n",
    "plt.scatter(tR1['x'],tR1['y'],s=0.3,c=tR1['mass'])\n",
    "#plt.scatter(tR1['x'],tR1['y'],s=0.3,c='r')\n",
    "plt.show()"
   ]
  },
  {
   "cell_type": "code",
   "execution_count": null,
   "metadata": {
    "collapsed": true
   },
   "outputs": [],
   "source": [
    "tR2 = tR1\n",
    "range_limit = 10\n",
    "Range = {}\n",
    "for ii in tR2['particle'].unique():\n",
    "    Track = tR2[tR2['particle']==ii]\n",
    "    xmax = np.max(Track['x'])\n",
    "    xmin = np.min(Track['x'])\n",
    "    ymax = np.max(Track['y'])\n",
    "    ymin = np.min(Track['y'])\n",
    "    ra = math.sqrt((xmax-xmin)*(xmax-xmin)+(ymax-ymin)*(ymax-ymin))\n",
    "    Range[ii] = ra"
   ]
  },
  {
   "cell_type": "code",
   "execution_count": null,
   "metadata": {
    "collapsed": true
   },
   "outputs": [],
   "source": [
    "RANGE = []\n",
    "for ii in range(len(tR2)):\n",
    "    RANGE.append(Range[tR2['particle'].iloc[ii]])\n",
    "    #print(ii,Range[tR2['particle'].iloc[ii]])"
   ]
  },
  {
   "cell_type": "code",
   "execution_count": null,
   "metadata": {
    "collapsed": true
   },
   "outputs": [],
   "source": [
    "tR2['range'] = RANGE"
   ]
  },
  {
   "cell_type": "code",
   "execution_count": null,
   "metadata": {},
   "outputs": [],
   "source": [
    "tR2.head()"
   ]
  },
  {
   "cell_type": "code",
   "execution_count": null,
   "metadata": {
    "collapsed": true
   },
   "outputs": [],
   "source": [
    "tR3 = tR2[tR2['range']>20]"
   ]
  },
  {
   "cell_type": "code",
   "execution_count": null,
   "metadata": {},
   "outputs": [],
   "source": [
    "plt.figure(figsize=[12,12])\n",
    "plt.imshow(v0R+bk0R)\n",
    "plt.scatter(tR3['x'],tR3['y'],s=0.3,c=tR3['mass'])\n",
    "#plt.scatter(tR3['x'],tR3['y'],s=0.1,c='g')\n",
    "plt.savefig('./Data/Shot{}/Clean_Data_Shot{}_Cam_{}/sumTrackR.tif'.format(shot,shot,picR))\n",
    "plt.show()"
   ]
  },
  {
   "cell_type": "code",
   "execution_count": null,
   "metadata": {},
   "outputs": [],
   "source": [
    "'''\n",
    "for ii in tR3['particle'].unique():\n",
    "#for ii in range(3,4):  \n",
    "    #print(ii)\n",
    "    Track = tR3[tR3['particle']==ii]\n",
    "    xmax = np.max(Track['x'])\n",
    "    xmin = np.min(Track['x'])\n",
    "    ymax = np.max(Track['y'])\n",
    "    ymin = np.min(Track['y'])\n",
    "    plt.figure(figsize=[12,12])\n",
    "    plt.imshow(v0R)\n",
    "    plt.scatter(Track['x'],Track['y'],s=0.7,c=Track['mass'])\n",
    "    plt.ylim(ymin-10,ymax+10)\n",
    "    plt.xlim(xmin-10,xmax+10)\n",
    "    plt.savefig(\"./Data/Shot{}/Clean_Data_Shot{}_Cam_{}/trackR_framebk_{}.tif\".format(shot,shot,picR,int(ii)))\n",
    "'''"
   ]
  },
  {
   "cell_type": "code",
   "execution_count": null,
   "metadata": {},
   "outputs": [],
   "source": [
    "plt.figure(figsize=[12,12])\n",
    "tp.plot_traj(tR3);"
   ]
  },
  {
   "cell_type": "code",
   "execution_count": null,
   "metadata": {
    "collapsed": true
   },
   "outputs": [],
   "source": [
    "tR3.to_csv('./Data/Shot{}/trackR3_frame_inv.csv'.format(shot))"
   ]
  },
  {
   "cell_type": "code",
   "execution_count": null,
   "metadata": {
    "collapsed": true
   },
   "outputs": [],
   "source": []
  },
  {
   "cell_type": "code",
   "execution_count": null,
   "metadata": {
    "collapsed": true
   },
   "outputs": [],
   "source": []
  },
  {
   "cell_type": "code",
   "execution_count": null,
   "metadata": {
    "collapsed": true
   },
   "outputs": [],
   "source": []
  }
 ],
 "metadata": {
  "kernelspec": {
   "display_name": "Python 2",
   "language": "python",
   "name": "python2"
  },
  "language_info": {
   "codemirror_mode": {
    "name": "ipython",
    "version": 2
   },
   "file_extension": ".py",
   "mimetype": "text/x-python",
   "name": "python",
   "nbconvert_exporter": "python",
   "pygments_lexer": "ipython2",
   "version": "2.7.13"
  }
 },
 "nbformat": 4,
 "nbformat_minor": 2
}
