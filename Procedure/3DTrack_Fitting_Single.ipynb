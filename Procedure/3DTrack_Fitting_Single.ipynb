{
 "cells": [
  {
   "cell_type": "code",
   "execution_count": 5,
   "metadata": {},
   "outputs": [
    {
     "name": "stdout",
     "output_type": "stream",
     "text": [
      "('4946_3384', 4946, 3384)\n"
     ]
    }
   ],
   "source": [
    "import numpy as np\n",
    "import pandas as pd\n",
    "from pandas import DataFrame, Series  # for convenience\n",
    "import matplotlib.pyplot as plt\n",
    "from mpl_toolkits.mplot3d import Axes3D\n",
    "from scipy.optimize import curve_fit\n",
    "from scipy import stats  \n",
    "from matplotlib import cm\n",
    "import math\n",
    "from scipy.misc import imsave\n",
    "from scipy.misc import imread\n",
    "import re\n",
    "import glob, os\n",
    "shot = 232\n",
    "picL = 18333\n",
    "picR = 18158\n",
    "par1 = 4946\n",
    "par2 = 3384\n",
    "\n",
    "v0L = imread('./Data/Shot{}/Clean_Data_Shot{}_Cam_{}/FrameL_sum.tif'.format(shot,shot,picL))\n",
    "v0R = imread('./Data/Shot{}/Clean_Data_Shot{}_Cam_{}/FrameR_sum.tif'.format(shot,shot,picR))\n",
    "bk0L = imread('./Data/Shot{}/Clean_Data_Shot{}_Cam_{}/FrameL0.tif'.format(shot,shot,picL))\n",
    "bk0R = imread('./Data/Shot{}/Clean_Data_Shot{}_Cam_{}/FrameR0.tif'.format(shot,shot,picR))\n",
    "\n",
    "Freq = 100.*1000.\n",
    "DeltaT = 1/Freq\n",
    "def Parabola(x,a,b,c):\n",
    "    y = a+b*x+c*x**2\n",
    "    return y\n",
    "#fig = plt.figure(figsize=[12,12])\n",
    "#ax = fig.gca(projection='3d')\n",
    "FitList = []\n",
    "#list = pd.read_csv('./Data/Shot{}/3D/list.csv'.format(shot),header=None)\n",
    "#list.columns = ['TrackL','TrackR']\n",
    "#list.columns = ['TrackL']\n",
    "#for it in range(len(list['TrackL'])):\n",
    "#    itL = list['TrackL'].iloc[it]\n",
    "    #itR = list['TrackR'].iloc[it]\n",
    "    #file = \"./Data/Shot{}/3D/3DErrEpilineCheckPinghanShot{}Pair{}_{}.csv\".format(shot,shot,itL,itR)\n",
    "#    file = \"./Data/Shot{}/3D/3DErrEpilineCheckPinghanShot{}Pair{}.csv\".format(shot,shot,itL)\n",
    " \n",
    "for counter, file in enumerate(glob.glob(\"./Data/Shot{}/3D/3DErrEpilineCheckPinghanShot{}Pair*.csv\".format(shot,shot))):    \n",
    "    df = pd.read_csv(file)\n",
    "    f1 = file.split('/')\n",
    "    f2 = f1[4].split('.csv') \n",
    "    f3 = f2[0].split(\"3DErrEpilineCheckPinghanShot{}Pair\".format(shot))\n",
    "    index = f3[1]\n",
    "    f4 = index.split('_')\n",
    "    Par1 = int(f4[0])\n",
    "    Par2 = int(f4[1])\n",
    "    if( Par1 == par1 and Par2 == par2):\n",
    "        print(index,Par1,Par2)    \n",
    "    \n",
    "        Track2D = pd.read_csv('./Data/Shot{}/TrackPair/Pair_{}.csv'.format(shot,index))\n",
    "        Track2D = Track2D[:-1]\n",
    "        #Track3D = pd.concat([df, Track2D['Frame']], axis=1)\n",
    "        #Track3D['Time']=Track3D['Frame']*DeltaT\n",
    "        Track2D['InvFrame']=6773-Track2D['Frame']\n",
    "        Track3D = pd.concat([df, Track2D['InvFrame']], axis=1)\n",
    "        Track3D['Time']=Track3D['InvFrame']*DeltaT\n",
    "        XL=Track3D['Left xx']\n",
    "        YL=Track3D['Left yy']\n",
    "        XR=Track3D['Right xx']\n",
    "        YR=Track3D['Right yy']\n",
    "        X=Track3D['3Dxx']\n",
    "        Y=Track3D['3Dyy']\n",
    "        Z=Track3D['3Dzz']\n",
    "        T=Track3D['Time']   \n",
    "        params_x, pcov_x = curve_fit(Parabola, T, X)\n",
    "        params_y, pcov_y = curve_fit(Parabola, T, Y)\n",
    "        params_z, pcov_z = curve_fit(Parabola, T, Z)\n",
    "        para_list = np.concatenate((params_x,params_y,params_z), axis=0)\n",
    "        #para_list = [count,params_x[0],params_x[1],params_x[2],params_y[0],params_y[1],params_y[2],params_z[0],params_z[1],params_z[2]]\n",
    "    #print(para_list)\n",
    "        #FitList.append(para_list)\n",
    "    \n",
    "        fit_X = Parabola(T, params_x[0], params_x[1],params_x[2])\n",
    "        fit_Y = Parabola(T, params_y[0], params_y[1],params_y[2])\n",
    "        fit_Z = Parabola(T, params_z[0], params_z[1],params_z[2])\n",
    "    \n",
    "        fig = plt.figure(figsize = (12,12))  # make a new figure\n",
    "        #f, ((ax1, ax2), (ax3, ax4)) = plt.subplots(2, 2) \n",
    "        ax1 = fig.add_subplot(2, 2, 1)\n",
    "        ax1.scatter(T,X,color='r',marker=\".\",s=1)\n",
    "        ax1.plot(T,fit_X)\n",
    "        ax1.set_xlabel('T (s)', fontsize=30,labelpad=15)\n",
    "        ax1.set_ylabel('X (m)', fontsize=40,labelpad=20)\n",
    "        ax2 = fig.add_subplot(2, 2, 2)\n",
    "        ax2.scatter(T,Y,color='r',marker=\".\",s=1)\n",
    "        ax2.plot(T,fit_Y)\n",
    "        ax2.set_xlabel('T (s)', fontsize=30,labelpad=15)\n",
    "        ax2.set_ylabel('Y (m)', fontsize=40,labelpad=20)\n",
    "        ax3 = fig.add_subplot(2, 2, 3)\n",
    "        ax3.scatter(T,Z,color='r',marker=\".\",s=1)\n",
    "        ax3.plot(T,fit_Z)\n",
    "        ax3.set_xlabel('T (s)', fontsize=30,labelpad=15)\n",
    "        ax3.set_ylabel('Z (m)', fontsize=40,labelpad=20)\n",
    "        ax4 = fig.add_subplot(2, 2, 4, projection='3d')\n",
    "        ax4.view_init(10, -30)\n",
    "        ax4.set_xlabel('X (m)', fontsize=40,labelpad=20)\n",
    "        ax4.set_ylabel('Y (m)', fontsize=40,labelpad=20)\n",
    "        ax4.set_zlabel('Z (m)', fontsize=40,labelpad=20)      \n",
    "        ax4.plot(X, Y, Z)\n",
    "        plt.savefig(\"3DFit_{}_{}.pdf\".format(shot,index))"
   ]
  },
  {
   "cell_type": "code",
   "execution_count": null,
   "metadata": {
    "collapsed": true
   },
   "outputs": [],
   "source": []
  },
  {
   "cell_type": "code",
   "execution_count": null,
   "metadata": {},
   "outputs": [],
   "source": []
  },
  {
   "cell_type": "code",
   "execution_count": null,
   "metadata": {},
   "outputs": [],
   "source": []
  },
  {
   "cell_type": "code",
   "execution_count": null,
   "metadata": {},
   "outputs": [],
   "source": []
  },
  {
   "cell_type": "code",
   "execution_count": null,
   "metadata": {},
   "outputs": [],
   "source": []
  },
  {
   "cell_type": "code",
   "execution_count": null,
   "metadata": {
    "collapsed": true
   },
   "outputs": [],
   "source": []
  },
  {
   "cell_type": "code",
   "execution_count": null,
   "metadata": {
    "collapsed": true
   },
   "outputs": [],
   "source": []
  },
  {
   "cell_type": "code",
   "execution_count": null,
   "metadata": {
    "collapsed": true
   },
   "outputs": [],
   "source": []
  },
  {
   "cell_type": "code",
   "execution_count": null,
   "metadata": {
    "collapsed": true
   },
   "outputs": [],
   "source": []
  },
  {
   "cell_type": "code",
   "execution_count": null,
   "metadata": {
    "collapsed": true
   },
   "outputs": [],
   "source": []
  },
  {
   "cell_type": "code",
   "execution_count": null,
   "metadata": {
    "collapsed": true
   },
   "outputs": [],
   "source": []
  },
  {
   "cell_type": "code",
   "execution_count": null,
   "metadata": {
    "collapsed": true
   },
   "outputs": [],
   "source": []
  },
  {
   "cell_type": "code",
   "execution_count": null,
   "metadata": {
    "collapsed": true
   },
   "outputs": [],
   "source": []
  }
 ],
 "metadata": {
  "kernelspec": {
   "display_name": "Python 2",
   "language": "python",
   "name": "python2"
  },
  "language_info": {
   "codemirror_mode": {
    "name": "ipython",
    "version": 2
   },
   "file_extension": ".py",
   "mimetype": "text/x-python",
   "name": "python",
   "nbconvert_exporter": "python",
   "pygments_lexer": "ipython2",
   "version": "2.7.13"
  }
 },
 "nbformat": 4,
 "nbformat_minor": 2
}
