{
 "cells": [
  {
   "cell_type": "code",
   "execution_count": 1,
   "metadata": {
    "collapsed": true
   },
   "outputs": [],
   "source": [
    "import matplotlib as mpl\n",
    "import matplotlib.pyplot as plt\n",
    "import numpy as np\n",
    "import pandas as pd\n",
    "from pandas import DataFrame, Series  # for convenience\n",
    "import pims\n",
    "import trackpy as tp\n",
    "import trackpy.predict\n",
    "from scipy.misc import imsave\n",
    "from scipy.misc import imread\n",
    "import math\n",
    "################################################\n",
    "# Read frames which have been data-cleaned (wire_particle_tracking_datacleaning). \n",
    "################################################\n",
    "shot = 229\n",
    "picL = 18333\n",
    "picR = 18158\n",
    "FrameL = pims.ImageSequence('./Data/Shot{}/Clean_Data_Shot{}_Cam_{}/invframe/frame_*.tif'.format(shot,shot,picL))\n",
    "FrameR = pims.ImageSequence('./Data/Shot{}/Clean_Data_Shot{}_Cam_{}/invframe/frame_*.tif'.format(shot,shot,picR))\n",
    "#FrameL = pims.ImageSequence('/Users/pinghanchu/Documents/Git/Data/Clean_Data_Shot119_Cam_{}/frame_white_*.tif'.format(picL))\n",
    "#FrameR = pims.ImageSequence('/Users/pinghanchu/Documents/Git/Data/Clean_Data_Shot119_Cam_{}/frame_white_*.tif'.format(picR))\n",
    "v0L = imread('./Data/Shot{}/Clean_Data_Shot{}_Cam_{}/FrameL_sum.tif'.format(shot,shot,picL))\n",
    "v0R = imread('./Data/Shot{}/Clean_Data_Shot{}_Cam_{}/FrameR_sum.tif'.format(shot,shot,picR))\n",
    "bk0L = imread('./Data/Shot{}/Clean_Data_Shot{}_Cam_{}/FrameL0.tif'.format(shot,shot,picL))\n",
    "bk0R = imread('./Data/Shot{}/Clean_Data_Shot{}_Cam_{}/FrameR0.tif'.format(shot,shot,picR))"
   ]
  },
  {
   "cell_type": "code",
   "execution_count": 2,
   "metadata": {
    "collapsed": true
   },
   "outputs": [],
   "source": [
    "###################################\n",
    "#Locate Features; single frame test\n",
    "###################################\n",
    "#init_index = 100\n",
    "#f = tp.locate(FrameL[init_index], 3, minmass=5) \n",
    "#Show points located. It will be better to have more points rather than missing points.\n",
    "#plt.figure(figsize=[12,12])  # make a new figure\n",
    "#tp.annotate(f, FrameL[init_index]);"
   ]
  },
  {
   "cell_type": "code",
   "execution_count": 3,
   "metadata": {
    "collapsed": true
   },
   "outputs": [],
   "source": [
    "#Show 'mass' distribution\n",
    "#fig, ax = plt.subplots()\n",
    "#ax.hist(f['mass'], bins=20)\n",
    "# Optionally, label the axes.\n",
    "#ax.set(xlabel='mass', ylabel='count');\n",
    "#plt.show()"
   ]
  },
  {
   "cell_type": "code",
   "execution_count": 4,
   "metadata": {},
   "outputs": [
    {
     "name": "stdout",
     "output_type": "stream",
     "text": [
      "Frame 6798: 12 trajectories present\n"
     ]
    }
   ],
   "source": [
    "######################################################################\n",
    "#Locate Features; apply the same parameter to all frames\n",
    "######################################################################\n",
    "# Left frame\n",
    "pred = trackpy.predict.NearestVelocityPredict()\n",
    "#pred = trackpy.predict.ChannelPredict(0.5, 'x', minsamples=3)\n",
    "fL = tp.batch(FrameL, 3, minmass=5);\n",
    "tL = pred.link_df(fL, 3, memory=11,  diagnostics=True)\n",
    "tL.to_csv('./Data/Shot{}/trackL_frame_inv.csv'.format(shot))"
   ]
  },
  {
   "cell_type": "code",
   "execution_count": null,
   "metadata": {},
   "outputs": [
    {
     "data": {
      "text/html": [
       "<div>\n",
       "<style>\n",
       "    .dataframe thead tr:only-child th {\n",
       "        text-align: right;\n",
       "    }\n",
       "\n",
       "    .dataframe thead th {\n",
       "        text-align: left;\n",
       "    }\n",
       "\n",
       "    .dataframe tbody tr th {\n",
       "        vertical-align: top;\n",
       "    }\n",
       "</style>\n",
       "<table border=\"1\" class=\"dataframe\">\n",
       "  <thead>\n",
       "    <tr style=\"text-align: right;\">\n",
       "      <th></th>\n",
       "      <th>diag_remembered</th>\n",
       "      <th>diag_search_range</th>\n",
       "      <th>diag_subnet</th>\n",
       "      <th>diag_subnet_iterations</th>\n",
       "      <th>diag_subnet_size</th>\n",
       "      <th>ecc</th>\n",
       "      <th>ep</th>\n",
       "      <th>frame</th>\n",
       "      <th>mass</th>\n",
       "      <th>particle</th>\n",
       "      <th>raw_mass</th>\n",
       "      <th>signal</th>\n",
       "      <th>size</th>\n",
       "      <th>x</th>\n",
       "      <th>y</th>\n",
       "    </tr>\n",
       "  </thead>\n",
       "  <tbody>\n",
       "    <tr>\n",
       "      <th>0</th>\n",
       "      <td>NaN</td>\n",
       "      <td>NaN</td>\n",
       "      <td>NaN</td>\n",
       "      <td>NaN</td>\n",
       "      <td>NaN</td>\n",
       "      <td>0.447368</td>\n",
       "      <td>0.0</td>\n",
       "      <td>0</td>\n",
       "      <td>23.541789</td>\n",
       "      <td>0.0</td>\n",
       "      <td>53.0</td>\n",
       "      <td>7.276553</td>\n",
       "      <td>0.831209</td>\n",
       "      <td>37.000000</td>\n",
       "      <td>43.000000</td>\n",
       "    </tr>\n",
       "    <tr>\n",
       "      <th>1</th>\n",
       "      <td>NaN</td>\n",
       "      <td>NaN</td>\n",
       "      <td>NaN</td>\n",
       "      <td>NaN</td>\n",
       "      <td>NaN</td>\n",
       "      <td>0.558442</td>\n",
       "      <td>0.0</td>\n",
       "      <td>0</td>\n",
       "      <td>23.755806</td>\n",
       "      <td>1.0</td>\n",
       "      <td>58.0</td>\n",
       "      <td>7.276553</td>\n",
       "      <td>0.832883</td>\n",
       "      <td>338.990991</td>\n",
       "      <td>45.000000</td>\n",
       "    </tr>\n",
       "    <tr>\n",
       "      <th>2</th>\n",
       "      <td>NaN</td>\n",
       "      <td>NaN</td>\n",
       "      <td>NaN</td>\n",
       "      <td>NaN</td>\n",
       "      <td>NaN</td>\n",
       "      <td>0.440000</td>\n",
       "      <td>0.0</td>\n",
       "      <td>0</td>\n",
       "      <td>44.087351</td>\n",
       "      <td>2.0</td>\n",
       "      <td>112.0</td>\n",
       "      <td>11.984911</td>\n",
       "      <td>0.853320</td>\n",
       "      <td>166.902913</td>\n",
       "      <td>119.864078</td>\n",
       "    </tr>\n",
       "    <tr>\n",
       "      <th>3</th>\n",
       "      <td>NaN</td>\n",
       "      <td>NaN</td>\n",
       "      <td>NaN</td>\n",
       "      <td>NaN</td>\n",
       "      <td>NaN</td>\n",
       "      <td>0.320242</td>\n",
       "      <td>0.0</td>\n",
       "      <td>0</td>\n",
       "      <td>98.875516</td>\n",
       "      <td>3.0</td>\n",
       "      <td>249.0</td>\n",
       "      <td>28.036131</td>\n",
       "      <td>0.846434</td>\n",
       "      <td>162.893939</td>\n",
       "      <td>122.991342</td>\n",
       "    </tr>\n",
       "    <tr>\n",
       "      <th>4</th>\n",
       "      <td>NaN</td>\n",
       "      <td>NaN</td>\n",
       "      <td>NaN</td>\n",
       "      <td>NaN</td>\n",
       "      <td>NaN</td>\n",
       "      <td>0.054131</td>\n",
       "      <td>0.0</td>\n",
       "      <td>0</td>\n",
       "      <td>105.081987</td>\n",
       "      <td>4.0</td>\n",
       "      <td>322.0</td>\n",
       "      <td>29.962277</td>\n",
       "      <td>0.845498</td>\n",
       "      <td>181.034623</td>\n",
       "      <td>128.955193</td>\n",
       "    </tr>\n",
       "  </tbody>\n",
       "</table>\n",
       "</div>"
      ],
      "text/plain": [
       "  diag_remembered diag_search_range diag_subnet diag_subnet_iterations  \\\n",
       "0             NaN               NaN         NaN                    NaN   \n",
       "1             NaN               NaN         NaN                    NaN   \n",
       "2             NaN               NaN         NaN                    NaN   \n",
       "3             NaN               NaN         NaN                    NaN   \n",
       "4             NaN               NaN         NaN                    NaN   \n",
       "\n",
       "  diag_subnet_size       ecc   ep  frame        mass  particle  raw_mass  \\\n",
       "0              NaN  0.447368  0.0      0   23.541789       0.0      53.0   \n",
       "1              NaN  0.558442  0.0      0   23.755806       1.0      58.0   \n",
       "2              NaN  0.440000  0.0      0   44.087351       2.0     112.0   \n",
       "3              NaN  0.320242  0.0      0   98.875516       3.0     249.0   \n",
       "4              NaN  0.054131  0.0      0  105.081987       4.0     322.0   \n",
       "\n",
       "      signal      size           x           y  \n",
       "0   7.276553  0.831209   37.000000   43.000000  \n",
       "1   7.276553  0.832883  338.990991   45.000000  \n",
       "2  11.984911  0.853320  166.902913  119.864078  \n",
       "3  28.036131  0.846434  162.893939  122.991342  \n",
       "4  29.962277  0.845498  181.034623  128.955193  "
      ]
     },
     "execution_count": 5,
     "metadata": {},
     "output_type": "execute_result"
    }
   ],
   "source": [
    "#tL = pd.read_csv('./Data/Shot{}/trackL_frame_inv.csv'.formate(shot))\n",
    "tL.head()"
   ]
  },
  {
   "cell_type": "code",
   "execution_count": null,
   "metadata": {},
   "outputs": [],
   "source": [
    "plt.figure(figsize=[12,12])\n",
    "tp.plot_traj(tL);"
   ]
  },
  {
   "cell_type": "code",
   "execution_count": null,
   "metadata": {},
   "outputs": [],
   "source": [
    "plt.figure(figsize=[12,12])\n",
    "plt.imshow(v0L+bk0L)\n",
    "#plt.scatter(tL['x'],tL['y'],s=0.3,c='g')\n",
    "plt.scatter(tL['x'],tL['y'],s=0.3,c=tL['mass'])\n",
    "plt.show()"
   ]
  },
  {
   "cell_type": "code",
   "execution_count": null,
   "metadata": {},
   "outputs": [],
   "source": [
    "# Remove tracks too few points (less than 500)\n",
    "tL1 = tp.filter_stubs(tL,200)\n",
    "plt.figure(figsize=[12,12])\n",
    "tp.plot_traj(tL1);"
   ]
  },
  {
   "cell_type": "code",
   "execution_count": null,
   "metadata": {},
   "outputs": [],
   "source": [
    "plt.figure(figsize=[12,12])\n",
    "plt.imshow(v0L)\n",
    "plt.scatter(tL1['x'],tL1['y'],s=0.3,c=tL1['mass'])\n",
    "#plt.scatter(tL1['x'],tL1['y'],s=0.3,c='r')\n",
    "plt.show()"
   ]
  },
  {
   "cell_type": "code",
   "execution_count": null,
   "metadata": {
    "collapsed": true
   },
   "outputs": [],
   "source": [
    "tL2 = tL1\n",
    "range_limit = 10\n",
    "Range = {}\n",
    "for ii in tL2['particle'].unique():\n",
    "    Track = tL2[tL2['particle']==ii]\n",
    "    xmax = np.max(Track['x'])\n",
    "    xmin = np.min(Track['x'])\n",
    "    ymax = np.max(Track['y'])\n",
    "    ymin = np.min(Track['y'])\n",
    "    ra = math.sqrt((xmax-xmin)*(xmax-xmin)+(ymax-ymin)*(ymax-ymin))\n",
    "    Range[ii] = ra"
   ]
  },
  {
   "cell_type": "code",
   "execution_count": null,
   "metadata": {
    "collapsed": true
   },
   "outputs": [],
   "source": [
    "RANGE = []\n",
    "for ii in range(len(tL2)):\n",
    "    RANGE.append(Range[tL2['particle'].iloc[ii]])\n",
    "    #print(ii,Range[tL2['particle'].iloc[ii]])"
   ]
  },
  {
   "cell_type": "code",
   "execution_count": null,
   "metadata": {
    "collapsed": true
   },
   "outputs": [],
   "source": [
    "tL2['range'] = RANGE"
   ]
  },
  {
   "cell_type": "code",
   "execution_count": null,
   "metadata": {},
   "outputs": [],
   "source": [
    "tL2.head()"
   ]
  },
  {
   "cell_type": "code",
   "execution_count": null,
   "metadata": {
    "collapsed": true
   },
   "outputs": [],
   "source": [
    "tL3 = tL2[tL2['range']>20]"
   ]
  },
  {
   "cell_type": "code",
   "execution_count": null,
   "metadata": {
    "scrolled": true
   },
   "outputs": [],
   "source": [
    "plt.figure(figsize=[12,12])\n",
    "plt.imshow(v0L+bk0L)\n",
    "plt.scatter(tL3['x'],tL3['y'],s=0.3,c=tL3['mass'])\n",
    "#plt.scatter(tL3['x'],tL3['y'],s=0.1,c='g')\n",
    "plt.savefig('./Data/Shot{}/Clean_Data_Shot{}_Cam_{}/sumTrackL.tif'.format(shot,shot,picL))\n",
    "plt.show()"
   ]
  },
  {
   "cell_type": "code",
   "execution_count": null,
   "metadata": {},
   "outputs": [],
   "source": [
    "'''\n",
    "for ii in tL3['particle'].unique():\n",
    "#for ii in range(3,4):  \n",
    "    #print(ii)\n",
    "    Track = tL3[tL3['particle']==ii]\n",
    "    xmax = np.max(Track['x'])\n",
    "    xmin = np.min(Track['x'])\n",
    "    ymax = np.max(Track['y'])\n",
    "    ymin = np.min(Track['y'])\n",
    "    plt.figure(figsize=[12,12])\n",
    "    plt.imshow(v0L)\n",
    "    plt.scatter(Track['x'],Track['y'],s=0.7,c=Track['mass'])\n",
    "    plt.ylim(ymin-10,ymax+10)\n",
    "    plt.xlim(xmin-10,xmax+10)\n",
    "    plt.savefig(\"./Data/Shot{}/Clean_Data_Shot{}_Cam_{}/trackL_framebk_{}.tif\".format(shot,shot,picL,int(ii)))\n",
    "'''"
   ]
  },
  {
   "cell_type": "code",
   "execution_count": null,
   "metadata": {},
   "outputs": [],
   "source": [
    "plt.figure(figsize=[12,12])\n",
    "tp.plot_traj(tL3);"
   ]
  },
  {
   "cell_type": "code",
   "execution_count": null,
   "metadata": {
    "collapsed": true
   },
   "outputs": [],
   "source": [
    "tL3.to_csv('./Data/Shot{}/trackL3_frame_inv.csv'.format(shot))"
   ]
  },
  {
   "cell_type": "code",
   "execution_count": null,
   "metadata": {},
   "outputs": [],
   "source": [
    "tL3.head()"
   ]
  },
  {
   "cell_type": "code",
   "execution_count": null,
   "metadata": {
    "collapsed": true
   },
   "outputs": [],
   "source": []
  }
 ],
 "metadata": {
  "kernelspec": {
   "display_name": "Python 2",
   "language": "python",
   "name": "python2"
  },
  "language_info": {
   "codemirror_mode": {
    "name": "ipython",
    "version": 2
   },
   "file_extension": ".py",
   "mimetype": "text/x-python",
   "name": "python",
   "nbconvert_exporter": "python",
   "pygments_lexer": "ipython2",
   "version": "2.7.13"
  }
 },
 "nbformat": 4,
 "nbformat_minor": 2
}
