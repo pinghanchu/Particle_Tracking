{
 "cells": [
  {
   "cell_type": "code",
   "execution_count": 7,
   "metadata": {
    "collapsed": true
   },
   "outputs": [],
   "source": [
    "import matplotlib as mpl\n",
    "import matplotlib.pyplot as plt\n",
    "import numpy as np\n",
    "import pandas as pd\n",
    "from pandas import DataFrame, Series  # for convenience\n",
    "import pims\n",
    "import trackpy as tp\n",
    "import math\n",
    "from scipy.misc import imsave\n",
    "from scipy.misc import imread\n",
    "import pandas as pd\n",
    "import glob, os\n",
    " \n",
    "os.chdir(\".\")\n",
    "results = pd.DataFrame([])\n",
    "shot = 118\n",
    "for counter, file in enumerate(glob.glob(\"./Data/Shot{}/TrackPair_PID_*.csv\".format(shot))):\n",
    "    #print counter,file\n",
    "    namedf = pd.read_csv(file, skiprows=0, usecols=[1,2,3,4,5,6,7,8,9,10,11,12,13,14,15,16])\n",
    "    #print namedf\n",
    "    results = results.append(namedf)\n",
    " \n",
    "results.to_csv('./Data/Shot{}/TrackPair_PID.csv'.format(shot))"
   ]
  },
  {
   "cell_type": "code",
   "execution_count": 2,
   "metadata": {},
   "outputs": [],
   "source": [
    "#for counter, file in enumerate(glob.glob(\"./Data/Shot{}/Pair_*.csv\".format(shot))):\n",
    "#    f1 = file.split('.csv')\n",
    "#    f2 = f1[0].split('_')\n"
   ]
  },
  {
   "cell_type": "code",
   "execution_count": null,
   "metadata": {
    "collapsed": true
   },
   "outputs": [],
   "source": []
  }
 ],
 "metadata": {
  "kernelspec": {
   "display_name": "Python 2",
   "language": "python",
   "name": "python2"
  },
  "language_info": {
   "codemirror_mode": {
    "name": "ipython",
    "version": 2
   },
   "file_extension": ".py",
   "mimetype": "text/x-python",
   "name": "python",
   "nbconvert_exporter": "python",
   "pygments_lexer": "ipython2",
   "version": "2.7.13"
  }
 },
 "nbformat": 4,
 "nbformat_minor": 2
}
