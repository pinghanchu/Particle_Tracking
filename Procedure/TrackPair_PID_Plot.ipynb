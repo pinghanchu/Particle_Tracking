{
 "cells": [
  {
   "cell_type": "code",
   "execution_count": 36,
   "metadata": {
    "collapsed": true
   },
   "outputs": [],
   "source": [
    "import matplotlib as mpl\n",
    "import matplotlib.pyplot as plt\n",
    "import numpy as np\n",
    "import pandas as pd\n",
    "from pandas import DataFrame, Series  # for convenience\n",
    "import pims\n",
    "import trackpy as tp\n",
    "import math\n",
    "from scipy.misc import imsave\n",
    "from scipy.misc import imread\n",
    "import pandas as pd\n",
    "import glob, os\n",
    "################################################\n",
    "# Read frames which have been data-cleaned (wire_particle_tracking_datacleaning). \n",
    "################################################\n",
    "shot = 120\n",
    "picL = 18333\n",
    "picR = 18158\n",
    "BR = [[5.7149E-08,1.1882E-05,-2.4321E-03],[8.8831E-06,-5.3566E-07,-3.8744E-02],[-1.6469E-03,3.3774E-02,9.9867E-01]]\n",
    "TR = [[-5.7704E-08,1.1998E-05,-2.1514E-03],[8.9694E-06,5.4087E-07,-3.9328E-02],[-1.7813E-03,3.3894E-02,9.9865E-01]]\n",
    "TL = [[1.1040E-07,2.2954E-05,-4.1584E-03],[1.7160E-05,-1.0348E-06,6.8654E-02],[-3.4505E-03,-7.3661E-02,9.9490E-01]]\n",
    "BL = [[-1.0175E-07,2.1155E-05,-4.2910E-03],[1.5815E-05,9.5369E-07,6.2907E-02],[-2.8931E-03,-6.8254E-02,9.9567E-01]]\n",
    "F_10point = [[  8.34360564e-08,   1.89022714e-05,  -3.73041652e-03],[  1.94501963e-05,   1.19512678e-06,  -5.90813947e-02],[ -3.16737708e-03,   5.30589622e-02,   9.96830069e-01]]\n",
    "F_big = [[  1.75345969e-07,   1.87353876e-05,  -3.69560210e-03], [  1.92508173e-05,   9.79548859e-07,  -5.72239187e-02],[ -3.15390413e-03,   5.12220927e-02,   9.97034661e-01]]\n",
    "F = F_big\n",
    "Matr = F\n",
    "MatrixL = np.array(Matr)\n",
    "MatrixR = MatrixL.transpose()\n",
    "Linex = np.arange(0,384,1)\n",
    "v0L = imread('./Data/Shot{}/Clean_Data_Shot{}_Cam_{}/FrameL_sum.tif'.format(shot,shot,picL))\n",
    "v0R = imread('./Data/Shot{}/Clean_Data_Shot{}_Cam_{}/FrameR_sum.tif'.format(shot,shot,picR))\n",
    "bk0L = imread('./Data/Shot{}/Clean_Data_Shot{}_Cam_{}/FrameL0.tif'.format(shot,shot,picL))\n",
    "bk0R = imread('./Data/Shot{}/Clean_Data_Shot{}_Cam_{}/FrameR0.tif'.format(shot,shot,picR))"
   ]
  },
  {
   "cell_type": "code",
   "execution_count": 37,
   "metadata": {},
   "outputs": [],
   "source": [
    "#pair = pd.read_csv(\"PairList.csv\") \n",
    "#for iL in pair['PIDL'].unique():\n",
    "\n",
    "#    for iR in pair1['PIDR'].unique():"
   ]
  },
  {
   "cell_type": "code",
   "execution_count": 38,
   "metadata": {},
   "outputs": [],
   "source": [
    "#os.chdir(\".\")\n",
    "#results = pd.DataFrame([])\n",
    "for counter, file in enumerate(glob.glob(\"./Data/Shot{}/Pair_*.csv\".format(shot))):    \n",
    "    f1 = file.split('.csv')\n",
    "    f2 = f1[0].split('_')    \n",
    "    df = pd.read_csv(file)\n",
    "    plt.figure(figsize = (24,24))  # make a new figure\n",
    "    f, ((ax1, ax2), (ax3, ax4)) = plt.subplots(2, 2)\n",
    "    ax2.imshow(v0L+bk0L)\n",
    "    ax2.scatter(df['XL'],df['YL'],color='r',marker=\".\",s=1)\n",
    "    #ax2.plot(df['XR'],df['YR'],color='y')\n",
    "    ax2.set_xlabel('x')\n",
    "    ax2.set_ylabel('y')\n",
    "    ax4.imshow(v0R+bk0R)\n",
    "    #ax4.plot(df['XL'],df['YL'],color='r')\n",
    "    ax4.scatter(df['XR'],df['YR'],color='y',marker=\".\",s=1)\n",
    "    ax4.set_xlabel('x')\n",
    "    ax4.set_ylabel('y')\n",
    "    ax1.scatter(df['Frame'],df['MassL'],color='r',marker=\".\",s=1)\n",
    "    ax1.scatter(df['Frame'],df['MassR'],color='y',marker=\".\",s=1)\n",
    "    ax1.set_xlabel('Frame')\n",
    "    ax1.set_ylabel('Mass')\n",
    "    ax3.scatter(df['Frame'],df['DistanceL'],color='r',marker=\".\",s=1)\n",
    "    ax3.scatter(df['Frame'],df['DistanceR'],color='y',marker=\".\",s=1)\n",
    "    ax3.set_xlabel('Frame')\n",
    "    ax3.set_ylabel('FF')\n",
    "    plt.savefig('./Data/Shot{}/Pair_{}.pdf'.format(shot,f2[1]))\n"
   ]
  },
  {
   "cell_type": "code",
   "execution_count": null,
   "metadata": {
    "collapsed": true
   },
   "outputs": [],
   "source": []
  }
 ],
 "metadata": {
  "kernelspec": {
   "display_name": "Python 2",
   "language": "python",
   "name": "python2"
  },
  "language_info": {
   "codemirror_mode": {
    "name": "ipython",
    "version": 2
   },
   "file_extension": ".py",
   "mimetype": "text/x-python",
   "name": "python",
   "nbconvert_exporter": "python",
   "pygments_lexer": "ipython2",
   "version": "2.7.13"
  }
 },
 "nbformat": 4,
 "nbformat_minor": 2
}
