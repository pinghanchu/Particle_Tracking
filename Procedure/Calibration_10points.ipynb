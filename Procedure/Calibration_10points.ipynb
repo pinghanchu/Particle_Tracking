{
 "cells": [
  {
   "cell_type": "code",
   "execution_count": 1,
   "metadata": {},
   "outputs": [
    {
     "name": "stdout",
     "output_type": "stream",
     "text": [
      "(384, 384)\n"
     ]
    }
   ],
   "source": [
    "import matplotlib as mpl\n",
    "import matplotlib.pyplot as plt\n",
    "import numpy as np\n",
    "from numpy import linalg as LA\n",
    "import pandas as pd\n",
    "from pandas import DataFrame, Series  # for convenience\n",
    "import pims\n",
    "import trackpy as tp\n",
    "import math\n",
    "from scipy.misc import imsave\n",
    "from scipy.misc import imread\n",
    "shot = 119\n",
    "picL = 18333\n",
    "picR = 18158\n",
    "bk0L = imread('./Data/Shot{}/Clean_Data_Shot{}_Cam_{}/FrameL0.tif'.format(shot,shot,picL))\n",
    "bk0R = imread('./Data/Shot{}/Clean_Data_Shot{}_Cam_{}/FrameR0.tif'.format(shot,shot,picR))\n",
    "height,width = bk0L.shape\n",
    "print(width,height)\n",
    "# Use https://automeris.io/WebPlotDigitizer/ to select ~8 corresponding points in the right and left camera\n",
    "'''\n",
    "calL= pd.read_csv(\"calL_comb.csv\",header=None)\n",
    "calR= pd.read_csv(\"calR_comb.csv\",header=None)\n",
    "calL.columns = ['XL','YL']\n",
    "calR.columns = ['XR','YR']\n",
    "calPoint = pd.concat([calL, calR], axis=1)\n",
    "print(calPoint)\n",
    "plt.figure(figsize=[12,12])\n",
    "plt.imshow(bk0L)\n",
    "plt.scatter(calPoint['XL'],calPoint['YL'], marker='o')\n",
    "plt.show()\n",
    "plt.figure(figsize=[12,12])\n",
    "plt.imshow(bk0R)\n",
    "plt.scatter(calPoint['XR'],calPoint['YR'], marker='o')\n",
    "plt.show()\n",
    "'''\n",
    "#print(calPoint)\n",
    "#'''\n",
    "Pl0 = [181.544,384-211.678] # point in the left\n",
    "Pr0 = [59.61,384-211.61] # point in the right\n",
    "Pl1 = [223.43,384-240] \n",
    "Pr1 = [99.95,384-241.25] \n",
    "Pl2 = [318.36,384-180.55] \n",
    "Pr2 = [223.26,384-178.93] \n",
    "Pl3 = [247.01,384-228.00] \n",
    "Pr3 = [147.036,384-228.629]\n",
    "#Pl4 = [268.1624283,384-196.9579168]\n",
    "#Pr4 = [380.9819863,384-197.3868557]\n",
    "Pl5 = [122.4970724,384-255.5938338]\n",
    "Pr5 = [254.4025837,384-258.4559182]\n",
    "#Pl6 = [101.9839782,384-328.4487622]\n",
    "#Pr6 = [157.0699359,384-328.4861723]\n",
    "#Pl7 = [117.1437091,384-372.7670914]\n",
    "#Pr7 = [154.1756298,384-372.2922456]\n",
    "Pl8 = [69.04573449,384-327.5660105]\n",
    "Pr8 = [200.9878585,384-327.1738984]\n",
    "Pl9 = [159.2819549,384-306.8727401]\n",
    "Pr9 = [277.7101701,384-313.5317582]\n",
    "#Pl10 = [246.184615,66.758974]\n",
    "#Pr10 = [198.102990,60.109635]\n",
    "#Pl11 = [255.875587,67.098592]\n",
    "#Pr11 = [210.071705,60.023256]\n",
    "Pl12 = [296.0, 185.0]\n",
    "Pr12 = [99.0, 186]\n",
    "#Pl13 = [251.991004,49.052474]\n",
    "#Pr13 = [203.005249,41.871391]\n",
    "Pl14 = [245.082456,17.017544]\n",
    "Pr14 = [234.976577,5.996396]\n",
    "Pl15 = [345,262]\n",
    "Pr15 = [67,267]\n",
    "#Pl16 = [345,253]\n",
    "#Pr16 = [73,257]\n",
    "#Pl17 = [342,239]\n",
    "#Pr17 = [81,243]\n",
    "#Pl18 = [335,223]\n",
    "#Pr18 = [88,226]\n",
    "#'''"
   ]
  },
  {
   "cell_type": "code",
   "execution_count": 2,
   "metadata": {},
   "outputs": [],
   "source": [
    "#'''\n",
    "PL = []\n",
    "PL.append(Pl0)\n",
    "PL.append(Pl1)\n",
    "PL.append(Pl2)\n",
    "PL.append(Pl3)\n",
    "#PL.append(Pl4)\n",
    "PL.append(Pl5)\n",
    "#PL.append(Pl6)\n",
    "#PL.append(Pl7)\n",
    "PL.append(Pl8)\n",
    "PL.append(Pl9)\n",
    "#PL.append(Pl10)\n",
    "#PL.append(Pl11)\n",
    "PL.append(Pl12)\n",
    "#PL.append(Pl13)\n",
    "PL.append(Pl14)\n",
    "PL.append(Pl15)\n",
    "#PL.append(Pl16)\n",
    "#PL.append(Pl17)\n",
    "#PL.append(Pl18)\n",
    "PR = []\n",
    "PR.append(Pr0)\n",
    "PR.append(Pr1)\n",
    "PR.append(Pr2)\n",
    "PR.append(Pr3)\n",
    "#PR.append(Pr4)\n",
    "PR.append(Pr5)\n",
    "#PR.append(Pr6)\n",
    "#PR.append(Pr7)\n",
    "PR.append(Pr8)\n",
    "PR.append(Pr9)\n",
    "#PR.append(Pr10)\n",
    "#PR.append(Pr11)\n",
    "PR.append(Pr12)\n",
    "#PR.append(Pr13)\n",
    "PR.append(Pr14)\n",
    "PR.append(Pr15)\n",
    "#PR.append(Pr16)\n",
    "#PR.append(Pr17)\n",
    "#PR.append(Pr18)\n",
    "#'''"
   ]
  },
  {
   "cell_type": "code",
   "execution_count": 3,
   "metadata": {},
   "outputs": [
    {
     "data": {
      "text/plain": [
       "matrix([[  1.48167604e+10,   1.19426018e+10,   8.11375314e+07,\n",
       "           7.78975872e+09,   8.04478590e+09,   4.58608716e+07,\n",
       "           6.50694198e+07,   4.50578710e+07,   3.39832864e+05],\n",
       "        [  1.19426018e+10,   1.96282719e+10,   9.54511831e+07,\n",
       "           8.04478590e+09,   1.38993156e+10,   6.66616870e+07,\n",
       "           4.50578710e+07,   6.70877848e+07,   3.46022592e+05],\n",
       "        [  8.11375314e+07,   9.54511831e+07,   5.57096216e+05,\n",
       "           4.58608716e+07,   6.66616870e+07,   3.47993435e+05,\n",
       "           3.39832864e+05,   3.46022592e+05,   2.20725122e+03],\n",
       "        [  7.78975872e+09,   8.04478590e+09,   4.58608716e+07,\n",
       "           5.21610746e+09,   5.59004865e+09,   3.12042924e+07,\n",
       "           3.60319456e+07,   3.10764932e+07,   1.98320933e+05],\n",
       "        [  8.04478590e+09,   1.38993156e+10,   6.66616870e+07,\n",
       "           5.59004865e+09,   1.00105074e+10,   4.77142003e+07,\n",
       "           3.10764932e+07,   4.80448508e+07,   2.45450581e+05],\n",
       "        [  4.58608716e+07,   6.66616870e+07,   3.47993435e+05,\n",
       "           3.12042924e+07,   4.77142003e+07,   2.44938924e+05,\n",
       "           1.98320933e+05,   2.45450581e+05,   1.40175696e+03],\n",
       "        [  6.50694198e+07,   4.50578710e+07,   3.39832864e+05,\n",
       "           3.60319456e+07,   3.10764932e+07,   1.98320933e+05,\n",
       "           3.36751692e+05,   1.93814944e+05,   1.66393319e+03],\n",
       "        [  4.50578710e+07,   6.70877848e+07,   3.46022592e+05,\n",
       "           3.10764932e+07,   4.80448508e+07,   2.45450581e+05,\n",
       "           1.93814944e+05,   2.46166979e+05,   1.38741582e+03],\n",
       "        [  3.39832864e+05,   3.46022592e+05,   2.20725122e+03,\n",
       "           1.98320933e+05,   2.45450581e+05,   1.40175696e+03,\n",
       "           1.66393319e+03,   1.38741582e+03,   1.00000000e+01]])"
      ]
     },
     "execution_count": 3,
     "metadata": {},
     "output_type": "execute_result"
    }
   ],
   "source": [
    "A = []\n",
    "one = [1,1,1,1,1,1,1,1,1]\n",
    "zero = [0,0,0,0,0,0,0,0,0]\n",
    "#for ip in range(len(calPoint)):\n",
    "    #plx = calPoint['XL'].iloc[ip]\n",
    "    #ply = calPoint['YL'].iloc[ip]\n",
    "    #prx = calPoint['XR'].iloc[ip]\n",
    "    #pry = calPoint['YR'].iloc[ip]\n",
    "    #print(plx,ply,prx,pry)\n",
    "for ip in range(len(PL)):\n",
    "    plx = PL[ip][0]\n",
    "    ply = PL[ip][1]\n",
    "    prx = PR[ip][0]\n",
    "    pry = PR[ip][1]\n",
    "    xlxr = plx*prx\n",
    "    xlyr = plx*pry\n",
    "    xl = plx\n",
    "    ylxr = ply*prx\n",
    "    ylyr = ply*pry\n",
    "    yl = ply\n",
    "    xr = prx\n",
    "    yr = pry\n",
    "    null = 1\n",
    "    Ai = [xlxr,xlyr,xl,ylxr,ylyr,yl,xr,yr,1]\n",
    "    A.append(Ai) \n",
    "Aarray = np.matrix(A)\n",
    "AarrayT = Aarray.transpose()\n",
    "AA = Aarray.transpose()*Aarray\n",
    "AA"
   ]
  },
  {
   "cell_type": "code",
   "execution_count": 4,
   "metadata": {},
   "outputs": [
    {
     "name": "stdout",
     "output_type": "stream",
     "text": [
      "[  4.24863474e+10   6.41303315e+09   6.81758911e+08   9.18368047e+07\n",
      "   4.16772134e+04   1.33936275e+04   6.35708927e+02   6.01023857e+00\n",
      "   2.75269156e-03]\n",
      "[[  5.06458081e-01   6.56339381e-01   3.50680380e-03   3.16661686e-01\n",
      "    4.60886935e-01   2.32672691e-03   2.07745979e-03   2.32637124e-03\n",
      "    1.35375875e-05]\n",
      " [  7.71893917e-01  -4.46891924e-01   9.15101554e-04   2.44904176e-01\n",
      "   -3.80091069e-01  -7.61539089e-04   4.22648268e-03  -9.12364554e-04\n",
      "    9.81797339e-06]\n",
      " [ -3.78351356e-01  -1.38109097e-01  -4.40101200e-03   9.15138049e-01\n",
      "   -1.63204343e-02   1.78842221e-03   2.38362958e-03   1.96827815e-03\n",
      "    1.64217769e-06]\n",
      " [  6.70451426e-02  -5.91933133e-01   2.38222799e-03  -4.73468577e-02\n",
      "    8.01711588e-01   4.31084781e-03   9.85959378e-03   3.93011225e-03\n",
      "    5.86449859e-05]\n",
      " [ -5.13707380e-03   4.45640988e-03   5.43397248e-01  -2.22796170e-03\n",
      "   -9.94064018e-03   3.66171606e-01   6.68658501e-01   3.51217693e-01\n",
      "    5.44962131e-03]\n",
      " [ -9.55351354e-04   4.93580452e-03  -4.65349014e-01  -2.44035601e-03\n",
      "   -6.77847040e-04  -3.44166670e-01   7.43044759e-01  -3.35934764e-01\n",
      "   -4.77906293e-04]\n",
      " [  2.80903729e-03   1.73092373e-03  -6.97984913e-01  -4.12644852e-03\n",
      "   -2.62362105e-03   4.82910271e-01   2.52983458e-02   5.28134364e-01\n",
      "    3.74452793e-03]\n",
      " [ -9.96812247e-06   2.25774075e-04  -3.06920979e-02  -2.10063111e-05\n",
      "   -1.60901122e-04   7.15835282e-01  -1.71601552e-03  -6.94560001e-01\n",
      "   -6.49709667e-02]\n",
      " [ -1.37575164e-06   1.67391404e-05  -2.56984893e-03   1.96866544e-05\n",
      "    3.72992394e-06   4.26309951e-02  -3.50318198e-03  -4.92838682e-02\n",
      "    9.97865132e-01]]\n",
      "8\n"
     ]
    },
    {
     "data": {
      "text/plain": [
       "matrix([[ -1.37575164e-06,   1.67391404e-05,  -2.56984893e-03,\n",
       "           1.96866544e-05,   3.72992394e-06,   4.26309951e-02,\n",
       "          -3.50318198e-03,  -4.92838682e-02,   9.97865132e-01]])"
      ]
     },
     "execution_count": 4,
     "metadata": {},
     "output_type": "execute_result"
    }
   ],
   "source": [
    "w, v = LA.eig(AA)\n",
    "v1 = v.transpose()\n",
    "print(w)\n",
    "print(v1)\n",
    "imin = np.argmin(w)\n",
    "print(imin)\n",
    "en = w[imin]\n",
    "ev = v1[imin]\n",
    "ev"
   ]
  },
  {
   "cell_type": "code",
   "execution_count": 5,
   "metadata": {
    "scrolled": true
   },
   "outputs": [
    {
     "data": {
      "text/plain": [
       "matrix([[ -3.25962901e-09],\n",
       "        [  5.35510480e-08],\n",
       "        [ -7.07392246e-06],\n",
       "        [  5.56465238e-08],\n",
       "        [  1.44354999e-08],\n",
       "        [  1.17350004e-04],\n",
       "        [ -9.64315041e-06],\n",
       "        [ -1.35663264e-04],\n",
       "        [  2.74681493e-03]])"
      ]
     },
     "execution_count": 5,
     "metadata": {},
     "output_type": "execute_result"
    }
   ],
   "source": [
    "AA*ev.transpose()"
   ]
  },
  {
   "cell_type": "code",
   "execution_count": 6,
   "metadata": {},
   "outputs": [
    {
     "data": {
      "text/plain": [
       "array([[ -1.37575164e-06,   1.96866544e-05,  -3.50318198e-03],\n",
       "       [  1.67391404e-05,   3.72992394e-06,  -4.92838682e-02],\n",
       "       [ -2.56984893e-03,   4.26309951e-02,   9.97865132e-01]])"
      ]
     },
     "execution_count": 6,
     "metadata": {},
     "output_type": "execute_result"
    }
   ],
   "source": [
    "ev1 = np.array(ev)\n",
    "ev1 = ev1[0]\n",
    "F = [[ev1[0],ev1[3],ev1[6]],[ev1[1],ev1[4],ev1[7]],[ev1[2],ev1[5],ev1[8]]]\n",
    "MatrixL = np.array(F)\n",
    "MatrixR = MatrixL.transpose()\n",
    "MatrixL"
   ]
  },
  {
   "cell_type": "code",
   "execution_count": 9,
   "metadata": {},
   "outputs": [],
   "source": [
    "bk0L = imread('./Data/Shot{}/Clean_Data_Shot{}_Cam_{}/FrameL0.tif'.format(shot,shot,picL))\n",
    "bk0R = imread('./Data/Shot{}/Clean_Data_Shot{}_Cam_{}/FrameR0.tif'.format(shot,shot,picR))\n",
    "plt.figure(figsize=[3,3])\n",
    "plt.imshow(bk0L)\n",
    "x = np.arange(0,width,1)\n",
    "'''\n",
    "for ip in range(0,len(calPoint)):\n",
    "    plx = calPoint['XL'].iloc[ip]\n",
    "    ply = calPoint['YL'].iloc[ip]\n",
    "    prx = calPoint['XR'].iloc[ip]\n",
    "    pry = calPoint['YR'].iloc[ip]\n",
    "    ipL = [plx,ply,1]\n",
    "    ipR = [prx,pry,1]\n",
    "'''\n",
    "for ip in range(len(PL)):\n",
    "    plx = PL[ip][0]\n",
    "    ply = PL[ip][1]\n",
    "    prx = PR[ip][0]\n",
    "    pry = PR[ip][1]\n",
    "    ipL = PL[ip]\n",
    "    ipR = PR[ip]\n",
    "    off = np.ones((1,1))\n",
    "    ipL = np.append(ipL, off)\n",
    "    ipR = np.append(ipR, off)\n",
    "    LineL = np.dot(ipR,MatrixL) #points in the right frame and the corresponding epipolar lines in the left frame\n",
    "    LineR = np.dot(ipL,MatrixR) #points in the left frame and the corresponding epipolar lines in the right frame\n",
    "    yL = (-LineL[2]-LineL[0]*x)/LineL[1]\n",
    "    yR = (-LineR[2]-LineR[0]*x)/LineR[1]\n",
    "    dlr = math.fabs(np.dot(ipL,LineL))/math.sqrt(LineL[0]*LineL[0]+LineL[1]*LineL[1])\n",
    "    drl = math.fabs(np.dot(ipR,LineR))/math.sqrt(LineR[0]*LineR[0]+LineR[1]*LineR[1])  \n",
    "    plt.plot(x,yL,color='g',linestyle=':')\n",
    "    #plt.plot(x,yR,color='r')\n",
    "    #plt.plot(prx,pry,\"o\",color='r')    \n",
    "    plt.plot(plx,ply,\"o\",color='g') \n",
    "    plt.xlabel('X');\n",
    "    plt.ylabel('Y');\n",
    "    #print(ip,dlr,drl)\n",
    "#plt.show()\n",
    "plt.ylim(384,0)\n",
    "#plt.show()\n",
    "plt.subplots_adjust(bottom=0.2)\n",
    "plt.savefig(\"./CalibrationL_10_Shot{}.pdf\".format(shot))\n",
    "plt.figure(figsize=[3,3])\n",
    "plt.imshow(bk0R)\n",
    "for ip in range(len(PR)):\n",
    "    plx = PL[ip][0]\n",
    "    ply = PL[ip][1]\n",
    "    prx = PR[ip][0]\n",
    "    pry = PR[ip][1]\n",
    "    ipL = PL[ip]\n",
    "    ipR = PR[ip]\n",
    "    off = np.ones((1,1))\n",
    "    ipL = np.append(ipL, off)\n",
    "    ipR = np.append(ipR, off)\n",
    "    LineL = np.dot(ipR,MatrixL) #points in the right frame and the corresponding epipolar lines in the left frame\n",
    "    LineR = np.dot(ipL,MatrixR) #points in the left frame and the corresponding epipolar lines in the right frame\n",
    "    yL = (-LineL[2]-LineL[0]*x)/LineL[1]\n",
    "    yR = (-LineR[2]-LineR[0]*x)/LineR[1]\n",
    "    dlr = math.fabs(np.dot(ipL,LineL))/math.sqrt(LineL[0]*LineL[0]+LineL[1]*LineL[1])\n",
    "    drl = math.fabs(np.dot(ipR,LineR))/math.sqrt(LineR[0]*LineR[0]+LineR[1]*LineR[1])  \n",
    "    #plt.plot(x,yL,color='g')\n",
    "    plt.plot(x,yR,color='r',linestyle=':')\n",
    "    plt.plot(prx,pry,\"o\",color='r')\n",
    "    plt.xlabel('X');\n",
    "    plt.ylabel('Y');\n",
    "    #plt.plot(plx,ply,\"o\",color='g')  \n",
    "    #print(ip,dlr,drl)\n",
    "#plt.show()\n",
    "plt.ylim(384,0)\n",
    "#plt.show()\n",
    "plt.subplots_adjust(bottom=0.2)\n",
    "plt.savefig(\"./CalibrationR_10_Shot{}.pdf\".format(shot))"
   ]
  },
  {
   "cell_type": "code",
   "execution_count": 8,
   "metadata": {
    "collapsed": true
   },
   "outputs": [],
   "source": [
    "plt.figure(figsize=[24,24])\n",
    "plt.imshow(bk0R+bk0L)\n",
    "plt.savefig(\"bk.tif\")"
   ]
  },
  {
   "cell_type": "code",
   "execution_count": null,
   "metadata": {
    "collapsed": true
   },
   "outputs": [],
   "source": []
  }
 ],
 "metadata": {
  "kernelspec": {
   "display_name": "Python 2",
   "language": "python",
   "name": "python2"
  },
  "language_info": {
   "codemirror_mode": {
    "name": "ipython",
    "version": 2
   },
   "file_extension": ".py",
   "mimetype": "text/x-python",
   "name": "python",
   "nbconvert_exporter": "python",
   "pygments_lexer": "ipython2",
   "version": "2.7.13"
  }
 },
 "nbformat": 4,
 "nbformat_minor": 2
}
