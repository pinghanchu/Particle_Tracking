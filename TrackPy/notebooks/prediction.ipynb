{
 "cells": [
  {
   "cell_type": "markdown",
   "metadata": {},
   "source": [
    "# Prediction: Beyond Simple Random Walks\n",
    "\n",
    "The tracking algorithm, at its simplest level, takes each particle in the previous frame and tries to find it in the current frame. This requires knowing where to look for it; if we find an actual particle near that spot, it's probably a match. The basic algorithm (Crocker & Grier) was developed to track particles undergoing Brownian diffusion, which ideally means that a particle's velocity is uncorrelated from one frame to the next. Therefore, the best guess for where a particle is going is that it will be near its most recent location.\n",
    "\n",
    "Let's formalize this guessing as *prediction*. Consider a function\n",
    "\n",
    "$$P(t_1, t_0, \\vec x(t_0))$$\n",
    "\n",
    "that takes the particle at position $\\vec x(t_0)$ and predicts its future position $\\vec x(t_1)$. The optimal predictor for Brownian motion is\n",
    "\n",
    "$$P(t_1, t_0, \\vec x(t_0)) = \\vec x(t_0)$$\n",
    "\n",
    "which happily is also the easiest to implement.\n",
    "\n",
    "The better our prediction about where to look in the next frame, the more likely we will find the one and only particle we seek. `trackpy` looks for the particle in a small region of radius `search_range`, centered on $P(t_1, t_0, \\vec x(t_0))$. So to successfully track particle $i$ puts a limit on the error in our prediction:\n",
    "\n",
    "$$\\|P(t_1, t_0, \\vec x_i(t_0)) - \\vec x_i(t_1)\\| \\le \\tt{search\\_range}$$\n",
    "\n",
    "This favors a generous `search_range`. However, if `search_range` is too big, then for each particle in the previous frame there will be many possible matches in the current frame, and so matching one frame to the next requires the computer to consider a mind-boggling set of possibilities. Tracking may become impossibly slow, and this causes `trackpy` to halt and raise a `SubnetOversizeException`, rather than keep you waiting forever. So for the Brownian $P$ above, `search_range` must be bigger than the largest particle displacement between frames, but smaller than the typical spacing between particles. If such a value cannot be found among the real numbers, then you have a problem.\n",
    "\n",
    "However, if particle motion is not strictly Brownian, its velocity probably *is* correlated in time. We may be able to improve $P$. We will now do this with `trackpy`."
   ]
  },
  {
   "cell_type": "markdown",
   "metadata": {},
   "source": [
    "## Prescribed predictors\n",
    "\n",
    "Let's start by demonstrating the mechanics of $P$ in `trackpy`. `trackpy`'s various `link_` functions accept a `predictor` argument, which is a Python function that implements $P$.\n",
    "\n",
    "Before we see how, let's fake some data: a regular array of particles, translating with constant velocity."
   ]
  },
  {
   "cell_type": "code",
   "execution_count": 1,
   "metadata": {
    "collapsed": false
   },
   "outputs": [],
   "source": [
    "%matplotlib inline\n",
    "from pylab import *  # not recommended usage, but we use it for brevity here\n",
    "import numpy as np\n",
    "import pandas\n",
    "\n",
    "def fakeframe(t=0, Nside=4):\n",
    "    xg, yg = np.mgrid[:Nside,:Nside]\n",
    "    dx = 1 * t\n",
    "    dy = -1 * t\n",
    "    return pandas.DataFrame(\n",
    "            dict(x=xg.flatten() + dx, y=yg.flatten() + dy, frame=t))"
   ]
  },
  {
   "cell_type": "markdown",
   "metadata": {},
   "source": [
    "Let's visualize 2 frames. In all of the plots below, the blue circles are the particles of the first frame and the green squares are the particles of the last frame."
   ]
  },
  {
   "cell_type": "code",
   "execution_count": 2,
   "metadata": {
    "collapsed": false
   },
   "outputs": [
    {
     "data": {
      "text/plain": [
       "(-1.0, 3.5)"
      ]
     },
     "execution_count": 2,
     "metadata": {},
     "output_type": "execute_result"
    },
    {
     "data": {
      "image/png": "[encoded data removed]",
      "text/plain": [
       "<matplotlib.figure.Figure at 0x7f57646ff0b8>"
      ]
     },
     "metadata": {},
     "output_type": "display_data"
    }
   ],
   "source": [
    "f0 = fakeframe(0)\n",
    "f1 = fakeframe(0.8)\n",
    "plot(f0.x, f0.y, 'bo')\n",
    "plot(f1.x, f1.y, 'gs')\n",
    "axis('equal'); ylim(ymin=-1.0, ymax=3.5)"
   ]
  },
  {
   "cell_type": "markdown",
   "metadata": {},
   "source": [
    "Track and visualize."
   ]
  },
  {
   "cell_type": "code",
   "execution_count": 3,
   "metadata": {
    "collapsed": false
   },
   "outputs": [
    {
     "name": "stdout",
     "output_type": "stream",
     "text": [
      "Frame 0: 16 trajectories present\n"
     ]
    }
   ],
   "source": [
    "import trackpy\n",
    "tr = pandas.concat(trackpy.link_df_iter((f0, f1), 0.5))"
   ]
  },
  {
   "cell_type": "code",
   "execution_count": 4,
   "metadata": {
    "collapsed": false
   },
   "outputs": [],
   "source": [
    "def trshow(tr, first_style='bo', last_style='gs', style='b.'):\n",
    "    frames = list(tr.groupby('frame'))\n",
    "    nframes = len(frames)\n",
    "    for i, (fnum, pts) in enumerate(frames):\n",
    "        if i == 0:\n",
    "            sty = first_style\n",
    "        elif i == nframes - 1:\n",
    "            sty = last_style\n",
    "        else:\n",
    "            sty = style\n",
    "        plot(pts.x, pts.y, sty)\n",
    "    trackpy.plot_traj(tr, colorby='frame', ax=gca())\n",
    "    axis('equal'); ylim(ymin=-1.0, ymax=3.5)\n",
    "    xlabel('x')\n",
    "    ylabel('y')"
   ]
  },
  {
   "cell_type": "code",
   "execution_count": 5,
   "metadata": {
    "collapsed": false
   },
   "outputs": [
    {
     "name": "stdout",
     "output_type": "stream",
     "text": [
      "Drawing multicolor lines takes awhile. Come back in a minute.\n"
     ]
    },
    {
     "data": {
      "image/png": "[encoded data removed]",
      "text/plain": [
       "<matplotlib.figure.Figure at 0x7f57294c11d0>"
      ]
     },
     "metadata": {},
     "output_type": "display_data"
    }
   ],
   "source": [
    "trshow(tr)"
   ]
  },
  {
   "cell_type": "markdown",
   "metadata": {},
   "source": [
    "Obviously this is not what we wanted at all! Let's give `trackpy.link_df_iter()` a $P$ which reflects this constant velocity.\n",
    "\n",
    "We define `predict()` for a single particle, and use the `trackpy.predict.predictor` decorator to let it make predictions for many particles at once. Then, we pass it to `link_df_iter()` via the `predictor` argument."
   ]
  },
  {
   "cell_type": "code",
   "execution_count": 6,
   "metadata": {
    "collapsed": false
   },
   "outputs": [
    {
     "name": "stdout",
     "output_type": "stream",
     "text": [
      "Drawing multicolor lines takes awhile. Come back in a minute.\n"
     ]
    },
    {
     "data": {
      "image/png": "[encoded data removed]",
      "text/plain": [
       "<matplotlib.figure.Figure at 0x7f573f457b00>"
      ]
     },
     "metadata": {},
     "output_type": "display_data"
    }
   ],
   "source": [
    "import trackpy.predict\n",
    "\n",
    "@trackpy.predict.predictor\n",
    "def predict(t1, particle):\n",
    "    velocity = np.array((1, -1)) # See fakeframe()\n",
    "    return particle.pos + velocity * (t1 - particle.t)\n",
    "\n",
    "tr = pandas.concat(trackpy.link_df_iter((f0, f1), 0.5, predictor=predict))\n",
    "trshow(tr)"
   ]
  },
  {
   "cell_type": "markdown",
   "metadata": {},
   "source": [
    "Yay! Remember: Our predictor doesn't have to know exactly where the particle will be; it just has to bias the search enough that the correct identification will be made."
   ]
  },
  {
   "cell_type": "markdown",
   "metadata": {},
   "source": [
    "## Dynamic predictors\n",
    "\n",
    "Of course, it's rare that you will know your particles' velocities ahead of time. It would be much better for the predictor to \"learn\" about the velocities, and allow different particles to have different velocities that can change over time. To accomplish this, we have to do more than just supply $P$: we have to know particles' most recent velocities.\n",
    "\n",
    "$$P(t_1, t_0, \\vec x_i(t_0)) = \\vec x_i(t_0) + \\frac{\\vec x_i(t_0) - \\vec x_i(t_{-1})}{t_0 - t_{-1}} (t_1 - t_0)$$\n",
    "\n",
    "To implement this kind of prediction in `trackpy`, we use instances of the `trackpy.predict.NearestVelocityPredict` class.\n",
    "\n",
    "There are a few caveats:\n",
    "\n",
    "- Defining this new $P$ for particle $i$ specifically is problematic, because if a new particle is in frame $t_0$ but wasn't in $t_{-1}$, we won't know its velocity. So newly-appeared particles just borrow the velocity of the closest old particle.\n",
    "\n",
    "- Velocities are undefined in the first frame of the movie, because there is no previous frame. The code falls back to an initial guess of $\\vec v_0 = 0$. However, `NearestVelocityPredict`, and the other classes in `trackpy.predict`, allow one to instead specify an initial velocity profile, field, etc. See the docstring of each class.\n",
    "\n",
    "- Even though particles may be in motion at the start of the movie, the default of $\\vec v_0 = 0$ is not always so bad. In many cases, at least some of the particles are moving slowly enough that they can be tracked and their velocity can be obtained. Because particles with unknown velocity just borrow the nearest known velocity, as we just discussed, this may give the code a foothold to track more particles in later frames. Your mileage may vary.\n",
    "\n",
    "OK, let's see this in action. We'll make a 3-frame movie that starts with small displacements (because of the $\\vec v_0 = 0$ assumption) and then speeds up."
   ]
  },
  {
   "cell_type": "code",
   "execution_count": 7,
   "metadata": {
    "collapsed": false
   },
   "outputs": [],
   "source": [
    "frames = (fakeframe(0), fakeframe(0.25), fakeframe(0.65))"
   ]
  },
  {
   "cell_type": "markdown",
   "metadata": {},
   "source": [
    "Without prediction, linking of the particles in the top row can't even make it to the 3rd frame."
   ]
  },
  {
   "cell_type": "code",
   "execution_count": 8,
   "metadata": {
    "collapsed": false,
    "scrolled": true
   },
   "outputs": [
    {
     "name": "stdout",
     "output_type": "stream",
     "text": [
      "Drawing multicolor lines takes awhile. Come back in a minute.\n"
     ]
    },
    {
     "data": {
      "image/png": "[encoded data removed]",
      "text/plain": [
       "<matplotlib.figure.Figure at 0x7f5728a5a0f0>"
      ]
     },
     "metadata": {},
     "output_type": "display_data"
    }
   ],
   "source": [
    "tr = pandas.concat(trackpy.link_df_iter(frames, 0.5))\n",
    "trshow(tr)"
   ]
  },
  {
   "cell_type": "markdown",
   "metadata": {},
   "source": [
    "`NearestVelocityPredict` objects work by watching the output of linking as it happens, and updating $P$ to use the latest velocities. These objects provide modified versions of trackpy's two main linking functions, `link_df_iter()` and `link_df()`, that work like their namesakes but add dynamic prediction.\n",
    "\n",
    "First, we use `link_df_iter()` to link the frames with prediction:"
   ]
  },
  {
   "cell_type": "code",
   "execution_count": 9,
   "metadata": {
    "collapsed": false
   },
   "outputs": [
    {
     "name": "stdout",
     "output_type": "stream",
     "text": [
      "Drawing multicolor lines takes awhile. Come back in a minute.\n"
     ]
    },
    {
     "data": {
      "image/png": "[encoded data removed]",
      "text/plain": [
       "<matplotlib.figure.Figure at 0x7f572896a128>"
      ]
     },
     "metadata": {},
     "output_type": "display_data"
    }
   ],
   "source": [
    "pred = trackpy.predict.NearestVelocityPredict()\n",
    "tr = pandas.concat(pred.link_df_iter(frames, 0.5))\n",
    "trshow(tr)"
   ]
  },
  {
   "cell_type": "markdown",
   "metadata": {},
   "source": [
    "Alternatively, we can use `link_df()`:"
   ]
  },
  {
   "cell_type": "code",
   "execution_count": 10,
   "metadata": {
    "collapsed": false
   },
   "outputs": [
    {
     "name": "stdout",
     "output_type": "stream",
     "text": [
      "Drawing multicolor lines takes awhile. Come back in a minute.\n"
     ]
    },
    {
     "data": {
      "image/png": "[encoded data removed]",
      "text/plain": [
       "<matplotlib.figure.Figure at 0x7f573f4b85f8>"
      ]
     },
     "metadata": {},
     "output_type": "display_data"
    }
   ],
   "source": [
    "pred = trackpy.predict.NearestVelocityPredict()\n",
    "tr = pred.link_df(pandas.concat(frames), 0.5)\n",
    "trshow(tr)"
   ]
  },
  {
   "cell_type": "markdown",
   "metadata": {},
   "source": [
    "We'll use `link_df_iter()` for the remaining examples, but `link_df()` is always available as well.\n",
    "\n",
    "(*Note:* Unlike `link_df_iter()`, this `link_df()` is usually — but not always — a drop-in replacment for `trackpy.link_df()`. Consult the documentation or source code for details.)"
   ]
  },
  {
   "cell_type": "markdown",
   "metadata": {},
   "source": [
    "### Channel flow prediction\n",
    "\n",
    "There is one special case that is common enough to deserve a special $P$: channel flow, in which velocities are relatively uniform in one direction. For example, if the channel is in the $x$ (i.e. $\\hat i$) direction, particle velocities are very well approximated as\n",
    "\n",
    "$$\\vec v = \\hat i v_x(y)$$\n",
    "\n",
    "where the velocity profile $v_x(y)$ is a smoothly-varying function defined across the channel.\n",
    "\n",
    "This is implemented by the `trackpy.predict.ChannelPredict` class. When creating an instance, you must specify the size of the bins used to create the velocity profile. You can also specify the direction of flow; see the class's docstring for details.\n",
    "\n",
    "Let's create some particles undergoing accelerating shear."
   ]
  },
  {
   "cell_type": "code",
   "execution_count": 11,
   "metadata": {
    "collapsed": false
   },
   "outputs": [],
   "source": [
    "def fakeshear(t=0, Nside=4):\n",
    "    xg, yg = np.mgrid[:Nside,:Nside]\n",
    "    dx = 0.45 * t * yg\n",
    "    return pandas.DataFrame(\n",
    "            dict(x=(xg + dx).flatten(), y=yg.flatten(), frame=t))"
   ]
  },
  {
   "cell_type": "markdown",
   "metadata": {},
   "source": [
    "When we attempt to track them, the algorithm fails for the top row of particles."
   ]
  },
  {
   "cell_type": "code",
   "execution_count": 12,
   "metadata": {
    "collapsed": false
   },
   "outputs": [
    {
     "name": "stdout",
     "output_type": "stream",
     "text": [
      "Drawing multicolor lines takes awhile. Come back in a minute.\n"
     ]
    },
    {
     "data": {
      "image/png": "[encoded data removed]",
      "text/plain": [
       "<matplotlib.figure.Figure at 0x7f572890d710>"
      ]
     },
     "metadata": {},
     "output_type": "display_data"
    }
   ],
   "source": [
    "frames = (fakeshear(0), fakeshear(0.25), fakeshear(0.65))\n",
    "tr = pandas.concat(trackpy.link_df_iter(frames, 0.5))\n",
    "trshow(tr)\n",
    "ylim(ymax=3.5);"
   ]
  },
  {
   "cell_type": "markdown",
   "metadata": {},
   "source": [
    "Now, let's try it with prediction:"
   ]
  },
  {
   "cell_type": "code",
   "execution_count": 13,
   "metadata": {
    "collapsed": false
   },
   "outputs": [
    {
     "name": "stdout",
     "output_type": "stream",
     "text": [
      "Drawing multicolor lines takes awhile. Come back in a minute.\n"
     ]
    },
    {
     "data": {
      "image/png": "[encoded data removed]",
      "text/plain": [
       "<matplotlib.figure.Figure at 0x7f57287ac4a8>"
      ]
     },
     "metadata": {},
     "output_type": "display_data"
    }
   ],
   "source": [
    "pred = trackpy.predict.ChannelPredict(0.5, 'x', minsamples=3)\n",
    "tr = pandas.concat(pred.link_df_iter(frames, 0.5))\n",
    "trshow(tr)\n",
    "ylim(ymax=3.5);"
   ]
  },
  {
   "cell_type": "markdown",
   "metadata": {},
   "source": [
    "Much better!"
   ]
  },
  {
   "cell_type": "markdown",
   "metadata": {},
   "source": [
    "### Drift prediction\n",
    "\n",
    "Finally, the most symmetric prediction class in `trackpy.predict` is `DriftPredict`. This just makes predictions based on the average velocity of all particles. It is useful when you have some background convective flow that you'd like to ignore."
   ]
  }
 ],
 "metadata": {
  "kernelspec": {
   "display_name": "Python 3",
   "language": "python",
   "name": "python3"
  },
  "language_info": {
   "codemirror_mode": {
    "name": "ipython",
    "version": 3
   },
   "file_extension": ".py",
   "mimetype": "text/x-python",
   "name": "python",
   "nbconvert_exporter": "python",
   "pygments_lexer": "ipython3",
   "version": "3.4.3"
  }
 },
 "nbformat": 4,
 "nbformat_minor": 0
}
