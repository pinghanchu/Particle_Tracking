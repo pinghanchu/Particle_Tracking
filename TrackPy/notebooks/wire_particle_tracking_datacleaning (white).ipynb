{
 "cells": [
  {
   "cell_type": "code",
   "execution_count": 1,
   "metadata": {
    "collapsed": true
   },
   "outputs": [],
   "source": [
    "from __future__ import division, unicode_literals, print_function  # for compatibility with Python 2 and 3\n",
    "\n",
    "import matplotlib as mpl\n",
    "import matplotlib.pyplot as plt\n",
    "\n",
    "# change the following to %matplotlib notebook for interactive plotting\n",
    "%matplotlib inline\n",
    "\n",
    "# Optionally, tweak styles.\n",
    "mpl.rc('figure',  figsize=(10, 6))\n",
    "#mpl.rc('image', cmap='gray')\n",
    "import numpy as np\n",
    "import pandas as pd\n",
    "from pandas import DataFrame, Series  # for convenience\n",
    "from scipy.misc import imsave\n",
    "import pims\n",
    "import trackpy as tp\n",
    "from pims import Frame"
   ]
  },
  {
   "cell_type": "code",
   "execution_count": 2,
   "metadata": {},
   "outputs": [
    {
     "data": {
      "text/plain": [
       "u'0.3.1'"
      ]
     },
     "execution_count": 2,
     "metadata": {},
     "output_type": "execute_result"
    }
   ],
   "source": [
    "import trackpy\n",
    "import trackpy.diag\n",
    "\n",
    "trackpy.__version__\n",
    "#trackpy.diag.dependencies()"
   ]
  },
  {
   "cell_type": "code",
   "execution_count": 3,
   "metadata": {},
   "outputs": [
    {
     "name": "stderr",
     "output_type": "stream",
     "text": [
      "/Users/pinghanchu/anaconda/lib/python2.7/site-packages/tifffile/tifffile.py:2126: UserWarning: invalid page offset > file size\n",
      "  warnings.warn(\"invalid page offset > file size\")\n"
     ]
    }
   ],
   "source": [
    "pic = 18333\n",
    "v = pims.TiffStack('/Users/pinghanchu/Documents/Git/Data/Shot119_Cam_{}.tif'.format(pic))\n",
    "v0 = tp.bandpass(v[0],0,300,threshold=5,truncate=4)\n",
    "#plt.imshow(v0)\n",
    "zero = tp.bandpass(v[300],0,300,threshold=5,truncate=10)-v0\n",
    "zero[zero>0]=0\n",
    "zero[zero<0]=0\n",
    "a = zero\n",
    "b = zero\n",
    "for iv1 in range(0,400):\n",
    "    b = zero\n",
    "    for iv2 in range(0,10):\n",
    "        iv = iv1*10+iv2\n",
    "        vi = tp.bandpass(v[iv],0,300,threshold=5,truncate=10)-v0\n",
    "        vi[vi < 0] = 0\n",
    "        vi = tp.bandpass(vi,0,300,threshold=5,truncate=10)\n",
    "        vi = tp.bandpass(vi,0,300,threshold=10,truncate=10)\n",
    "        b = b+vi\n",
    "        a = a+vi\n",
    "    b[b>20] = 225\n",
    "    imsave(\"/Users/pinghanchu/Documents/Git/Data/Clean_Data_Shot119_Cam_{}/frame_white_{}.tif\".format(pic,iv1),b)\n",
    "#a = tp.bandpass(a,0,300,threshold=5,truncate=6)\n",
    "#imsave(\"/Users/pinghanchu/Documents/Git/Data/Clean_Data_Shot119_Cam_{}/frame_{}_sum.tif\".format(pic,pic),a)"
   ]
  },
  {
   "cell_type": "code",
   "execution_count": 4,
   "metadata": {
    "collapsed": true
   },
   "outputs": [],
   "source": [
    "#c = a/200+v0\n",
    "#plt.imshow(c)\n",
    "#imsave(\"/Users/pinghanchu/Documents/Git/Data/Clean_Data_Shot119_Cam_{}/frame_v0.tif\".format(pic),c)\n",
    "#d = a\n",
    "#d[d>0]=10\n",
    "#imsave(\"/Users/pinghanchu/Documents/Git/Data/Clean_Data_Shot119_Cam_{}/frame_{}_white.tif\".format(pic,pic),d)"
   ]
  },
  {
   "cell_type": "code",
   "execution_count": 5,
   "metadata": {},
   "outputs": [],
   "source": [
    "pic = 18158\n",
    "v = pims.TiffStack('/Users/pinghanchu/Documents/Git/Data/Shot119_Cam_{}.tif'.format(pic))\n",
    "v0 = tp.bandpass(v[0],0,300,threshold=5,truncate=4)\n",
    "#plt.imshow(v0)\n",
    "zero = tp.bandpass(v[300],0,300,threshold=5,truncate=10)-v0\n",
    "zero[zero>0]=0\n",
    "zero[zero<0]=0\n",
    "a = zero\n",
    "b = zero\n",
    "for iv1 in range(0,400):\n",
    "    b = zero\n",
    "    for iv2 in range(0,10):\n",
    "        iv = iv1*10+iv2\n",
    "        vi = tp.bandpass(v[iv],0,300,threshold=5,truncate=10)-v0\n",
    "        vi[vi < 0] = 0\n",
    "        vi = tp.bandpass(vi,0,300,threshold=5,truncate=10)\n",
    "        vi = tp.bandpass(vi,0,300,threshold=10,truncate=10)\n",
    "        b = b+vi\n",
    "        a = a+vi\n",
    "    b[b>20] = 225\n",
    "    imsave(\"/Users/pinghanchu/Documents/Git/Data/Clean_Data_Shot119_Cam_{}/frame_white_{}.tif\".format(pic,iv1),b)\n",
    "#a = tp.bandpass(a,0,300,threshold=5,truncate=6)\n",
    "#imsave(\"/Users/pinghanchu/Documents/Git/Data/Clean_Data_Shot119_Cam_{}/frame_{}_sum.tif\".format(pic,pic),a)\n",
    "#c = a/200+v0\n",
    "#plt.imshow(c)\n",
    "#imsave(\"/Users/pinghanchu/Documents/Git/Data/Clean_Data_Shot119_Cam_{}/frame_v0.tif\".format(pic),c)\n",
    "#d = a\n",
    "#d[d>0]=10\n",
    "#imsave(\"/Users/pinghanchu/Documents/Git/Data/Clean_Data_Shot119_Cam_{}/frame_{}_white.tif\".format(pic,pic),d)"
   ]
  },
  {
   "cell_type": "code",
   "execution_count": null,
   "metadata": {
    "collapsed": true
   },
   "outputs": [],
   "source": []
  },
  {
   "cell_type": "code",
   "execution_count": null,
   "metadata": {
    "collapsed": true
   },
   "outputs": [],
   "source": []
  },
  {
   "cell_type": "code",
   "execution_count": null,
   "metadata": {
    "collapsed": true
   },
   "outputs": [],
   "source": []
  },
  {
   "cell_type": "code",
   "execution_count": null,
   "metadata": {
    "collapsed": true
   },
   "outputs": [],
   "source": []
  }
 ],
 "metadata": {
  "kernelspec": {
   "display_name": "Python 2",
   "language": "python",
   "name": "python2"
  },
  "language_info": {
   "codemirror_mode": {
    "name": "ipython",
    "version": 2
   },
   "file_extension": ".py",
   "mimetype": "text/x-python",
   "name": "python",
   "nbconvert_exporter": "python",
   "pygments_lexer": "ipython2",
   "version": "2.7.13"
  }
 },
 "nbformat": 4,
 "nbformat_minor": 2
}
