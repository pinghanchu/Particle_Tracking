{
 "cells": [
  {
   "cell_type": "markdown",
   "metadata": {},
   "source": [
    "# Streaming: Processing Unlimited Frames On-Disk"
   ]
  },
  {
   "cell_type": "markdown",
   "metadata": {},
   "source": [
    "A key feature of trackpy is the ability to process an unlimited number of frames.\n",
    "\n",
    "For feature-finding, this is straightforward: a frame is loaded, features are located, the locations are saved the disk, and the memory is cleared for the next frame. For linking, the problem is more challenging, but trackpy handles all this complexity for you, using as little memory as possible throughout.\n",
    "\n",
    "When data sets become large, beginning-friendly file formats like CSV or Excel become impractical. We recommend using the HDF5 file format, which is trackpy can read and write out of the box. (HDF5 is [widely used](http://en.wikipedia.org/wiki/Hierarchical_Data_Format); you can be sure it will be around for many, many years to come.)\n",
    "\n",
    "If you have some other format in mind, see the end of this tutorial, where we explain how to extend trackpy's interface to support other formats.\n",
    "\n",
    "## Install PyTables\n",
    "\n",
    "You need pytables, which you can easily install using conda. (Type this command into a Terminal or Command Prompt.)\n",
    "\n",
    "    conda install pytables\n",
    "    \n",
    "## Locate Features, Streaming Results into an HDF5 File"
   ]
  },
  {
   "cell_type": "code",
   "execution_count": 1,
   "metadata": {},
   "outputs": [],
   "source": [
    "import trackpy as tp\n",
    "import pims"
   ]
  },
  {
   "cell_type": "code",
   "execution_count": 2,
   "metadata": {},
   "outputs": [],
   "source": [
    "def gray(image):\n",
    "    return image[:, :, 0]\n",
    "\n",
    "images = pims.ImageSequence('../sample_data/bulk_water/*.png', process_func=gray)\n",
    "images = images[:10]  # We'll take just the first 10 frames for demo purposes."
   ]
  },
  {
   "cell_type": "code",
   "execution_count": 3,
   "metadata": {},
   "outputs": [],
   "source": [
    "# For this demo, we'll first remove the file if it already exists.\n",
    "!rm -f data.h5"
   ]
  },
  {
   "cell_type": "markdown",
   "metadata": {},
   "source": [
    "We can use `locate` inside a loop:"
   ]
  },
  {
   "cell_type": "code",
   "execution_count": 4,
   "metadata": {},
   "outputs": [],
   "source": [
    "with tp.PandasHDFStore('data.h5') as s:  # This opens an HDF5 file. Data will be stored and retrieved by frame number.\n",
    "    for image in images:\n",
    "        features = tp.locate(image, 11, invert=True)  # Find the features in a given frame.\n",
    "        s.put(features)  # Save the features to the file before continuing to the next frame."
   ]
  },
  {
   "cell_type": "markdown",
   "metadata": {},
   "source": [
    "or, equivalently, we can use `batch`, which accepts the storage file as `output`."
   ]
  },
  {
   "cell_type": "code",
   "execution_count": 5,
   "metadata": {},
   "outputs": [
    {
     "name": "stdout",
     "output_type": "stream",
     "text": [
      "Frame 9: 516 features\n"
     ]
    }
   ],
   "source": [
    "with tp.PandasHDFStore('data.h5') as s:\n",
    "    tp.batch(images, 11, invert=True, output=s)"
   ]
  },
  {
   "cell_type": "markdown",
   "metadata": {},
   "source": [
    "We can get the data for a given frame:"
   ]
  },
  {
   "cell_type": "code",
   "execution_count": 6,
   "metadata": {},
   "outputs": [
    {
     "data": {
      "text/html": [
       "<div>\n",
       "<table border=\"1\" class=\"dataframe\">\n",
       "  <thead>\n",
       "    <tr style=\"text-align: right;\">\n",
       "      <th></th>\n",
       "      <th>x</th>\n",
       "      <th>y</th>\n",
       "      <th>mass</th>\n",
       "      <th>size</th>\n",
       "      <th>ecc</th>\n",
       "      <th>signal</th>\n",
       "      <th>raw_mass</th>\n",
       "      <th>ep</th>\n",
       "      <th>frame</th>\n",
       "    </tr>\n",
       "  </thead>\n",
       "  <tbody>\n",
       "    <tr>\n",
       "      <th>0</th>\n",
       "      <td>296.222103</td>\n",
       "      <td>5.633504</td>\n",
       "      <td>404.367835</td>\n",
       "      <td>2.662165</td>\n",
       "      <td>0.212501</td>\n",
       "      <td>17.396842</td>\n",
       "      <td>8957.0</td>\n",
       "      <td>0.101846</td>\n",
       "      <td>2</td>\n",
       "    </tr>\n",
       "    <tr>\n",
       "      <th>1</th>\n",
       "      <td>68.203651</td>\n",
       "      <td>6.471969</td>\n",
       "      <td>416.980545</td>\n",
       "      <td>2.888723</td>\n",
       "      <td>0.088487</td>\n",
       "      <td>13.265092</td>\n",
       "      <td>9267.0</td>\n",
       "      <td>0.069054</td>\n",
       "      <td>2</td>\n",
       "    </tr>\n",
       "    <tr>\n",
       "      <th>2</th>\n",
       "      <td>336.888818</td>\n",
       "      <td>6.445367</td>\n",
       "      <td>340.325712</td>\n",
       "      <td>2.565562</td>\n",
       "      <td>0.028504</td>\n",
       "      <td>16.418269</td>\n",
       "      <td>8815.0</td>\n",
       "      <td>0.130158</td>\n",
       "      <td>2</td>\n",
       "    </tr>\n",
       "    <tr>\n",
       "      <th>3</th>\n",
       "      <td>431.796971</td>\n",
       "      <td>6.918472</td>\n",
       "      <td>617.479144</td>\n",
       "      <td>3.043906</td>\n",
       "      <td>0.385344</td>\n",
       "      <td>17.614302</td>\n",
       "      <td>9191.0</td>\n",
       "      <td>0.074972</td>\n",
       "      <td>2</td>\n",
       "    </tr>\n",
       "    <tr>\n",
       "      <th>4</th>\n",
       "      <td>274.787286</td>\n",
       "      <td>7.891198</td>\n",
       "      <td>266.824057</td>\n",
       "      <td>2.970172</td>\n",
       "      <td>0.251374</td>\n",
       "      <td>8.046039</td>\n",
       "      <td>8779.0</td>\n",
       "      <td>0.140027</td>\n",
       "      <td>2</td>\n",
       "    </tr>\n",
       "  </tbody>\n",
       "</table>\n",
       "</div>"
      ],
      "text/plain": [
       "            x         y        mass      size       ecc     signal  raw_mass  \\\n",
       "0  296.222103  5.633504  404.367835  2.662165  0.212501  17.396842    8957.0   \n",
       "1   68.203651  6.471969  416.980545  2.888723  0.088487  13.265092    9267.0   \n",
       "2  336.888818  6.445367  340.325712  2.565562  0.028504  16.418269    8815.0   \n",
       "3  431.796971  6.918472  617.479144  3.043906  0.385344  17.614302    9191.0   \n",
       "4  274.787286  7.891198  266.824057  2.970172  0.251374   8.046039    8779.0   \n",
       "\n",
       "         ep  frame  \n",
       "0  0.101846      2  \n",
       "1  0.069054      2  \n",
       "2  0.130158      2  \n",
       "3  0.074972      2  \n",
       "4  0.140027      2  "
      ]
     },
     "execution_count": 6,
     "metadata": {},
     "output_type": "execute_result"
    }
   ],
   "source": [
    "with tp.PandasHDFStore('data.h5') as s:\n",
    "    frame_2_results = s.get(2)\n",
    "    \n",
    "frame_2_results.head()  # Display the first few rows."
   ]
  },
  {
   "cell_type": "markdown",
   "metadata": {},
   "source": [
    "Or dump all the data, if your machine has enough memory to hold it:"
   ]
  },
  {
   "cell_type": "code",
   "execution_count": 7,
   "metadata": {},
   "outputs": [
    {
     "data": {
      "text/html": [
       "<div>\n",
       "<table border=\"1\" class=\"dataframe\">\n",
       "  <thead>\n",
       "    <tr style=\"text-align: right;\">\n",
       "      <th></th>\n",
       "      <th>x</th>\n",
       "      <th>y</th>\n",
       "      <th>mass</th>\n",
       "      <th>size</th>\n",
       "      <th>ecc</th>\n",
       "      <th>signal</th>\n",
       "      <th>raw_mass</th>\n",
       "      <th>ep</th>\n",
       "      <th>frame</th>\n",
       "    </tr>\n",
       "  </thead>\n",
       "  <tbody>\n",
       "    <tr>\n",
       "      <th>0</th>\n",
       "      <td>103.430478</td>\n",
       "      <td>5.247191</td>\n",
       "      <td>308.202079</td>\n",
       "      <td>2.738100</td>\n",
       "      <td>0.039502</td>\n",
       "      <td>11.795655</td>\n",
       "      <td>8983.0</td>\n",
       "      <td>0.098772</td>\n",
       "      <td>0</td>\n",
       "    </tr>\n",
       "    <tr>\n",
       "      <th>1</th>\n",
       "      <td>295.115942</td>\n",
       "      <td>5.661267</td>\n",
       "      <td>380.815701</td>\n",
       "      <td>2.647523</td>\n",
       "      <td>0.169237</td>\n",
       "      <td>17.422941</td>\n",
       "      <td>8943.0</td>\n",
       "      <td>0.105200</td>\n",
       "      <td>0</td>\n",
       "    </tr>\n",
       "    <tr>\n",
       "      <th>2</th>\n",
       "      <td>310.445941</td>\n",
       "      <td>7.153760</td>\n",
       "      <td>289.264100</td>\n",
       "      <td>3.366502</td>\n",
       "      <td>0.020496</td>\n",
       "      <td>5.627285</td>\n",
       "      <td>8693.0</td>\n",
       "      <td>0.177324</td>\n",
       "      <td>0</td>\n",
       "    </tr>\n",
       "    <tr>\n",
       "      <th>3</th>\n",
       "      <td>431.496378</td>\n",
       "      <td>7.273025</td>\n",
       "      <td>627.442294</td>\n",
       "      <td>2.872567</td>\n",
       "      <td>0.273653</td>\n",
       "      <td>19.695498</td>\n",
       "      <td>9199.0</td>\n",
       "      <td>0.074267</td>\n",
       "      <td>0</td>\n",
       "    </tr>\n",
       "    <tr>\n",
       "      <th>4</th>\n",
       "      <td>36.061983</td>\n",
       "      <td>8.255091</td>\n",
       "      <td>483.621872</td>\n",
       "      <td>2.973328</td>\n",
       "      <td>0.123753</td>\n",
       "      <td>13.635345</td>\n",
       "      <td>9531.0</td>\n",
       "      <td>0.053765</td>\n",
       "      <td>0</td>\n",
       "    </tr>\n",
       "  </tbody>\n",
       "</table>\n",
       "</div>"
      ],
      "text/plain": [
       "            x         y        mass      size       ecc     signal  raw_mass  \\\n",
       "0  103.430478  5.247191  308.202079  2.738100  0.039502  11.795655    8983.0   \n",
       "1  295.115942  5.661267  380.815701  2.647523  0.169237  17.422941    8943.0   \n",
       "2  310.445941  7.153760  289.264100  3.366502  0.020496   5.627285    8693.0   \n",
       "3  431.496378  7.273025  627.442294  2.872567  0.273653  19.695498    9199.0   \n",
       "4   36.061983  8.255091  483.621872  2.973328  0.123753  13.635345    9531.0   \n",
       "\n",
       "         ep  frame  \n",
       "0  0.098772      0  \n",
       "1  0.105200      0  \n",
       "2  0.177324      0  \n",
       "3  0.074267      0  \n",
       "4  0.053765      0  "
      ]
     },
     "execution_count": 7,
     "metadata": {},
     "output_type": "execute_result"
    }
   ],
   "source": [
    "with tp.PandasHDFStore('data.h5') as s:\n",
    "    all_results = s.dump()\n",
    "    \n",
    "all_results.head()  # Display the first few rows."
   ]
  },
  {
   "cell_type": "markdown",
   "metadata": {},
   "source": [
    "You can dump the first N frames using `s.dump(N)`.\n",
    "\n",
    "## Link Trajectories, Streaming From and Updating the HDF5 File"
   ]
  },
  {
   "cell_type": "code",
   "execution_count": 8,
   "metadata": {},
   "outputs": [
    {
     "name": "stdout",
     "output_type": "stream",
     "text": [
      "Frame 9: 516 trajectories present\n"
     ]
    }
   ],
   "source": [
    "with tp.PandasHDFStore('data.h5') as s:\n",
    "    for linked in tp.link_df_iter(s, 3, neighbor_strategy='KDTree'):\n",
    "        s.put(linked)"
   ]
  },
  {
   "cell_type": "markdown",
   "metadata": {},
   "source": [
    "The original data is overwritten."
   ]
  },
  {
   "cell_type": "code",
   "execution_count": 9,
   "metadata": {},
   "outputs": [
    {
     "data": {
      "text/html": [
       "<div>\n",
       "<table border=\"1\" class=\"dataframe\">\n",
       "  <thead>\n",
       "    <tr style=\"text-align: right;\">\n",
       "      <th></th>\n",
       "      <th>x</th>\n",
       "      <th>y</th>\n",
       "      <th>mass</th>\n",
       "      <th>size</th>\n",
       "      <th>ecc</th>\n",
       "      <th>signal</th>\n",
       "      <th>raw_mass</th>\n",
       "      <th>ep</th>\n",
       "      <th>frame</th>\n",
       "      <th>particle</th>\n",
       "    </tr>\n",
       "  </thead>\n",
       "  <tbody>\n",
       "    <tr>\n",
       "      <th>0</th>\n",
       "      <td>296.222103</td>\n",
       "      <td>5.633504</td>\n",
       "      <td>404.367835</td>\n",
       "      <td>2.662165</td>\n",
       "      <td>0.212501</td>\n",
       "      <td>17.396842</td>\n",
       "      <td>8957.0</td>\n",
       "      <td>0.101846</td>\n",
       "      <td>2</td>\n",
       "      <td>1.0</td>\n",
       "    </tr>\n",
       "    <tr>\n",
       "      <th>1</th>\n",
       "      <td>431.796971</td>\n",
       "      <td>6.918472</td>\n",
       "      <td>617.479144</td>\n",
       "      <td>3.043906</td>\n",
       "      <td>0.385344</td>\n",
       "      <td>17.614302</td>\n",
       "      <td>9191.0</td>\n",
       "      <td>0.074972</td>\n",
       "      <td>2</td>\n",
       "      <td>3.0</td>\n",
       "    </tr>\n",
       "    <tr>\n",
       "      <th>2</th>\n",
       "      <td>36.560049</td>\n",
       "      <td>8.409618</td>\n",
       "      <td>440.901203</td>\n",
       "      <td>3.004805</td>\n",
       "      <td>0.132634</td>\n",
       "      <td>12.938901</td>\n",
       "      <td>9508.0</td>\n",
       "      <td>0.055229</td>\n",
       "      <td>2</td>\n",
       "      <td>4.0</td>\n",
       "    </tr>\n",
       "    <tr>\n",
       "      <th>3</th>\n",
       "      <td>68.203651</td>\n",
       "      <td>6.471969</td>\n",
       "      <td>416.980545</td>\n",
       "      <td>2.888723</td>\n",
       "      <td>0.088487</td>\n",
       "      <td>13.265092</td>\n",
       "      <td>9267.0</td>\n",
       "      <td>0.069054</td>\n",
       "      <td>2</td>\n",
       "      <td>5.0</td>\n",
       "    </tr>\n",
       "    <tr>\n",
       "      <th>4</th>\n",
       "      <td>274.787286</td>\n",
       "      <td>7.891198</td>\n",
       "      <td>266.824057</td>\n",
       "      <td>2.970172</td>\n",
       "      <td>0.251374</td>\n",
       "      <td>8.046039</td>\n",
       "      <td>8779.0</td>\n",
       "      <td>0.140027</td>\n",
       "      <td>2</td>\n",
       "      <td>6.0</td>\n",
       "    </tr>\n",
       "  </tbody>\n",
       "</table>\n",
       "</div>"
      ],
      "text/plain": [
       "            x         y        mass      size       ecc     signal  raw_mass  \\\n",
       "0  296.222103  5.633504  404.367835  2.662165  0.212501  17.396842    8957.0   \n",
       "1  431.796971  6.918472  617.479144  3.043906  0.385344  17.614302    9191.0   \n",
       "2   36.560049  8.409618  440.901203  3.004805  0.132634  12.938901    9508.0   \n",
       "3   68.203651  6.471969  416.980545  2.888723  0.088487  13.265092    9267.0   \n",
       "4  274.787286  7.891198  266.824057  2.970172  0.251374   8.046039    8779.0   \n",
       "\n",
       "         ep  frame  particle  \n",
       "0  0.101846      2       1.0  \n",
       "1  0.074972      2       3.0  \n",
       "2  0.055229      2       4.0  \n",
       "3  0.069054      2       5.0  \n",
       "4  0.140027      2       6.0  "
      ]
     },
     "execution_count": 9,
     "metadata": {},
     "output_type": "execute_result"
    }
   ],
   "source": [
    "with tp.PandasHDFStore('data.h5') as s:\n",
    "    frame_2_results = s.get(2)\n",
    "    \n",
    "frame_2_results.head()  # Display the first few rows."
   ]
  },
  {
   "cell_type": "markdown",
   "metadata": {},
   "source": [
    "## Framewise Data Interfaces\n",
    "\n",
    "### Built-in interfaces\n",
    "\n",
    "There are three different interfaces. You can use them interchangeably. They offer different performance advantages.\n",
    "\n",
    "* `PandasHDFStore` -- fastest for a small (~100) number of frames\n",
    "* `PandasHDFStoreBig` -- fastest for a medium or large number of frames\n",
    "* `PandasHDFStoreSingleNode` -- optimizes HDF queries that access multiple frames (advanced)\n",
    "\n",
    "### Writing your own interface\n",
    "\n",
    "Trackpy implements a generic interface that could be used to store and retrieve particle tracking data in any file format. We hope that it can make it easier for researchers who use different file formats to exchange data. Any in-house format could be accessed using the same simple interface demonstrated above.\n",
    "\n",
    "At present, the interface is implemented only for HDF5 files. To extend it to any format, write a class subclassing `trackpy.FramewiseData`. This custom class must implement the methods `put`, `get`, `close`, and `__iter__` and the properties `max_frame` and `t_column`. Refer to the built-in classes in [framewise_data.py](https://github.com/soft-matter/trackpy/blob/master/trackpy/framewise_data.py) for examples to work from."
   ]
  }
 ],
 "metadata": {
  "kernelspec": {
   "display_name": "Python 2",
   "language": "python",
   "name": "python2"
  },
  "language_info": {
   "codemirror_mode": {
    "name": "ipython",
    "version": 2
   },
   "file_extension": ".py",
   "mimetype": "text/x-python",
   "name": "python",
   "nbconvert_exporter": "python",
   "pygments_lexer": "ipython2",
   "version": "2.7.13"
  }
 },
 "nbformat": 4,
 "nbformat_minor": 1
}
