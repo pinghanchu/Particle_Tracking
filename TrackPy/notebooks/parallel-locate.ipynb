{
 "cells": [
  {
   "cell_type": "markdown",
   "metadata": {},
   "source": [
    "# Parallelized Feature Location using IPython Parallel\n",
    "\n",
    "Feature-finding can easily be parallelized: each frame an independent task, and the tasks can be divided among the available CPUs. IPython parallel makes this very straightforward.\n",
    "\n",
    "## Intsall ipyparallel\n",
    "\n",
    "As for IPython 4.0 (summer 2015), IPython parallel is a separate package. Install it as follows:\n",
    "```\n",
    "pip install ipyparalell\n",
    "```\n",
    "\n",
    "It is simplest to start a cluster on the CPUs of the local machine. In order to start a cluster, you will need to go to a Terminal and type:\n",
    "```\n",
    "ipcluster start -n 4\n",
    "```\n",
    "\n",
    "The number 4 should be replaced by the number of available CPUs. Now you are running a cluster -- it's that easy. More information on IPython parallel is available in [the IPython parallel documentation](http://ipyparallel.readthedocs.io/en/latest/intro.html)."
   ]
  },
  {
   "cell_type": "code",
   "execution_count": 1,
   "metadata": {
    "collapsed": false
   },
   "outputs": [],
   "source": [
    "from ipyparallel import Client\n",
    "client = Client()\n",
    "view = client.load_balanced_view()"
   ]
  },
  {
   "cell_type": "markdown",
   "metadata": {},
   "source": [
    "We can see that there are four cores available."
   ]
  },
  {
   "cell_type": "code",
   "execution_count": 2,
   "metadata": {
    "collapsed": false
   },
   "outputs": [
    {
     "data": {
      "text/plain": [
       "<DirectView [0, 1, 2, 3]>"
      ]
     },
     "execution_count": 2,
     "metadata": {},
     "output_type": "execute_result"
    }
   ],
   "source": [
    "client[:]"
   ]
  },
  {
   "cell_type": "markdown",
   "metadata": {},
   "source": [
    "Use a little magic, ``%%px``, to import trackpy on all cores."
   ]
  },
  {
   "cell_type": "code",
   "execution_count": 3,
   "metadata": {
    "collapsed": false
   },
   "outputs": [],
   "source": [
    "%%px\n",
    "import trackpy as tp"
   ]
  },
  {
   "cell_type": "markdown",
   "metadata": {},
   "source": [
    "Do the normal setup now, import trackpy normally and loading frames to analyze."
   ]
  },
  {
   "cell_type": "code",
   "execution_count": 4,
   "metadata": {
    "collapsed": false
   },
   "outputs": [],
   "source": [
    "import pims\n",
    "import trackpy as tp\n",
    "\n",
    "def gray(image):\n",
    "    return image[:, :, 0]\n",
    "\n",
    "frames = pims.ImageSequence('../sample_data/bulk_water/*.png', process_func=gray)"
   ]
  },
  {
   "cell_type": "markdown",
   "metadata": {},
   "source": [
    "Define a function from ``locate`` with all the parameters specified, so the function's only argument is the image to be analyzed. We can map this function directly onto our collection of images. (This is a called \"currying\" a function, hence the choice of name.)"
   ]
  },
  {
   "cell_type": "code",
   "execution_count": 5,
   "metadata": {
    "collapsed": false
   },
   "outputs": [],
   "source": [
    "curried_locate = lambda image: tp.locate(image, 13, invert=True)"
   ]
  },
  {
   "cell_type": "code",
   "execution_count": 6,
   "metadata": {
    "collapsed": false
   },
   "outputs": [
    {
     "data": {
      "text/plain": [
       "<AsyncMapResult: <lambda>>"
      ]
     },
     "execution_count": 6,
     "metadata": {},
     "output_type": "execute_result"
    }
   ],
   "source": [
    "view.map(curried_locate, frames[:4])  # Optionally, prime each engine: make it set up FFTW."
   ]
  },
  {
   "cell_type": "markdown",
   "metadata": {},
   "source": [
    "Compare the time it takes to locate features in the first ten images with and without parallelization."
   ]
  },
  {
   "cell_type": "code",
   "execution_count": 7,
   "metadata": {
    "collapsed": false
   },
   "outputs": [
    {
     "name": "stdout",
     "output_type": "stream",
     "text": [
      "  32/32 tasks finished after    1 s\n",
      "done\n",
      "1 loop, best of 3: 1.3 s per loop\n"
     ]
    }
   ],
   "source": [
    "%%timeit\n",
    "amr = view.map_async(curried_locate, frames[:32])\n",
    "amr.wait_interactive()\n",
    "results = amr.get()"
   ]
  },
  {
   "cell_type": "code",
   "execution_count": 8,
   "metadata": {
    "collapsed": false
   },
   "outputs": [
    {
     "name": "stdout",
     "output_type": "stream",
     "text": [
      "1 loop, best of 3: 3.15 s per loop\n"
     ]
    }
   ],
   "source": [
    "%%timeit\n",
    "serial_result = list(map(curried_locate, frames[:32]))"
   ]
  }
 ],
 "metadata": {
  "kernelspec": {
   "display_name": "Python 3",
   "language": "python",
   "name": "python3"
  },
  "language_info": {
   "codemirror_mode": {
    "name": "ipython",
    "version": 3
   },
   "file_extension": ".py",
   "mimetype": "text/x-python",
   "name": "python",
   "nbconvert_exporter": "python",
   "pygments_lexer": "ipython3",
   "version": "3.4.3"
  }
 },
 "nbformat": 4,
 "nbformat_minor": 0
}
