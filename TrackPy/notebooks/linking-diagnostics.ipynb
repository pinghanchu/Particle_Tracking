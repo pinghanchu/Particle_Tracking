{
 "cells": [
  {
   "cell_type": "markdown",
   "metadata": {},
   "source": [
    "# Obtaining Diagnostic Information from Linking\n",
    "\n",
    "Beginning with version 0.3, `link_df()` and `link_df_iter()` can include diagnostic data in their output, to give you clues about what the linking algorithm did while linking each particle. This information may help to diagnose errors or bad results from linking, or to verify that the linking algorithm is working properly.\n",
    "\n",
    "## How to use it\n",
    "\n",
    "Pass the optional keyword argument `diagnostics=True` to `link_df()` or `link_df_iter()`. The linker will add the \"particle\" column as usual, along with extra columns whose names begin with \"`diag_`\". Not all types of diagnostic data may pertain to every particle, so that many entries in these diagnostic columns will have the placeholder value of `NaN` (not a number).\n",
    "\n",
    "We'll discuss the individual columns and their meanings below, by way of an example: the `bulk_water` movie that was tracked in the walkthrough tutorial.\n",
    "\n",
    "### Details\n",
    "\n",
    "1. Diagnostics typically slow down linking by a few percent and consume significant additional memory, so they are turned off by default.\n",
    "2. If you already ran linking with diagnostics turned on, but no longer want the extra columns cluttering up your results, you can use the `strip_diagnostics()` function to automatically remove all columns whose names start with \"`diag_`\".\n",
    "3. The set of diagnostic of columns, and the order in which they appear, is not fixed. Each column is added only if that diagnostic datum was recorded. For example, below we will encounter the `diag_remembered` column that gives information about the `memory` feature. If you did not specify the `memory` option for linking, this column will never be present in your results.\n",
    "3. For performance reasons, `link_df()` ordinarily does *not* make a copy of its input DataFrame, instead modifying it in-place. For practical reasons, however, with diagnostics enabled `link_df()` must work on a copy. Depending on how it was written, your program may therefore behave differently when diagnostics are turned on! If you suspect a problem, you can instruct `link_df()` to behave more consistently by supplying `copy_features=True`."
   ]
  },
  {
   "cell_type": "markdown",
   "metadata": {},
   "source": [
    "## Example\n",
    "\n",
    "We'll track the `bulk_water` movie much as in the walkthrough, but with `diagnostics=True`. We'll then examine the data we get back. First, we set up our environment:"
   ]
  },
  {
   "cell_type": "code",
   "execution_count": 1,
   "metadata": {
    "collapsed": false
   },
   "outputs": [],
   "source": [
    "# change the following to %matplotlib notebook for interactive plotting\n",
    "%matplotlib inline\n",
    "\n",
    "import numpy as np\n",
    "import pandas as pd\n",
    "import matplotlib.pyplot as plt\n",
    "from pandas import DataFrame, Series\n",
    "\n",
    "import pims\n",
    "import trackpy as tp"
   ]
  },
  {
   "cell_type": "markdown",
   "metadata": {},
   "source": [
    "4 frames should be enough for this demonstration."
   ]
  },
  {
   "cell_type": "code",
   "execution_count": 2,
   "metadata": {
    "collapsed": false
   },
   "outputs": [
    {
     "name": "stdout",
     "output_type": "stream",
     "text": [
      "Frame 3: 498 features\n"
     ]
    }
   ],
   "source": [
    "frames = pims.ImageSequence('../sample_data/bulk_water/*.png', as_grey=True)\n",
    "\n",
    "f = tp.batch(frames[:4], 11, minmass=66, invert=True, meta=False)"
   ]
  },
  {
   "cell_type": "markdown",
   "metadata": {},
   "source": [
    "We'll link with a larger `search_radius` than in the tutorial, because we want to generate a lot of subnetworks (more on that below)."
   ]
  },
  {
   "cell_type": "code",
   "execution_count": 3,
   "metadata": {
    "collapsed": false
   },
   "outputs": [
    {
     "name": "stdout",
     "output_type": "stream",
     "text": [
      "Frame 3: 498 trajectories present\n"
     ]
    }
   ],
   "source": [
    "t = tp.link_df(f, 13, memory=3, diagnostics=True)"
   ]
  },
  {
   "cell_type": "markdown",
   "metadata": {},
   "source": [
    "When we look at the columns in the resulting tracks DataFrame, we see some new names:"
   ]
  },
  {
   "cell_type": "code",
   "execution_count": 4,
   "metadata": {
    "collapsed": false
   },
   "outputs": [
    {
     "data": {
      "text/plain": [
       "['x',\n",
       " 'y',\n",
       " 'mass',\n",
       " 'size',\n",
       " 'ecc',\n",
       " 'signal',\n",
       " 'raw_mass',\n",
       " 'ep',\n",
       " 'frame',\n",
       " 'particle',\n",
       " 'diag_search_range',\n",
       " 'diag_subnet',\n",
       " 'diag_subnet_iterations',\n",
       " 'diag_subnet_size',\n",
       " 'diag_remembered']"
      ]
     },
     "execution_count": 4,
     "metadata": {},
     "output_type": "execute_result"
    }
   ],
   "source": [
    "list(t.columns)"
   ]
  },
  {
   "cell_type": "markdown",
   "metadata": {},
   "source": [
    "Let's look at the first 5 rows in the results. Because there are so many columns, we'll transpose the data so they fit on the page."
   ]
  },
  {
   "cell_type": "code",
   "execution_count": 5,
   "metadata": {
    "collapsed": false
   },
   "outputs": [
    {
     "data": {
      "text/html": [
       "<div>\n",
       "<table border=\"1\" class=\"dataframe\">\n",
       "  <thead>\n",
       "    <tr style=\"text-align: right;\">\n",
       "      <th></th>\n",
       "      <th>0</th>\n",
       "      <th>1</th>\n",
       "      <th>2</th>\n",
       "      <th>3</th>\n",
       "      <th>4</th>\n",
       "    </tr>\n",
       "  </thead>\n",
       "  <tbody>\n",
       "    <tr>\n",
       "      <th>x</th>\n",
       "      <td>295.17</td>\n",
       "      <td>295.36</td>\n",
       "      <td>296.328</td>\n",
       "      <td>296.087</td>\n",
       "      <td>309.726</td>\n",
       "    </tr>\n",
       "    <tr>\n",
       "      <th>y</th>\n",
       "      <td>5.57</td>\n",
       "      <td>5.31631</td>\n",
       "      <td>5.66691</td>\n",
       "      <td>5.87748</td>\n",
       "      <td>6.89502</td>\n",
       "    </tr>\n",
       "    <tr>\n",
       "      <th>mass</th>\n",
       "      <td>370.325</td>\n",
       "      <td>388.203</td>\n",
       "      <td>409.268</td>\n",
       "      <td>427.69</td>\n",
       "      <td>278.818</td>\n",
       "    </tr>\n",
       "    <tr>\n",
       "      <th>size</th>\n",
       "      <td>2.60361</td>\n",
       "      <td>2.52464</td>\n",
       "      <td>2.70563</td>\n",
       "      <td>2.76235</td>\n",
       "      <td>3.33838</td>\n",
       "    </tr>\n",
       "    <tr>\n",
       "      <th>ecc</th>\n",
       "      <td>0.173248</td>\n",
       "      <td>0.214783</td>\n",
       "      <td>0.211014</td>\n",
       "      <td>0.220173</td>\n",
       "      <td>0.0611489</td>\n",
       "    </tr>\n",
       "    <tr>\n",
       "      <th>signal</th>\n",
       "      <td>17.8819</td>\n",
       "      <td>18.8833</td>\n",
       "      <td>17.4588</td>\n",
       "      <td>18.5116</td>\n",
       "      <td>5.49444</td>\n",
       "    </tr>\n",
       "    <tr>\n",
       "      <th>raw_mass</th>\n",
       "      <td>10747</td>\n",
       "      <td>10786</td>\n",
       "      <td>10758</td>\n",
       "      <td>10795</td>\n",
       "      <td>10536</td>\n",
       "    </tr>\n",
       "    <tr>\n",
       "      <th>ep</th>\n",
       "      <td>0.0851038</td>\n",
       "      <td>0.0784293</td>\n",
       "      <td>0.0816409</td>\n",
       "      <td>0.075062</td>\n",
       "      <td>0.13517</td>\n",
       "    </tr>\n",
       "    <tr>\n",
       "      <th>frame</th>\n",
       "      <td>0</td>\n",
       "      <td>1</td>\n",
       "      <td>2</td>\n",
       "      <td>3</td>\n",
       "      <td>0</td>\n",
       "    </tr>\n",
       "    <tr>\n",
       "      <th>particle</th>\n",
       "      <td>0</td>\n",
       "      <td>0</td>\n",
       "      <td>0</td>\n",
       "      <td>0</td>\n",
       "      <td>1</td>\n",
       "    </tr>\n",
       "    <tr>\n",
       "      <th>diag_search_range</th>\n",
       "      <td>NaN</td>\n",
       "      <td>13</td>\n",
       "      <td>13</td>\n",
       "      <td>13</td>\n",
       "      <td>NaN</td>\n",
       "    </tr>\n",
       "    <tr>\n",
       "      <th>diag_subnet</th>\n",
       "      <td>NaN</td>\n",
       "      <td>NaN</td>\n",
       "      <td>NaN</td>\n",
       "      <td>NaN</td>\n",
       "      <td>NaN</td>\n",
       "    </tr>\n",
       "    <tr>\n",
       "      <th>diag_subnet_iterations</th>\n",
       "      <td>NaN</td>\n",
       "      <td>NaN</td>\n",
       "      <td>NaN</td>\n",
       "      <td>NaN</td>\n",
       "      <td>NaN</td>\n",
       "    </tr>\n",
       "    <tr>\n",
       "      <th>diag_subnet_size</th>\n",
       "      <td>NaN</td>\n",
       "      <td>NaN</td>\n",
       "      <td>NaN</td>\n",
       "      <td>NaN</td>\n",
       "      <td>NaN</td>\n",
       "    </tr>\n",
       "    <tr>\n",
       "      <th>diag_remembered</th>\n",
       "      <td>NaN</td>\n",
       "      <td>NaN</td>\n",
       "      <td>NaN</td>\n",
       "      <td>NaN</td>\n",
       "      <td>NaN</td>\n",
       "    </tr>\n",
       "  </tbody>\n",
       "</table>\n",
       "</div>"
      ],
      "text/plain": [
       "                                0          1          2         3          4\n",
       "x                          295.17     295.36    296.328   296.087    309.726\n",
       "y                            5.57    5.31631    5.66691   5.87748    6.89502\n",
       "mass                      370.325    388.203    409.268    427.69    278.818\n",
       "size                      2.60361    2.52464    2.70563   2.76235    3.33838\n",
       "ecc                      0.173248   0.214783   0.211014  0.220173  0.0611489\n",
       "signal                    17.8819    18.8833    17.4588   18.5116    5.49444\n",
       "raw_mass                    10747      10786      10758     10795      10536\n",
       "ep                      0.0851038  0.0784293  0.0816409  0.075062    0.13517\n",
       "frame                           0          1          2         3          0\n",
       "particle                        0          0          0         0          1\n",
       "diag_search_range             NaN         13         13        13        NaN\n",
       "diag_subnet                   NaN        NaN        NaN       NaN        NaN\n",
       "diag_subnet_iterations        NaN        NaN        NaN       NaN        NaN\n",
       "diag_subnet_size              NaN        NaN        NaN       NaN        NaN\n",
       "diag_remembered               NaN        NaN        NaN       NaN        NaN"
      ]
     },
     "execution_count": 5,
     "metadata": {},
     "output_type": "execute_result"
    }
   ],
   "source": [
    "t.head().T"
   ]
  },
  {
   "cell_type": "markdown",
   "metadata": {},
   "source": [
    "### `diag_search_range`\n",
    "\n",
    "`trackpy` didn't record every kind of diagnostic data for every feature. We do notice, however, that there is a `diag_search_range` for everything past the first frame. This column is the value of `search_range` that was used to find a particle and link it. Since the particles in the first frame did not need to be found, `diag_search_range` is null there. But for the subsequent frames, it is the same as the `search_range` we told `link_df()` to use, because those particles were successfully linked.\n",
    "\n",
    "`diag_search_range` would be a nearly pointless column except that it reveals the workings of adaptive search when that feature is turned on. See the tutorial on adaptive search for a more meaningful look at `diag_search_range`."
   ]
  },
  {
   "cell_type": "markdown",
   "metadata": {},
   "source": [
    "### `diag_remembered`\n",
    "\n",
    "When a particle seems to disappear, `memory` allows its \"ghost\" to stick around for a few more frames in case that particle reappears. In that event, the `diag_remembered` column records the number of frames for which the particle was missing. Let's look in the 4th frame to see whether this actually happened. Again, we show just the first 5 entires and transpose to fit on the page:"
   ]
  },
  {
   "cell_type": "code",
   "execution_count": 6,
   "metadata": {
    "collapsed": false
   },
   "outputs": [
    {
     "name": "stdout",
     "output_type": "stream",
     "text": [
      "10 remembered particles in frame number 3.\n"
     ]
    },
    {
     "data": {
      "text/html": [
       "<div>\n",
       "<table border=\"1\" class=\"dataframe\">\n",
       "  <thead>\n",
       "    <tr style=\"text-align: right;\">\n",
       "      <th></th>\n",
       "      <th>15</th>\n",
       "      <th>224</th>\n",
       "      <th>889</th>\n",
       "      <th>1050</th>\n",
       "      <th>1060</th>\n",
       "    </tr>\n",
       "  </thead>\n",
       "  <tbody>\n",
       "    <tr>\n",
       "      <th>x</th>\n",
       "      <td>275.67</td>\n",
       "      <td>329.874</td>\n",
       "      <td>284.111</td>\n",
       "      <td>64.1174</td>\n",
       "      <td>321.89</td>\n",
       "    </tr>\n",
       "    <tr>\n",
       "      <th>y</th>\n",
       "      <td>7.84292</td>\n",
       "      <td>51.092</td>\n",
       "      <td>196.545</td>\n",
       "      <td>232.489</td>\n",
       "      <td>232.076</td>\n",
       "    </tr>\n",
       "    <tr>\n",
       "      <th>mass</th>\n",
       "      <td>242.776</td>\n",
       "      <td>273.831</td>\n",
       "      <td>186.937</td>\n",
       "      <td>198.975</td>\n",
       "      <td>136.561</td>\n",
       "    </tr>\n",
       "    <tr>\n",
       "      <th>size</th>\n",
       "      <td>2.87634</td>\n",
       "      <td>3.46677</td>\n",
       "      <td>2.6481</td>\n",
       "      <td>3.2842</td>\n",
       "      <td>3.20775</td>\n",
       "    </tr>\n",
       "    <tr>\n",
       "      <th>ecc</th>\n",
       "      <td>0.231777</td>\n",
       "      <td>0.0567776</td>\n",
       "      <td>0.089197</td>\n",
       "      <td>0.104093</td>\n",
       "      <td>0.0182635</td>\n",
       "    </tr>\n",
       "    <tr>\n",
       "      <th>signal</th>\n",
       "      <td>7.78905</td>\n",
       "      <td>4.95667</td>\n",
       "      <td>6.57517</td>\n",
       "      <td>4.24857</td>\n",
       "      <td>3.74279</td>\n",
       "    </tr>\n",
       "    <tr>\n",
       "      <th>raw_mass</th>\n",
       "      <td>10537</td>\n",
       "      <td>10517</td>\n",
       "      <td>10271</td>\n",
       "      <td>10698</td>\n",
       "      <td>10148</td>\n",
       "    </tr>\n",
       "    <tr>\n",
       "      <th>ep</th>\n",
       "      <td>0.125606</td>\n",
       "      <td>0.132523</td>\n",
       "      <td>0.410803</td>\n",
       "      <td>0.0884424</td>\n",
       "      <td>-8.22826</td>\n",
       "    </tr>\n",
       "    <tr>\n",
       "      <th>frame</th>\n",
       "      <td>3</td>\n",
       "      <td>3</td>\n",
       "      <td>3</td>\n",
       "      <td>3</td>\n",
       "      <td>3</td>\n",
       "    </tr>\n",
       "    <tr>\n",
       "      <th>particle</th>\n",
       "      <td>4</td>\n",
       "      <td>58</td>\n",
       "      <td>231</td>\n",
       "      <td>272</td>\n",
       "      <td>275</td>\n",
       "    </tr>\n",
       "    <tr>\n",
       "      <th>diag_search_range</th>\n",
       "      <td>13</td>\n",
       "      <td>13</td>\n",
       "      <td>13</td>\n",
       "      <td>13</td>\n",
       "      <td>13</td>\n",
       "    </tr>\n",
       "    <tr>\n",
       "      <th>diag_subnet</th>\n",
       "      <td>NaN</td>\n",
       "      <td>102</td>\n",
       "      <td>136</td>\n",
       "      <td>148</td>\n",
       "      <td>NaN</td>\n",
       "    </tr>\n",
       "    <tr>\n",
       "      <th>diag_subnet_iterations</th>\n",
       "      <td>NaN</td>\n",
       "      <td>7</td>\n",
       "      <td>3</td>\n",
       "      <td>3</td>\n",
       "      <td>NaN</td>\n",
       "    </tr>\n",
       "    <tr>\n",
       "      <th>diag_subnet_size</th>\n",
       "      <td>NaN</td>\n",
       "      <td>4</td>\n",
       "      <td>2</td>\n",
       "      <td>2</td>\n",
       "      <td>NaN</td>\n",
       "    </tr>\n",
       "    <tr>\n",
       "      <th>diag_remembered</th>\n",
       "      <td>1</td>\n",
       "      <td>1</td>\n",
       "      <td>1</td>\n",
       "      <td>1</td>\n",
       "      <td>2</td>\n",
       "    </tr>\n",
       "  </tbody>\n",
       "</table>\n",
       "</div>"
      ],
      "text/plain": [
       "                            15         224       889        1050       1060\n",
       "x                         275.67    329.874   284.111    64.1174     321.89\n",
       "y                        7.84292     51.092   196.545    232.489    232.076\n",
       "mass                     242.776    273.831   186.937    198.975    136.561\n",
       "size                     2.87634    3.46677    2.6481     3.2842    3.20775\n",
       "ecc                     0.231777  0.0567776  0.089197   0.104093  0.0182635\n",
       "signal                   7.78905    4.95667   6.57517    4.24857    3.74279\n",
       "raw_mass                   10537      10517     10271      10698      10148\n",
       "ep                      0.125606   0.132523  0.410803  0.0884424   -8.22826\n",
       "frame                          3          3         3          3          3\n",
       "particle                       4         58       231        272        275\n",
       "diag_search_range             13         13        13         13         13\n",
       "diag_subnet                  NaN        102       136        148        NaN\n",
       "diag_subnet_iterations       NaN          7         3          3        NaN\n",
       "diag_subnet_size             NaN          4         2          2        NaN\n",
       "diag_remembered                1          1         1          1          2"
      ]
     },
     "execution_count": 6,
     "metadata": {},
     "output_type": "execute_result"
    }
   ],
   "source": [
    "remembered_frame3 = t[(t.frame == 3) & (t.diag_remembered > 0)]\n",
    "\n",
    "print(len(remembered_frame3), 'remembered particles in frame number 3.')\n",
    "remembered_frame3.head().T"
   ]
  },
  {
   "cell_type": "markdown",
   "metadata": {},
   "source": [
    "One of these particles has a `diag_remembered` value of 2, which means that it was present in the first frame, went missing for 2 frames, and then seemingly reappeared in the fourth frame.\n",
    "\n",
    "If you are not sure whether memory (or a specific value of the `memory` option) is appropriate for your movie, `diag_remembered` shows you which trajectories and frames to spot-check."
   ]
  },
  {
   "cell_type": "markdown",
   "metadata": {},
   "source": [
    "### `diag_subnet`\n",
    "\n",
    "As you may have also learned in other `trackpy` tutorials (including the one devoted to the topic), how easily subnetworks arise, and how they are resolved, can be crucial to the feasibility and correctness of linking. `trackpy` records diagnostic data whenever it encounters a subnetwork. (If there were no subnetworks at all, the columns discussed here will not be present.) As with memory, these data can help you focus on potential trouble spots.\n",
    "\n",
    "In our example data, we can see what subnetworks were encountered when linking frames 0 and 1:"
   ]
  },
  {
   "cell_type": "code",
   "execution_count": 7,
   "metadata": {
    "collapsed": false
   },
   "outputs": [
    {
     "name": "stdout",
     "output_type": "stream",
     "text": [
      "88 particles involved in subnets between frames 0 and 1.\n"
     ]
    },
    {
     "data": {
      "text/html": [
       "<div>\n",
       "<table border=\"1\" class=\"dataframe\">\n",
       "  <thead>\n",
       "    <tr style=\"text-align: right;\">\n",
       "      <th></th>\n",
       "      <th>32</th>\n",
       "      <th>40</th>\n",
       "      <th>188</th>\n",
       "      <th>223</th>\n",
       "      <th>230</th>\n",
       "    </tr>\n",
       "  </thead>\n",
       "  <tbody>\n",
       "    <tr>\n",
       "      <th>x</th>\n",
       "      <td>540.963</td>\n",
       "      <td>552.75</td>\n",
       "      <td>98.5585</td>\n",
       "      <td>328.583</td>\n",
       "      <td>99.9468</td>\n",
       "    </tr>\n",
       "    <tr>\n",
       "      <th>y</th>\n",
       "      <td>8.49896</td>\n",
       "      <td>11.4487</td>\n",
       "      <td>40.5719</td>\n",
       "      <td>51.6568</td>\n",
       "      <td>52.6163</td>\n",
       "    </tr>\n",
       "    <tr>\n",
       "      <th>mass</th>\n",
       "      <td>302.132</td>\n",
       "      <td>329.675</td>\n",
       "      <td>233.694</td>\n",
       "      <td>256.228</td>\n",
       "      <td>172.662</td>\n",
       "    </tr>\n",
       "    <tr>\n",
       "      <th>size</th>\n",
       "      <td>2.88272</td>\n",
       "      <td>2.31909</td>\n",
       "      <td>3.0722</td>\n",
       "      <td>3.34206</td>\n",
       "      <td>3.41624</td>\n",
       "    </tr>\n",
       "    <tr>\n",
       "      <th>ecc</th>\n",
       "      <td>0.0471212</td>\n",
       "      <td>0.0577369</td>\n",
       "      <td>0.0102799</td>\n",
       "      <td>0.0920241</td>\n",
       "      <td>0.0974881</td>\n",
       "    </tr>\n",
       "    <tr>\n",
       "      <th>signal</th>\n",
       "      <td>8.97216</td>\n",
       "      <td>18.6746</td>\n",
       "      <td>6.36398</td>\n",
       "      <td>5.11205</td>\n",
       "      <td>3.54713</td>\n",
       "    </tr>\n",
       "    <tr>\n",
       "      <th>raw_mass</th>\n",
       "      <td>10618</td>\n",
       "      <td>10606</td>\n",
       "      <td>10695</td>\n",
       "      <td>10448</td>\n",
       "      <td>10603</td>\n",
       "    </tr>\n",
       "    <tr>\n",
       "      <th>ep</th>\n",
       "      <td>0.107447</td>\n",
       "      <td>0.110364</td>\n",
       "      <td>0.0918683</td>\n",
       "      <td>0.171748</td>\n",
       "      <td>0.111118</td>\n",
       "    </tr>\n",
       "    <tr>\n",
       "      <th>frame</th>\n",
       "      <td>1</td>\n",
       "      <td>1</td>\n",
       "      <td>1</td>\n",
       "      <td>1</td>\n",
       "      <td>1</td>\n",
       "    </tr>\n",
       "    <tr>\n",
       "      <th>particle</th>\n",
       "      <td>9</td>\n",
       "      <td>11</td>\n",
       "      <td>48</td>\n",
       "      <td>58</td>\n",
       "      <td>60</td>\n",
       "    </tr>\n",
       "    <tr>\n",
       "      <th>diag_search_range</th>\n",
       "      <td>13</td>\n",
       "      <td>13</td>\n",
       "      <td>13</td>\n",
       "      <td>13</td>\n",
       "      <td>13</td>\n",
       "    </tr>\n",
       "    <tr>\n",
       "      <th>diag_subnet</th>\n",
       "      <td>11</td>\n",
       "      <td>11</td>\n",
       "      <td>34</td>\n",
       "      <td>35</td>\n",
       "      <td>34</td>\n",
       "    </tr>\n",
       "    <tr>\n",
       "      <th>diag_subnet_iterations</th>\n",
       "      <td>3</td>\n",
       "      <td>3</td>\n",
       "      <td>3</td>\n",
       "      <td>5</td>\n",
       "      <td>3</td>\n",
       "    </tr>\n",
       "    <tr>\n",
       "      <th>diag_subnet_size</th>\n",
       "      <td>2</td>\n",
       "      <td>2</td>\n",
       "      <td>2</td>\n",
       "      <td>3</td>\n",
       "      <td>2</td>\n",
       "    </tr>\n",
       "    <tr>\n",
       "      <th>diag_remembered</th>\n",
       "      <td>NaN</td>\n",
       "      <td>NaN</td>\n",
       "      <td>NaN</td>\n",
       "      <td>NaN</td>\n",
       "      <td>NaN</td>\n",
       "    </tr>\n",
       "  </tbody>\n",
       "</table>\n",
       "</div>"
      ],
      "text/plain": [
       "                              32         40         188        223        230\n",
       "x                         540.963     552.75    98.5585    328.583    99.9468\n",
       "y                         8.49896    11.4487    40.5719    51.6568    52.6163\n",
       "mass                      302.132    329.675    233.694    256.228    172.662\n",
       "size                      2.88272    2.31909     3.0722    3.34206    3.41624\n",
       "ecc                     0.0471212  0.0577369  0.0102799  0.0920241  0.0974881\n",
       "signal                    8.97216    18.6746    6.36398    5.11205    3.54713\n",
       "raw_mass                    10618      10606      10695      10448      10603\n",
       "ep                       0.107447   0.110364  0.0918683   0.171748   0.111118\n",
       "frame                           1          1          1          1          1\n",
       "particle                        9         11         48         58         60\n",
       "diag_search_range              13         13         13         13         13\n",
       "diag_subnet                    11         11         34         35         34\n",
       "diag_subnet_iterations          3          3          3          5          3\n",
       "diag_subnet_size                2          2          2          3          2\n",
       "diag_remembered               NaN        NaN        NaN        NaN        NaN"
      ]
     },
     "execution_count": 7,
     "metadata": {},
     "output_type": "execute_result"
    }
   ],
   "source": [
    "subnet_particles = t[(t.frame == 1) & ~(t.diag_subnet.isnull())]\n",
    "\n",
    "print(len(subnet_particles), 'particles involved in subnets between frames 0 and 1.')\n",
    "subnet_particles.head().T"
   ]
  },
  {
   "cell_type": "markdown",
   "metadata": {},
   "source": [
    "The subnet columns are as follows:\n",
    "\n",
    "**`diag_subnet`** sequentially numbers each subnet as it is encountered. This allows you to count subnets, and identify particles that are in the same subnet. Note that the numbering is sequential over the *entire movie*. Therefore, to count the subnets in a particular frame, use"
   ]
  },
  {
   "cell_type": "code",
   "execution_count": 8,
   "metadata": {
    "collapsed": false
   },
   "outputs": [
    {
     "data": {
      "text/plain": [
       "44"
      ]
     },
     "execution_count": 8,
     "metadata": {},
     "output_type": "execute_result"
    }
   ],
   "source": [
    "len(subnet_particles.diag_subnet.unique())"
   ]
  },
  {
   "cell_type": "markdown",
   "metadata": {},
   "source": [
    "We can also take this opportunity to show these subnet particles. This would be the starting point for more in-depth spot checks of how subnets were solved."
   ]
  },
  {
   "cell_type": "code",
   "execution_count": 9,
   "metadata": {
    "collapsed": false
   },
   "outputs": [
    {
     "data": {
      "image/png": "[encoded data removed]",
      "text/plain": [
       "<matplotlib.figure.Figure at 0x7feab8006390>"
      ]
     },
     "metadata": {},
     "output_type": "display_data"
    }
   ],
   "source": [
    "tp.annotate(subnet_particles, frames[1], plot_style={'markersize': 10});"
   ]
  },
  {
   "cell_type": "markdown",
   "metadata": {},
   "source": [
    "Like `diag_subnet`, the columns `diag_subnet_size` and `diag_subnet_iterations` also pertain to the entire subnet; all members of a subnet have the same values. It would be nice to consolidate these data into a shorter table of the subnets and their properties. To do this, we can use the powerful grouping and aggregation features of Pandas:"
   ]
  },
  {
   "cell_type": "code",
   "execution_count": 10,
   "metadata": {
    "collapsed": false
   },
   "outputs": [
    {
     "data": {
      "text/html": [
       "<div>\n",
       "<table border=\"1\" class=\"dataframe\">\n",
       "  <thead>\n",
       "    <tr style=\"text-align: right;\">\n",
       "      <th></th>\n",
       "      <th>diag_subnet_size</th>\n",
       "      <th>diag_subnet_iterations</th>\n",
       "      <th>current_size</th>\n",
       "    </tr>\n",
       "    <tr>\n",
       "      <th>diag_subnet</th>\n",
       "      <th></th>\n",
       "      <th></th>\n",
       "      <th></th>\n",
       "    </tr>\n",
       "  </thead>\n",
       "  <tbody>\n",
       "    <tr>\n",
       "      <th>0</th>\n",
       "      <td>1</td>\n",
       "      <td>1</td>\n",
       "      <td>2</td>\n",
       "    </tr>\n",
       "    <tr>\n",
       "      <th>1</th>\n",
       "      <td>2</td>\n",
       "      <td>3</td>\n",
       "      <td>3</td>\n",
       "    </tr>\n",
       "    <tr>\n",
       "      <th>2</th>\n",
       "      <td>1</td>\n",
       "      <td>1</td>\n",
       "      <td>2</td>\n",
       "    </tr>\n",
       "    <tr>\n",
       "      <th>3</th>\n",
       "      <td>2</td>\n",
       "      <td>3</td>\n",
       "      <td>2</td>\n",
       "    </tr>\n",
       "    <tr>\n",
       "      <th>4</th>\n",
       "      <td>2</td>\n",
       "      <td>3</td>\n",
       "      <td>2</td>\n",
       "    </tr>\n",
       "  </tbody>\n",
       "</table>\n",
       "</div>"
      ],
      "text/plain": [
       "             diag_subnet_size  diag_subnet_iterations  current_size\n",
       "diag_subnet                                                        \n",
       "0                           1                       1             2\n",
       "1                           2                       3             3\n",
       "2                           1                       1             2\n",
       "3                           2                       3             2\n",
       "4                           2                       3             2"
      ]
     },
     "execution_count": 10,
     "metadata": {},
     "output_type": "execute_result"
    }
   ],
   "source": [
    "subnets = subnet_particles.groupby('diag_subnet')[['diag_subnet_size', 'diag_subnet_iterations']].first()\n",
    "\n",
    "# Count how many particles in the *present* frame are in each subnet,\n",
    "# and include it in the results.\n",
    "subnet_current_sizes = subnet_particles.diag_subnet.value_counts()\n",
    "subnet_current_sizes.name = 'current_size'\n",
    "subnets = subnets.join(subnet_current_sizes)\n",
    "\n",
    "subnets.head()"
   ]
  },
  {
   "cell_type": "markdown",
   "metadata": {},
   "source": [
    "Each subnet involves a set of trajectories in the past (generally the previous frame), and a set of candidate particles in the present (the frame in which the diagnostic info was recorded). **`diag_subnet_size`** gives the number of particles in the past, and in this example, we computed the `current_size` column to see the number in the present. You can see that some subnets necessitated the ending of a trajectory (e.g. 3 particles to 2), while others  required creation (e.g. 1 to 2).\n",
    "\n",
    "Finally, the **`diag_subnet_iterations`** column counts the number of possible solutions that were explored by the subnet-solving algorithm before it decided which was best. It is therefore roughly proportional to the time spent solving each subnet. These data are recorded by the numba linker only (`link_strategy='numba'`), which is used by default if `numba` is installed. Almost all of the subnets we're examining are small and were solved quickly:"
   ]
  },
  {
   "cell_type": "code",
   "execution_count": 11,
   "metadata": {
    "collapsed": false
   },
   "outputs": [
    {
     "data": {
      "image/png": "[encoded data removed]",
      "text/plain": [
       "<matplotlib.figure.Figure at 0x7feab7d885c0>"
      ]
     },
     "metadata": {},
     "output_type": "display_data"
    }
   ],
   "source": [
    "plt.figure()\n",
    "plt.hist(subnets.diag_subnet_iterations)\n",
    "plt.xlabel('Time to solve subnet (arbitrary units)')\n",
    "plt.ylabel('Number of occurrences');"
   ]
  },
  {
   "cell_type": "markdown",
   "metadata": {},
   "source": [
    "However, a subnet of $\\sim$ 25 particles can easily take $10^9$ iterations or more to solve."
   ]
  }
 ],
 "metadata": {
  "kernelspec": {
   "display_name": "Python 3",
   "language": "python",
   "name": "python3"
  },
  "language_info": {
   "codemirror_mode": {
    "name": "ipython",
    "version": 3
   },
   "file_extension": ".py",
   "mimetype": "text/x-python",
   "name": "python",
   "nbconvert_exporter": "python",
   "pygments_lexer": "ipython3",
   "version": "3.4.3"
  }
 },
 "nbformat": 4,
 "nbformat_minor": 0
}
