{
 "cells": [
  {
   "cell_type": "code",
   "execution_count": 4,
   "metadata": {},
   "outputs": [
    {
     "name": "stdout",
     "output_type": "stream",
     "text": [
      "2480\n"
     ]
    }
   ],
   "source": [
    "import numpy as np\n",
    "import pandas as pd\n",
    "from pandas import DataFrame, Series  # for convenience\n",
    "import matplotlib.pyplot as plt\n",
    "from mpl_toolkits.mplot3d import Axes3D\n",
    "from scipy.optimize import curve_fit\n",
    "from matplotlib import cm\n",
    "from scipy.misc import imsave\n",
    "from scipy.misc import imread\n",
    "import math\n",
    "TL = [[1.1040E-07,2.2954E-05,-4.1584E-03],[1.7160E-05,-1.0348E-06,6.8654E-02],[-3.4505E-03,-7.3661E-02,9.9490E-01]]\n",
    "BL = [[-1.0175E-07,2.1155E-05,-4.2910E-03],[1.5815E-05,9.5369E-07,6.2907E-02],[-2.8931E-03,-6.8254E-02,9.9567E-01]]\n",
    "BR = [[5.7149E-08,1.1882E-05,-2.4321E-03],[8.8831E-06,-5.3566E-07,-3.8744E-02],[-1.6469E-03,3.3774E-02,9.9867E-01]]\n",
    "TR = [[-5.7704E-08,1.1998E-05,-2.1514E-03],[8.9694E-06,5.4087E-07,-3.9328E-02],[-1.7813E-03,3.3894E-02,9.9865E-01]]\n",
    "normal = np.max(TL)\n",
    "MatrixL = np.array(TL)/normal\n",
    "MatrixR = MatrixL.transpose()\n",
    "Freq = 100.*1000.\n",
    "DeltaT = 1/Freq\n",
    "#print(DeltaT)\n",
    "dfL = pd.read_csv('Cam L 18333 track_19m.csv')\n",
    "dfR = pd.read_csv('Cam R 18158 track_15m.csv')\n",
    "#print(dfL.columns.values)\n",
    "#print(dfR.columns.values)\n",
    "imgL = imread('v0.png')\n",
    "imgR = imread('u0.png')\n",
    "x = np.arange(0,384,1)\n",
    "dfL.columns = ['Frame', 'cL','yL','xL','AmpL']\n",
    "dfR.columns = ['Frame', 'cR','yR','xR','AmpR']\n",
    "dfL = dfL.sort_values(['Frame'])\n",
    "dfR = dfR.sort_values(['Frame'])\n",
    "dfL = dfL.set_index('Frame')\n",
    "dfR = dfR.set_index('Frame')\n",
    "#df = dfL\n",
    "#df.merge(dfR, left_on='Frame', right_on='Frame', how='outer')\n",
    "df = pd.concat([dfL,dfR], axis=1)\n",
    "#df = pd.concat([dfL, dfR],join='outer')\n",
    "#dfR.head()\n",
    "df = df.dropna()\n",
    "df.head()\n",
    "#for ii in range(len(df)):\n",
    "#    print(ii,df.index[ii],df['AmpL'].iloc[ii],df['AmpR'].iloc[ii])\n",
    "df['yL'] = 384-df['yL']\n",
    "df['yR'] = 384-df['yR']\n",
    "df['Time'] = df.index*DeltaT\n",
    "print(len(df))"
   ]
  },
  {
   "cell_type": "code",
   "execution_count": 8,
   "metadata": {},
   "outputs": [
    {
     "ename": "IOError",
     "evalue": "[Errno 2] No such file or directory: '/Users/pinghanchu/Documents/Git/Data/Clean_Data_Shot119_Cam_18333/frameL_sum.tif'",
     "output_type": "error",
     "traceback": [
      "\u001b[0;31m---------------------------------------------------------------------------\u001b[0m",
      "\u001b[0;31mIOError\u001b[0m                                   Traceback (most recent call last)",
      "\u001b[0;32m<ipython-input-8-0ef4cb142b69>\u001b[0m in \u001b[0;36m<module>\u001b[0;34m()\u001b[0m\n\u001b[0;32m----> 1\u001b[0;31m \u001b[0mFrameL_sum\u001b[0m \u001b[0;34m=\u001b[0m \u001b[0mimread\u001b[0m\u001b[0;34m(\u001b[0m\u001b[0;34m'/Users/pinghanchu/Documents/Git/Data/Clean_Data_Shot119_Cam_18333/frameL_sum.tif'\u001b[0m\u001b[0;34m)\u001b[0m\u001b[0;34m\u001b[0m\u001b[0m\n\u001b[0m\u001b[1;32m      2\u001b[0m \u001b[0mFrameR_sum\u001b[0m \u001b[0;34m=\u001b[0m \u001b[0mimread\u001b[0m\u001b[0;34m(\u001b[0m\u001b[0;34m'/Users/pinghanchu/Documents/Git/Data/Clean_Data_Shot119_Cam_18158/frameR_sum.tif'\u001b[0m\u001b[0;34m)\u001b[0m\u001b[0;34m\u001b[0m\u001b[0m\n\u001b[1;32m      3\u001b[0m \u001b[0mFrameL_sum\u001b[0m\u001b[0;34m[\u001b[0m\u001b[0mFrameL_sum\u001b[0m\u001b[0;34m>\u001b[0m\u001b[0;36m20\u001b[0m\u001b[0;34m]\u001b[0m \u001b[0;34m=\u001b[0m \u001b[0;36m20\u001b[0m\u001b[0;34m\u001b[0m\u001b[0m\n\u001b[1;32m      4\u001b[0m \u001b[0mFrameR_sum\u001b[0m\u001b[0;34m[\u001b[0m\u001b[0mFrameR_sum\u001b[0m\u001b[0;34m>\u001b[0m\u001b[0;36m20\u001b[0m\u001b[0;34m]\u001b[0m \u001b[0;34m=\u001b[0m \u001b[0;36m20\u001b[0m\u001b[0;34m\u001b[0m\u001b[0m\n\u001b[1;32m      5\u001b[0m \u001b[0mimgL\u001b[0m\u001b[0;34m[\u001b[0m\u001b[0mimgL\u001b[0m\u001b[0;34m>\u001b[0m\u001b[0;36m20\u001b[0m\u001b[0;34m]\u001b[0m\u001b[0;34m=\u001b[0m\u001b[0;36m20\u001b[0m\u001b[0;34m\u001b[0m\u001b[0m\n",
      "\u001b[0;32m/Users/pinghanchu/anaconda/lib/python2.7/site-packages/scipy/misc/pilutil.pyc\u001b[0m in \u001b[0;36mimread\u001b[0;34m(name, flatten, mode)\u001b[0m\n\u001b[1;32m    154\u001b[0m     \"\"\"\n\u001b[1;32m    155\u001b[0m \u001b[0;34m\u001b[0m\u001b[0m\n\u001b[0;32m--> 156\u001b[0;31m     \u001b[0mim\u001b[0m \u001b[0;34m=\u001b[0m \u001b[0mImage\u001b[0m\u001b[0;34m.\u001b[0m\u001b[0mopen\u001b[0m\u001b[0;34m(\u001b[0m\u001b[0mname\u001b[0m\u001b[0;34m)\u001b[0m\u001b[0;34m\u001b[0m\u001b[0m\n\u001b[0m\u001b[1;32m    157\u001b[0m     \u001b[0;32mreturn\u001b[0m \u001b[0mfromimage\u001b[0m\u001b[0;34m(\u001b[0m\u001b[0mim\u001b[0m\u001b[0;34m,\u001b[0m \u001b[0mflatten\u001b[0m\u001b[0;34m=\u001b[0m\u001b[0mflatten\u001b[0m\u001b[0;34m,\u001b[0m \u001b[0mmode\u001b[0m\u001b[0;34m=\u001b[0m\u001b[0mmode\u001b[0m\u001b[0;34m)\u001b[0m\u001b[0;34m\u001b[0m\u001b[0m\n\u001b[1;32m    158\u001b[0m \u001b[0;34m\u001b[0m\u001b[0m\n",
      "\u001b[0;32m/Users/pinghanchu/anaconda/lib/python2.7/site-packages/PIL/Image.pyc\u001b[0m in \u001b[0;36mopen\u001b[0;34m(fp, mode)\u001b[0m\n\u001b[1;32m   2475\u001b[0m \u001b[0;34m\u001b[0m\u001b[0m\n\u001b[1;32m   2476\u001b[0m     \u001b[0;32mif\u001b[0m \u001b[0mfilename\u001b[0m\u001b[0;34m:\u001b[0m\u001b[0;34m\u001b[0m\u001b[0m\n\u001b[0;32m-> 2477\u001b[0;31m         \u001b[0mfp\u001b[0m \u001b[0;34m=\u001b[0m \u001b[0mbuiltins\u001b[0m\u001b[0;34m.\u001b[0m\u001b[0mopen\u001b[0m\u001b[0;34m(\u001b[0m\u001b[0mfilename\u001b[0m\u001b[0;34m,\u001b[0m \u001b[0;34m\"rb\"\u001b[0m\u001b[0;34m)\u001b[0m\u001b[0;34m\u001b[0m\u001b[0m\n\u001b[0m\u001b[1;32m   2478\u001b[0m         \u001b[0mexclusive_fp\u001b[0m \u001b[0;34m=\u001b[0m \u001b[0mTrue\u001b[0m\u001b[0;34m\u001b[0m\u001b[0m\n\u001b[1;32m   2479\u001b[0m \u001b[0;34m\u001b[0m\u001b[0m\n",
      "\u001b[0;31mIOError\u001b[0m: [Errno 2] No such file or directory: '/Users/pinghanchu/Documents/Git/Data/Clean_Data_Shot119_Cam_18333/frameL_sum.tif'"
     ]
    }
   ],
   "source": [
    "FrameL_sum = imread('/Users/pinghanchu/Documents/Git/Data/Clean_Data_Shot119_Cam_18333/frameL_sum.tif')\n",
    "FrameR_sum = imread('/Users/pinghanchu/Documents/Git/Data/Clean_Data_Shot119_Cam_18158/frameR_sum.tif')\n",
    "FrameL_sum[FrameL_sum>20] = 20\n",
    "FrameR_sum[FrameR_sum>20] = 20\n",
    "imgL[imgL>20]=20\n",
    "imgR[imgR>20]=20\n",
    "plt.figure(figsize=(12,12))\n",
    "plt.imshow(imgL+FrameL_sum)\n",
    "plt.plot(df['xL'],df['yL'],color='r')\n",
    "#plt.plot(dfR['xx (horiz)'],dfR['yy (vt)'])\n",
    "plt.show()\n",
    "plt.figure(figsize=(12,12))\n",
    "plt.imshow(imgR+FrameR_sum)\n",
    "plt.plot(df['xR'],df['yR'],color='r')\n",
    "plt.show()\n",
    "plt.show()\n",
    "plt.figure(figsize=(12,12))\n",
    "plt.plot(df['Time'],df['AmpL'],'g')\n",
    "plt.plot(df['Time'],df['AmpR'],'r')\n",
    "plt.show()"
   ]
  },
  {
   "cell_type": "code",
   "execution_count": 1,
   "metadata": {},
   "outputs": [
    {
     "ename": "NameError",
     "evalue": "name 'plt' is not defined",
     "output_type": "error",
     "traceback": [
      "\u001b[0;31m---------------------------------------------------------------------------\u001b[0m",
      "\u001b[0;31mNameError\u001b[0m                                 Traceback (most recent call last)",
      "\u001b[0;32m<ipython-input-1-8e618fdfd6e2>\u001b[0m in \u001b[0;36m<module>\u001b[0;34m()\u001b[0m\n\u001b[0;32m----> 1\u001b[0;31m \u001b[0mplt\u001b[0m\u001b[0;34m.\u001b[0m\u001b[0mfigure\u001b[0m\u001b[0;34m(\u001b[0m\u001b[0mfigsize\u001b[0m\u001b[0;34m=\u001b[0m\u001b[0;34m(\u001b[0m\u001b[0;36m12\u001b[0m\u001b[0;34m,\u001b[0m\u001b[0;36m12\u001b[0m\u001b[0;34m)\u001b[0m\u001b[0;34m)\u001b[0m\u001b[0;34m\u001b[0m\u001b[0m\n\u001b[0m\u001b[1;32m      2\u001b[0m \u001b[0;31m#plt.imshow(imgL+imgR)\u001b[0m\u001b[0;34m\u001b[0m\u001b[0;34m\u001b[0m\u001b[0m\n\u001b[1;32m      3\u001b[0m \u001b[0;31m#for ii in range(len(df)):\u001b[0m\u001b[0;34m\u001b[0m\u001b[0;34m\u001b[0m\u001b[0m\n\u001b[1;32m      4\u001b[0m \u001b[0;32mfor\u001b[0m \u001b[0mii\u001b[0m \u001b[0;32min\u001b[0m \u001b[0mrange\u001b[0m\u001b[0;34m(\u001b[0m\u001b[0;36m0\u001b[0m\u001b[0;34m,\u001b[0m\u001b[0;36m10\u001b[0m\u001b[0;34m)\u001b[0m\u001b[0;34m:\u001b[0m\u001b[0;34m\u001b[0m\u001b[0m\n\u001b[1;32m      5\u001b[0m     \u001b[0mframe\u001b[0m \u001b[0;34m=\u001b[0m \u001b[0mdf\u001b[0m\u001b[0;34m.\u001b[0m\u001b[0mindex\u001b[0m\u001b[0;34m[\u001b[0m\u001b[0mii\u001b[0m\u001b[0;34m]\u001b[0m\u001b[0;34m\u001b[0m\u001b[0m\n",
      "\u001b[0;31mNameError\u001b[0m: name 'plt' is not defined"
     ]
    }
   ],
   "source": [
    "plt.figure(figsize=(12,12))\n",
    "#plt.imshow(imgL+imgR)\n",
    "#for ii in range(len(df)):\n",
    "for ii in range(0,10):\n",
    "    frame = df.index[ii]\n",
    "    xL = df['xL'].iloc[ii]\n",
    "    yL = df['yL'].iloc[ii]\n",
    "    xR = df['xR'].iloc[ii]\n",
    "    yR = df['yR'].iloc[ii]\n",
    "    ipL = [xL,yL,1]\n",
    "    ipR = [xR,yR,1]\n",
    "    LineL = np.dot(ipR,MatrixR) #points in the right frame and the corresponding epipolar lines in the left frame\n",
    "    LineR = np.dot(ipL,MatrixL) #points in the left frame and the corresponding epipolar lines in the right frame\n",
    "    LineyL = (-LineL[2]-LineL[0]*x)/LineL[1]\n",
    "    LineyR = (-LineR[2]-LineR[0]*x)/LineR[1]\n",
    "    dlr = math.fabs(np.dot(ipL,LineL))/math.sqrt(LineL[0]*LineL[0]+LineL[1]*LineL[1])\n",
    "    drl = math.fabs(np.dot(ipR,LineR))/math.sqrt(LineR[0]*LineR[0]+LineR[1]*LineR[1])\n",
    "    plt.plot(x,LineyL,color='g')\n",
    "    plt.plot(x,LineyR,color='r')\n",
    "    plt.plot(xL,yL,'o',color='b')\n",
    "    plt.plot(xR,yR,'o',color='y')\n",
    "    print(ii,frame,xL,yL,xR,yR,dlr,drl)\n",
    "plt.show()"
   ]
  },
  {
   "cell_type": "code",
   "execution_count": 53,
   "metadata": {},
   "outputs": [
    {
     "name": "stdout",
     "output_type": "stream",
     "text": [
      "(911, 296.0, 185.0, 99.0, 186.0)\n",
      "(912, 296.0, 185.0, 99.0, 186.0)\n",
      "(913, 296.0, 185.0, 99.0, 186.0)\n",
      "(914, 296.0, 185.0, 99.0, 186.0)\n",
      "(915, 296.0, 185.0, 99.0, 186.0)\n",
      "(916, 297.0, 185.0, 99.0, 186.0)\n",
      "(917, 297.0, 185.0, 99.0, 186.0)\n",
      "(918, 297.0, 185.0, 99.0, 186.0)\n",
      "(919, 297.0, 186.0, 99.0, 186.0)\n",
      "(920, 297.0, 186.0, 99.0, 186.0)\n"
     ]
    }
   ],
   "source": [
    "for ii in range(0,10):\n",
    "    frame = df.index[ii]\n",
    "    xL = df['xL'].iloc[ii]\n",
    "    yL = df['yL'].iloc[ii]\n",
    "    xR = df['xR'].iloc[ii]\n",
    "    yR = df['yR'].iloc[ii]\n",
    "    print(frame,xL,yL,xR,yR)"
   ]
  },
  {
   "cell_type": "code",
   "execution_count": null,
   "metadata": {
    "collapsed": true
   },
   "outputs": [],
   "source": []
  },
  {
   "cell_type": "code",
   "execution_count": null,
   "metadata": {
    "collapsed": true
   },
   "outputs": [],
   "source": []
  }
 ],
 "metadata": {
  "kernelspec": {
   "display_name": "Python 2",
   "language": "python",
   "name": "python2"
  },
  "language_info": {
   "codemirror_mode": {
    "name": "ipython",
    "version": 2
   },
   "file_extension": ".py",
   "mimetype": "text/x-python",
   "name": "python",
   "nbconvert_exporter": "python",
   "pygments_lexer": "ipython2",
   "version": "2.7.13"
  }
 },
 "nbformat": 4,
 "nbformat_minor": 2
}
