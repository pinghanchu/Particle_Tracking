{
 "cells": [
  {
   "cell_type": "code",
   "execution_count": 1,
   "metadata": {
    "collapsed": true
   },
   "outputs": [],
   "source": [
    "from scipy.optimize import curve_fit\n",
    "import numpy as np\n",
    "\n",
    "def colville(x,x3,x4):\n",
    "    x1,x2 = x[:,0],x[:,1]\n",
    "    return 100*(x1**2 - x2)**2 + (x1-1)**2 + (x3-1)**2 + \\\n",
    "            90*(x3**2 - x4)**2 + \\\n",
    "            10.1*((x2 - 1)**2 + (x4 - 1)**2) + \\\n",
    "            19.8*(x2 - 1)*(x4 - 1)"
   ]
  },
  {
   "cell_type": "code",
   "execution_count": 23,
   "metadata": {},
   "outputs": [],
   "source": [
    "datax = np.array([[x,x] for x in range(-10,10)])\n",
    "datax = datax.astype(float)\n",
    "datax += 2*np.random.rand()\n",
    "#print(type(datax))\n",
    "#print(datax)"
   ]
  },
  {
   "cell_type": "code",
   "execution_count": 21,
   "metadata": {},
   "outputs": [
    {
     "name": "stdout",
     "output_type": "stream",
     "text": [
      "<type 'numpy.ndarray'>\n",
      "opt: [ 3.5  4.5]\n"
     ]
    }
   ],
   "source": [
    "x3 = 3.5\n",
    "x4 = 4.5\n",
    "dataz = colville(datax, x3, x4)\n",
    "print(type(dataz))\n",
    "optimalparams, covmatrix = curve_fit(colville, datax, dataz)\n",
    "print 'opt:',optimalparams"
   ]
  },
  {
   "cell_type": "code",
   "execution_count": null,
   "metadata": {
    "collapsed": true
   },
   "outputs": [],
   "source": []
  }
 ],
 "metadata": {
  "kernelspec": {
   "display_name": "Python 2",
   "language": "python",
   "name": "python2"
  },
  "language_info": {
   "codemirror_mode": {
    "name": "ipython",
    "version": 2
   },
   "file_extension": ".py",
   "mimetype": "text/x-python",
   "name": "python",
   "nbconvert_exporter": "python",
   "pygments_lexer": "ipython2",
   "version": "2.7.13"
  }
 },
 "nbformat": 4,
 "nbformat_minor": 2
}
